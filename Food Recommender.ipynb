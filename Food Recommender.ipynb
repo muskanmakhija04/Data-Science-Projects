{
 "cells": [
  {
   "cell_type": "code",
   "execution_count": 29,
   "id": "12841318",
   "metadata": {},
   "outputs": [],
   "source": [
    "import numpy as np\n",
    "import pandas as pd\n",
    "import matplotlib.pyplot as plt\n",
    "import seaborn as sns\n",
    "%matplotlib inline"
   ]
  },
  {
   "cell_type": "code",
   "execution_count": 30,
   "id": "ce928492",
   "metadata": {},
   "outputs": [],
   "source": [
    "df = pd.read_csv('food.csv')"
   ]
  },
  {
   "cell_type": "code",
   "execution_count": 31,
   "id": "4790ab0a",
   "metadata": {},
   "outputs": [
    {
     "name": "stdout",
     "output_type": "stream",
     "text": [
      "<class 'pandas.core.frame.DataFrame'>\n",
      "RangeIndex: 400 entries, 0 to 399\n",
      "Data columns (total 5 columns):\n",
      " #   Column    Non-Null Count  Dtype \n",
      "---  ------    --------------  ----- \n",
      " 0   Food_ID   400 non-null    int64 \n",
      " 1   Name      400 non-null    object\n",
      " 2   C_Type    400 non-null    object\n",
      " 3   Veg_Non   400 non-null    object\n",
      " 4   Describe  400 non-null    object\n",
      "dtypes: int64(1), object(4)\n",
      "memory usage: 15.8+ KB\n"
     ]
    }
   ],
   "source": [
    "\n",
    "df.info()"
   ]
  },
  {
   "cell_type": "code",
   "execution_count": 32,
   "id": "90c31029",
   "metadata": {},
   "outputs": [
    {
     "data": {
      "text/html": [
       "<div>\n",
       "<style scoped>\n",
       "    .dataframe tbody tr th:only-of-type {\n",
       "        vertical-align: middle;\n",
       "    }\n",
       "\n",
       "    .dataframe tbody tr th {\n",
       "        vertical-align: top;\n",
       "    }\n",
       "\n",
       "    .dataframe thead th {\n",
       "        text-align: right;\n",
       "    }\n",
       "</style>\n",
       "<table border=\"1\" class=\"dataframe\">\n",
       "  <thead>\n",
       "    <tr style=\"text-align: right;\">\n",
       "      <th></th>\n",
       "      <th>Food_ID</th>\n",
       "      <th>Name</th>\n",
       "      <th>C_Type</th>\n",
       "      <th>Veg_Non</th>\n",
       "      <th>Describe</th>\n",
       "    </tr>\n",
       "  </thead>\n",
       "  <tbody>\n",
       "    <tr>\n",
       "      <th>0</th>\n",
       "      <td>1</td>\n",
       "      <td>summer squash salad</td>\n",
       "      <td>Healthy Food</td>\n",
       "      <td>veg</td>\n",
       "      <td>white balsamic vinegar, lemon juice, lemon rin...</td>\n",
       "    </tr>\n",
       "    <tr>\n",
       "      <th>1</th>\n",
       "      <td>2</td>\n",
       "      <td>chicken minced salad</td>\n",
       "      <td>Healthy Food</td>\n",
       "      <td>non-veg</td>\n",
       "      <td>olive oil, chicken mince, garlic (minced), oni...</td>\n",
       "    </tr>\n",
       "    <tr>\n",
       "      <th>2</th>\n",
       "      <td>3</td>\n",
       "      <td>sweet chilli almonds</td>\n",
       "      <td>Snack</td>\n",
       "      <td>veg</td>\n",
       "      <td>almonds whole, egg white, curry leaves, salt, ...</td>\n",
       "    </tr>\n",
       "    <tr>\n",
       "      <th>3</th>\n",
       "      <td>4</td>\n",
       "      <td>tricolour salad</td>\n",
       "      <td>Healthy Food</td>\n",
       "      <td>veg</td>\n",
       "      <td>vinegar, honey/sugar, soy sauce, salt, garlic ...</td>\n",
       "    </tr>\n",
       "    <tr>\n",
       "      <th>4</th>\n",
       "      <td>5</td>\n",
       "      <td>christmas cake</td>\n",
       "      <td>Dessert</td>\n",
       "      <td>veg</td>\n",
       "      <td>christmas dry fruits (pre-soaked), orange zest...</td>\n",
       "    </tr>\n",
       "  </tbody>\n",
       "</table>\n",
       "</div>"
      ],
      "text/plain": [
       "   Food_ID                  Name        C_Type  Veg_Non  \\\n",
       "0        1   summer squash salad  Healthy Food      veg   \n",
       "1        2  chicken minced salad  Healthy Food  non-veg   \n",
       "2        3  sweet chilli almonds         Snack      veg   \n",
       "3        4       tricolour salad  Healthy Food      veg   \n",
       "4        5        christmas cake       Dessert      veg   \n",
       "\n",
       "                                            Describe  \n",
       "0  white balsamic vinegar, lemon juice, lemon rin...  \n",
       "1  olive oil, chicken mince, garlic (minced), oni...  \n",
       "2  almonds whole, egg white, curry leaves, salt, ...  \n",
       "3  vinegar, honey/sugar, soy sauce, salt, garlic ...  \n",
       "4  christmas dry fruits (pre-soaked), orange zest...  "
      ]
     },
     "execution_count": 32,
     "metadata": {},
     "output_type": "execute_result"
    }
   ],
   "source": [
    "df.head()"
   ]
  },
  {
   "cell_type": "code",
   "execution_count": 33,
   "id": "17090999",
   "metadata": {},
   "outputs": [
    {
     "data": {
      "text/plain": [
       "Food_ID     0\n",
       "Name        0\n",
       "C_Type      0\n",
       "Veg_Non     0\n",
       "Describe    0\n",
       "dtype: int64"
      ]
     },
     "execution_count": 33,
     "metadata": {},
     "output_type": "execute_result"
    }
   ],
   "source": [
    "df.isnull().sum()"
   ]
  },
  {
   "cell_type": "code",
   "execution_count": 34,
   "id": "ab0e1098",
   "metadata": {},
   "outputs": [
    {
     "data": {
      "text/plain": [
       "Indian          88\n",
       "Healthy Food    58\n",
       "Dessert         53\n",
       "Chinese         27\n",
       "Italian         25\n",
       "Snack           23\n",
       "Thai            23\n",
       "French          22\n",
       "Mexican         21\n",
       "Japanese        18\n",
       "Beverage        11\n",
       "Nepalese        11\n",
       "Korean           9\n",
       "Vietnames        9\n",
       " Korean          1\n",
       "Spanish          1\n",
       "Name: C_Type, dtype: int64"
      ]
     },
     "execution_count": 34,
     "metadata": {},
     "output_type": "execute_result"
    }
   ],
   "source": [
    "df['C_Type'].value_counts()"
   ]
  },
  {
   "cell_type": "code",
   "execution_count": 35,
   "id": "74ab9a52",
   "metadata": {},
   "outputs": [
    {
     "data": {
      "text/plain": [
       "veg        238\n",
       "non-veg    162\n",
       "Name: Veg_Non, dtype: int64"
      ]
     },
     "execution_count": 35,
     "metadata": {},
     "output_type": "execute_result"
    }
   ],
   "source": [
    "df['Veg_Non'].value_counts()"
   ]
  },
  {
   "cell_type": "code",
   "execution_count": 36,
   "id": "01dfae2e",
   "metadata": {},
   "outputs": [
    {
     "data": {
      "text/plain": [
       "0"
      ]
     },
     "execution_count": 36,
     "metadata": {},
     "output_type": "execute_result"
    }
   ],
   "source": [
    "df.duplicated().sum()"
   ]
  },
  {
   "cell_type": "code",
   "execution_count": 37,
   "id": "f1b8fd48",
   "metadata": {},
   "outputs": [],
   "source": [
    "import nltk\n",
    "import re\n",
    "from nltk.corpus import stopwords\n",
    "import string\n",
    "from nltk.tokenize import word_tokenize\n",
    "from nltk.stem import WordNetLemmatizer"
   ]
  },
  {
   "cell_type": "code",
   "execution_count": 100,
   "id": "4057531c",
   "metadata": {},
   "outputs": [],
   "source": [
    "stop_words = set(stopwords.words('english'))\n",
    "lemmatizer = WordNetLemmatizer()\n",
    "def cleaning_text(text):\n",
    "    text = text.lower()\n",
    "    text = ''.join([' ' + char if char in string.punctuation else char for char in text])\n",
    "    text = \"\".join([char for char in text if char not in string.punctuation])\n",
    "    text = \" \".join([char for char in text.split() if char not in stop_words])\n",
    "    tokens = word_tokenize(text)\n",
    "    processed_text = \"\".join([lemmatizer.lemmatize(token) for token in tokens])\n",
    "    return text"
   ]
  },
  {
   "cell_type": "code",
   "execution_count": 101,
   "id": "a69a4882",
   "metadata": {},
   "outputs": [
    {
     "data": {
      "text/plain": [
       "0      white balsamic vinegar, lemon juice, lemon rin...\n",
       "1      olive oil, chicken mince, garlic (minced), oni...\n",
       "2      almonds whole, egg white, curry leaves, salt, ...\n",
       "3      vinegar, honey/sugar, soy sauce, salt, garlic ...\n",
       "4      christmas dry fruits (pre-soaked), orange zest...\n",
       "                             ...                        \n",
       "395     cream cheese, chopped kimchi, scallions,count...\n",
       "396    poblano chiles, bacon, shrips, red salsa, garl...\n",
       "397    broccoli,Bread Crumbs,  anchovy fillets, garli...\n",
       "398    egg yolks,lemon juice, unsalted butter, all pu...\n",
       "399    kosher salt, rosemary, garlic, potato, olive o...\n",
       "Name: Describe, Length: 400, dtype: object"
      ]
     },
     "execution_count": 101,
     "metadata": {},
     "output_type": "execute_result"
    }
   ],
   "source": [
    "df['Describe']"
   ]
  },
  {
   "cell_type": "code",
   "execution_count": 103,
   "id": "669ae3e3",
   "metadata": {},
   "outputs": [],
   "source": [
    "df['Describe'] = df['Describe'].apply(cleaning_text)"
   ]
  },
  {
   "cell_type": "code",
   "execution_count": 104,
   "id": "0971ae95",
   "metadata": {},
   "outputs": [
    {
     "data": {
      "text/plain": [
       "0      white balsamic vinegar lemon juice lemon rind ...\n",
       "1      olive oil chicken mince garlic minced onion sa...\n",
       "2      almonds whole egg white curry leaves salt suga...\n",
       "3      vinegar honey sugar soy sauce salt garlic clov...\n",
       "4      christmas dry fruits pre soaked orange zest le...\n",
       "                             ...                        \n",
       "395    cream cheese chopped kimchi scallions country ...\n",
       "396    poblano chiles bacon shrips red salsa garlic c...\n",
       "397    broccoli bread crumbs anchovy fillets garlic c...\n",
       "398    egg yolks lemon juice unsalted butter purpose ...\n",
       "399    kosher salt rosemary garlic potato olive oil c...\n",
       "Name: Describe, Length: 400, dtype: object"
      ]
     },
     "execution_count": 104,
     "metadata": {},
     "output_type": "execute_result"
    }
   ],
   "source": [
    "df['Describe']"
   ]
  },
  {
   "cell_type": "markdown",
   "id": "a8400e2c",
   "metadata": {},
   "source": [
    "# Content Based Filtering"
   ]
  },
  {
   "cell_type": "code",
   "execution_count": 105,
   "id": "04de2aea",
   "metadata": {},
   "outputs": [],
   "source": [
    "from sklearn.feature_extraction.text import TfidfVectorizer"
   ]
  },
  {
   "cell_type": "code",
   "execution_count": 106,
   "id": "210c65bb",
   "metadata": {},
   "outputs": [],
   "source": [
    "tfidf = TfidfVectorizer()"
   ]
  },
  {
   "cell_type": "code",
   "execution_count": 107,
   "id": "2afd0d21",
   "metadata": {},
   "outputs": [],
   "source": [
    "vectors = tfidf.fit_transform(df['Describe'])"
   ]
  },
  {
   "cell_type": "code",
   "execution_count": 109,
   "id": "10b1c965",
   "metadata": {},
   "outputs": [
    {
     "data": {
      "text/plain": [
       "(400, 1187)"
      ]
     },
     "execution_count": 109,
     "metadata": {},
     "output_type": "execute_result"
    }
   ],
   "source": [
    "vectors.shape"
   ]
  },
  {
   "cell_type": "code",
   "execution_count": 110,
   "id": "44cffa0f",
   "metadata": {},
   "outputs": [],
   "source": [
    "from sklearn.metrics.pairwise import cosine_similarity"
   ]
  },
  {
   "cell_type": "code",
   "execution_count": 111,
   "id": "56f50f6b",
   "metadata": {},
   "outputs": [],
   "source": [
    "similarity = cosine_similarity(vectors)"
   ]
  },
  {
   "cell_type": "code",
   "execution_count": 112,
   "id": "b2a9f270",
   "metadata": {},
   "outputs": [
    {
     "data": {
      "text/plain": [
       "(400, 400)"
      ]
     },
     "execution_count": 112,
     "metadata": {},
     "output_type": "execute_result"
    }
   ],
   "source": [
    "similarity.shape"
   ]
  },
  {
   "cell_type": "code",
   "execution_count": 119,
   "id": "5c4efed9",
   "metadata": {},
   "outputs": [
    {
     "data": {
      "text/plain": [
       "1"
      ]
     },
     "execution_count": 119,
     "metadata": {},
     "output_type": "execute_result"
    }
   ],
   "source": [
    "df[df['Name'] =='chicken minced salad'].index[0] # to find the index"
   ]
  },
  {
   "cell_type": "code",
   "execution_count": 123,
   "id": "70dde9f8",
   "metadata": {},
   "outputs": [],
   "source": [
    "def food_recommend(food):\n",
    "    food_index = df[df['Name']== food].index[0]\n",
    "    distances = similarity[food_index]\n",
    "    food_list = sorted(list(enumerate(distances)),reverse = True, key = lambda x:x[1])[1:6]\n",
    "                       \n",
    "    for i in food_list:\n",
    "        \n",
    "        print(df.iloc[i[0]]['Name'])\n",
    "        "
   ]
  },
  {
   "cell_type": "code",
   "execution_count": 124,
   "id": "5ba265c4",
   "metadata": {},
   "outputs": [
    {
     "name": "stdout",
     "output_type": "stream",
     "text": [
      "baked namakpara with roasted almond dip\n",
      "shrimp & cilantro ceviche\n",
      "spanish fish fry\n",
      "green cucumber shots\n",
      "amaranthus granola with lemon yogurt, berries and marigold\n"
     ]
    }
   ],
   "source": [
    "food_recommend('summer squash salad')"
   ]
  },
  {
   "cell_type": "code",
   "execution_count": 127,
   "id": "eddbd6c5",
   "metadata": {},
   "outputs": [
    {
     "name": "stdout",
     "output_type": "stream",
     "text": [
      "veg hakka noodles\n",
      "chilli chicken\n",
      "prawn fried rice\n",
      "egg and garlic fried rice\n",
      "Crispy Pakora\n"
     ]
    }
   ],
   "source": [
    "food_recommend('veg fried rice')"
   ]
  },
  {
   "cell_type": "markdown",
   "id": "c81435c7",
   "metadata": {},
   "source": [
    "# Advanced content Based Filtering"
   ]
  },
  {
   "cell_type": "code",
   "execution_count": 131,
   "id": "cbab1657",
   "metadata": {},
   "outputs": [],
   "source": [
    "df['Description'] =  df['C_Type'] + \" \" + df['Veg_Non'] + \" \" + df['Describe']"
   ]
  },
  {
   "cell_type": "code",
   "execution_count": 132,
   "id": "dbd61c3d",
   "metadata": {},
   "outputs": [
    {
     "data": {
      "text/html": [
       "<div>\n",
       "<style scoped>\n",
       "    .dataframe tbody tr th:only-of-type {\n",
       "        vertical-align: middle;\n",
       "    }\n",
       "\n",
       "    .dataframe tbody tr th {\n",
       "        vertical-align: top;\n",
       "    }\n",
       "\n",
       "    .dataframe thead th {\n",
       "        text-align: right;\n",
       "    }\n",
       "</style>\n",
       "<table border=\"1\" class=\"dataframe\">\n",
       "  <thead>\n",
       "    <tr style=\"text-align: right;\">\n",
       "      <th></th>\n",
       "      <th>Food_ID</th>\n",
       "      <th>Name</th>\n",
       "      <th>C_Type</th>\n",
       "      <th>Veg_Non</th>\n",
       "      <th>Describe</th>\n",
       "      <th>Description</th>\n",
       "    </tr>\n",
       "  </thead>\n",
       "  <tbody>\n",
       "    <tr>\n",
       "      <th>0</th>\n",
       "      <td>1</td>\n",
       "      <td>summer squash salad</td>\n",
       "      <td>Healthy Food</td>\n",
       "      <td>veg</td>\n",
       "      <td>white balsamic vinegar lemon juice lemon rind ...</td>\n",
       "      <td>Healthy Food veg white balsamic vinegar lemon ...</td>\n",
       "    </tr>\n",
       "    <tr>\n",
       "      <th>1</th>\n",
       "      <td>2</td>\n",
       "      <td>chicken minced salad</td>\n",
       "      <td>Healthy Food</td>\n",
       "      <td>non-veg</td>\n",
       "      <td>olive oil chicken mince garlic minced onion sa...</td>\n",
       "      <td>Healthy Food non-veg olive oil chicken mince g...</td>\n",
       "    </tr>\n",
       "    <tr>\n",
       "      <th>2</th>\n",
       "      <td>3</td>\n",
       "      <td>sweet chilli almonds</td>\n",
       "      <td>Snack</td>\n",
       "      <td>veg</td>\n",
       "      <td>almonds whole egg white curry leaves salt suga...</td>\n",
       "      <td>Snack veg almonds whole egg white curry leaves...</td>\n",
       "    </tr>\n",
       "    <tr>\n",
       "      <th>3</th>\n",
       "      <td>4</td>\n",
       "      <td>tricolour salad</td>\n",
       "      <td>Healthy Food</td>\n",
       "      <td>veg</td>\n",
       "      <td>vinegar honey sugar soy sauce salt garlic clov...</td>\n",
       "      <td>Healthy Food veg vinegar honey sugar soy sauce...</td>\n",
       "    </tr>\n",
       "    <tr>\n",
       "      <th>4</th>\n",
       "      <td>5</td>\n",
       "      <td>christmas cake</td>\n",
       "      <td>Dessert</td>\n",
       "      <td>veg</td>\n",
       "      <td>christmas dry fruits pre soaked orange zest le...</td>\n",
       "      <td>Dessert veg christmas dry fruits pre soaked or...</td>\n",
       "    </tr>\n",
       "    <tr>\n",
       "      <th>...</th>\n",
       "      <td>...</td>\n",
       "      <td>...</td>\n",
       "      <td>...</td>\n",
       "      <td>...</td>\n",
       "      <td>...</td>\n",
       "      <td>...</td>\n",
       "    </tr>\n",
       "    <tr>\n",
       "      <th>395</th>\n",
       "      <td>396</td>\n",
       "      <td>Kimchi Toast</td>\n",
       "      <td>Korean</td>\n",
       "      <td>veg</td>\n",
       "      <td>cream cheese chopped kimchi scallions country ...</td>\n",
       "      <td>Korean veg cream cheese chopped kimchi scallio...</td>\n",
       "    </tr>\n",
       "    <tr>\n",
       "      <th>396</th>\n",
       "      <td>397</td>\n",
       "      <td>Tacos de Gobernador (Shrimp, Poblano, and Chee...</td>\n",
       "      <td>Mexican</td>\n",
       "      <td>non-veg</td>\n",
       "      <td>poblano chiles bacon shrips red salsa garlic c...</td>\n",
       "      <td>Mexican non-veg poblano chiles bacon shrips re...</td>\n",
       "    </tr>\n",
       "    <tr>\n",
       "      <th>397</th>\n",
       "      <td>398</td>\n",
       "      <td>Melted Broccoli Pasta With Capers and Anchovies</td>\n",
       "      <td>French</td>\n",
       "      <td>non-veg</td>\n",
       "      <td>broccoli bread crumbs anchovy fillets garlic c...</td>\n",
       "      <td>French non-veg broccoli bread crumbs anchovy f...</td>\n",
       "    </tr>\n",
       "    <tr>\n",
       "      <th>398</th>\n",
       "      <td>399</td>\n",
       "      <td>Lemon-Ginger Cake with Pistachios</td>\n",
       "      <td>Dessert</td>\n",
       "      <td>non-veg</td>\n",
       "      <td>egg yolks lemon juice unsalted butter purpose ...</td>\n",
       "      <td>Dessert non-veg egg yolks lemon juice unsalted...</td>\n",
       "    </tr>\n",
       "    <tr>\n",
       "      <th>399</th>\n",
       "      <td>400</td>\n",
       "      <td>Rosemary Roasted Vegetables</td>\n",
       "      <td>Healthy Food</td>\n",
       "      <td>veg</td>\n",
       "      <td>kosher salt rosemary garlic potato olive oil c...</td>\n",
       "      <td>Healthy Food veg kosher salt rosemary garlic p...</td>\n",
       "    </tr>\n",
       "  </tbody>\n",
       "</table>\n",
       "<p>400 rows × 6 columns</p>\n",
       "</div>"
      ],
      "text/plain": [
       "     Food_ID                                               Name        C_Type  \\\n",
       "0          1                                summer squash salad  Healthy Food   \n",
       "1          2                               chicken minced salad  Healthy Food   \n",
       "2          3                               sweet chilli almonds         Snack   \n",
       "3          4                                    tricolour salad  Healthy Food   \n",
       "4          5                                     christmas cake       Dessert   \n",
       "..       ...                                                ...           ...   \n",
       "395      396                                       Kimchi Toast        Korean   \n",
       "396      397  Tacos de Gobernador (Shrimp, Poblano, and Chee...       Mexican   \n",
       "397      398    Melted Broccoli Pasta With Capers and Anchovies        French   \n",
       "398      399                  Lemon-Ginger Cake with Pistachios       Dessert   \n",
       "399      400                        Rosemary Roasted Vegetables  Healthy Food   \n",
       "\n",
       "     Veg_Non                                           Describe  \\\n",
       "0        veg  white balsamic vinegar lemon juice lemon rind ...   \n",
       "1    non-veg  olive oil chicken mince garlic minced onion sa...   \n",
       "2        veg  almonds whole egg white curry leaves salt suga...   \n",
       "3        veg  vinegar honey sugar soy sauce salt garlic clov...   \n",
       "4        veg  christmas dry fruits pre soaked orange zest le...   \n",
       "..       ...                                                ...   \n",
       "395      veg  cream cheese chopped kimchi scallions country ...   \n",
       "396  non-veg  poblano chiles bacon shrips red salsa garlic c...   \n",
       "397  non-veg  broccoli bread crumbs anchovy fillets garlic c...   \n",
       "398  non-veg  egg yolks lemon juice unsalted butter purpose ...   \n",
       "399      veg  kosher salt rosemary garlic potato olive oil c...   \n",
       "\n",
       "                                           Description  \n",
       "0    Healthy Food veg white balsamic vinegar lemon ...  \n",
       "1    Healthy Food non-veg olive oil chicken mince g...  \n",
       "2    Snack veg almonds whole egg white curry leaves...  \n",
       "3    Healthy Food veg vinegar honey sugar soy sauce...  \n",
       "4    Dessert veg christmas dry fruits pre soaked or...  \n",
       "..                                                 ...  \n",
       "395  Korean veg cream cheese chopped kimchi scallio...  \n",
       "396  Mexican non-veg poblano chiles bacon shrips re...  \n",
       "397  French non-veg broccoli bread crumbs anchovy f...  \n",
       "398  Dessert non-veg egg yolks lemon juice unsalted...  \n",
       "399  Healthy Food veg kosher salt rosemary garlic p...  \n",
       "\n",
       "[400 rows x 6 columns]"
      ]
     },
     "execution_count": 132,
     "metadata": {},
     "output_type": "execute_result"
    }
   ],
   "source": [
    "df"
   ]
  },
  {
   "cell_type": "code",
   "execution_count": 133,
   "id": "f7490462",
   "metadata": {},
   "outputs": [
    {
     "data": {
      "text/plain": [
       "0      Healthy Food veg white balsamic vinegar lemon ...\n",
       "1      Healthy Food non-veg olive oil chicken mince g...\n",
       "2      Snack veg almonds whole egg white curry leaves...\n",
       "3      Healthy Food veg vinegar honey sugar soy sauce...\n",
       "4      Dessert veg christmas dry fruits pre soaked or...\n",
       "                             ...                        \n",
       "395    Korean veg cream cheese chopped kimchi scallio...\n",
       "396    Mexican non-veg poblano chiles bacon shrips re...\n",
       "397    French non-veg broccoli bread crumbs anchovy f...\n",
       "398    Dessert non-veg egg yolks lemon juice unsalted...\n",
       "399    Healthy Food veg kosher salt rosemary garlic p...\n",
       "Name: Description, Length: 400, dtype: object"
      ]
     },
     "execution_count": 133,
     "metadata": {},
     "output_type": "execute_result"
    }
   ],
   "source": [
    "df['Description']"
   ]
  },
  {
   "cell_type": "code",
   "execution_count": 136,
   "id": "93d455ae",
   "metadata": {},
   "outputs": [
    {
     "data": {
      "text/plain": [
       "0      healthy food veg white balsamic vinegar lemon ...\n",
       "1      healthy food non-veg olive oil chicken mince g...\n",
       "2      snack veg almonds whole egg white curry leaves...\n",
       "3      healthy food veg vinegar honey sugar soy sauce...\n",
       "4      dessert veg christmas dry fruits pre soaked or...\n",
       "                             ...                        \n",
       "395    korean veg cream cheese chopped kimchi scallio...\n",
       "396    mexican non-veg poblano chiles bacon shrips re...\n",
       "397    french non-veg broccoli bread crumbs anchovy f...\n",
       "398    dessert non-veg egg yolks lemon juice unsalted...\n",
       "399    healthy food veg kosher salt rosemary garlic p...\n",
       "Name: Description, Length: 400, dtype: object"
      ]
     },
     "execution_count": 136,
     "metadata": {},
     "output_type": "execute_result"
    }
   ],
   "source": [
    "df['Description'].str.lower()"
   ]
  },
  {
   "cell_type": "code",
   "execution_count": 137,
   "id": "ac00230f",
   "metadata": {},
   "outputs": [],
   "source": [
    "from sklearn.feature_extraction.text import CountVectorizer"
   ]
  },
  {
   "cell_type": "code",
   "execution_count": 138,
   "id": "ba382d02",
   "metadata": {},
   "outputs": [],
   "source": [
    "vector = CountVectorizer()"
   ]
  },
  {
   "cell_type": "code",
   "execution_count": 139,
   "id": "cd659c77",
   "metadata": {},
   "outputs": [],
   "source": [
    "vec_desc =  vector.fit_transform(df['Description'])"
   ]
  },
  {
   "cell_type": "code",
   "execution_count": 140,
   "id": "c26757a1",
   "metadata": {},
   "outputs": [
    {
     "data": {
      "text/plain": [
       "(400, 1196)"
      ]
     },
     "execution_count": 140,
     "metadata": {},
     "output_type": "execute_result"
    }
   ],
   "source": [
    "vec_desc.shape"
   ]
  },
  {
   "cell_type": "code",
   "execution_count": 141,
   "id": "9fae29db",
   "metadata": {},
   "outputs": [],
   "source": [
    "similar_vec = cosine_similarity(vec_desc)"
   ]
  },
  {
   "cell_type": "code",
   "execution_count": 142,
   "id": "dba6ebb4",
   "metadata": {},
   "outputs": [
    {
     "data": {
      "text/plain": [
       "(400, 400)"
      ]
     },
     "execution_count": 142,
     "metadata": {},
     "output_type": "execute_result"
    }
   ],
   "source": [
    "similar_vec.shape"
   ]
  },
  {
   "cell_type": "code",
   "execution_count": 150,
   "id": "8c9a7564",
   "metadata": {},
   "outputs": [
    {
     "data": {
      "text/plain": [
       "array([[1.        , 0.37282186, 0.24397502, ..., 0.32084447, 0.20203051,\n",
       "        0.39036003],\n",
       "       [0.37282186, 1.        , 0.16979054, ..., 0.3588535 , 0.17574991,\n",
       "        0.42447636],\n",
       "       [0.24397502, 0.16979054, 1.        , ..., 0.12524486, 0.20701967,\n",
       "        0.13333333],\n",
       "       ...,\n",
       "       [0.32084447, 0.3588535 , 0.12524486, ..., 1.        , 0.12964074,\n",
       "        0.31311215],\n",
       "       [0.20203051, 0.17574991, 0.20701967, ..., 0.12964074, 1.        ,\n",
       "        0.06900656],\n",
       "       [0.39036003, 0.42447636, 0.13333333, ..., 0.31311215, 0.06900656,\n",
       "        1.        ]])"
      ]
     },
     "execution_count": 150,
     "metadata": {},
     "output_type": "execute_result"
    }
   ],
   "source": [
    "similar_vec"
   ]
  },
  {
   "cell_type": "code",
   "execution_count": 204,
   "id": "9ef899df",
   "metadata": {},
   "outputs": [],
   "source": [
    "def food_recommend_vec(food):\n",
    "    food_index = df[df['Name']== food].index[0]\n",
    "    distances = similar_vec[food_index]\n",
    "    food_list = sorted(list(enumerate(distances)),reverse = True, key = lambda x:x[1])[1:6]\n",
    "                       \n",
    "    for i in food_list:\n",
    "        \n",
    "        print(df['Name'].iloc[i[0]])\n",
    "        "
   ]
  },
  {
   "cell_type": "code",
   "execution_count": 163,
   "id": "3e432a98",
   "metadata": {},
   "outputs": [
    {
     "name": "stdout",
     "output_type": "stream",
     "text": [
      "shepherds salad (tamatar-kheera salaad)\n",
      "green cucumber shots\n",
      "Grilled Chicken with Almond and Garlic Sauce\n",
      "mustard-parmesan whole roasted cauliflower\n",
      "baked namakpara with roasted almond dip\n"
     ]
    }
   ],
   "source": [
    "food_recommend_vec('summer squash salad',similar_vec)"
   ]
  },
  {
   "cell_type": "code",
   "execution_count": 164,
   "id": "d79e33d3",
   "metadata": {},
   "outputs": [
    {
     "name": "stdout",
     "output_type": "stream",
     "text": [
      "veg hakka noodles\n",
      "egg and garlic fried rice\n",
      "prawn fried rice\n",
      "lotus leaf wrapped fried rice\n",
      "chicken potli\n"
     ]
    }
   ],
   "source": [
    "food_recommend_vec('veg fried rice')"
   ]
  },
  {
   "cell_type": "code",
   "execution_count": 165,
   "id": "1f39f011",
   "metadata": {},
   "outputs": [
    {
     "name": "stdout",
     "output_type": "stream",
     "text": [
      "lemon poppy seed cake \n",
      "Fig and Sesame Tart with Cardamom Orange Cream\n",
      "lemon poppy seed cake\n",
      "chocolate lava cake\n",
      "Lemon-Ginger Cake with Pistachios\n"
     ]
    }
   ],
   "source": [
    "food_recommend_vec('christmas cake')"
   ]
  },
  {
   "cell_type": "code",
   "execution_count": 166,
   "id": "4c198cc0",
   "metadata": {},
   "outputs": [
    {
     "name": "stdout",
     "output_type": "stream",
     "text": [
      "Grilled Chicken with Almond and Garlic Sauce\n",
      "Fig and Sesame Tart with Cardamom Orange Cream\n",
      "baba budan no. 7\n",
      "whole wheat cake\n",
      "chocolate chip cheesecake\n"
     ]
    }
   ],
   "source": [
    "food_recommend('christmas cake')"
   ]
  },
  {
   "cell_type": "code",
   "execution_count": 167,
   "id": "3af04e46",
   "metadata": {},
   "outputs": [
    {
     "name": "stdout",
     "output_type": "stream",
     "text": [
      "chicken minced salad\n",
      "chilli chicken\n",
      "roast turkey with cranberry sauce\n",
      "Sesame Noodles with Chili Oil and Scallions\n",
      "vegetable som tam salad\n"
     ]
    }
   ],
   "source": [
    "food_recommend_vec('tricolour salad')"
   ]
  },
  {
   "cell_type": "code",
   "execution_count": 168,
   "id": "fe2e3acb",
   "metadata": {},
   "outputs": [
    {
     "name": "stdout",
     "output_type": "stream",
     "text": [
      "chilli chicken\n",
      "Vietnamese Chicken Salad\n",
      "chicken minced salad\n",
      "veg fried rice\n",
      "vegetable som tam salad\n"
     ]
    }
   ],
   "source": [
    "food_recommend('tricolour salad')"
   ]
  },
  {
   "cell_type": "markdown",
   "id": "89455da8",
   "metadata": {},
   "source": [
    "# Collaborative Filtering"
   ]
  },
  {
   "cell_type": "code",
   "execution_count": 171,
   "id": "58c3ea13",
   "metadata": {},
   "outputs": [],
   "source": [
    "ratings = pd.read_csv(\"ratings_food[1].csv\")"
   ]
  },
  {
   "cell_type": "code",
   "execution_count": 173,
   "id": "ecf0bf48",
   "metadata": {},
   "outputs": [
    {
     "data": {
      "text/html": [
       "<div>\n",
       "<style scoped>\n",
       "    .dataframe tbody tr th:only-of-type {\n",
       "        vertical-align: middle;\n",
       "    }\n",
       "\n",
       "    .dataframe tbody tr th {\n",
       "        vertical-align: top;\n",
       "    }\n",
       "\n",
       "    .dataframe thead th {\n",
       "        text-align: right;\n",
       "    }\n",
       "</style>\n",
       "<table border=\"1\" class=\"dataframe\">\n",
       "  <thead>\n",
       "    <tr style=\"text-align: right;\">\n",
       "      <th></th>\n",
       "      <th>User_ID</th>\n",
       "      <th>Food_ID</th>\n",
       "      <th>Rating</th>\n",
       "    </tr>\n",
       "  </thead>\n",
       "  <tbody>\n",
       "    <tr>\n",
       "      <th>0</th>\n",
       "      <td>1.0</td>\n",
       "      <td>88.0</td>\n",
       "      <td>4.0</td>\n",
       "    </tr>\n",
       "    <tr>\n",
       "      <th>1</th>\n",
       "      <td>1.0</td>\n",
       "      <td>46.0</td>\n",
       "      <td>3.0</td>\n",
       "    </tr>\n",
       "    <tr>\n",
       "      <th>2</th>\n",
       "      <td>1.0</td>\n",
       "      <td>24.0</td>\n",
       "      <td>5.0</td>\n",
       "    </tr>\n",
       "    <tr>\n",
       "      <th>3</th>\n",
       "      <td>1.0</td>\n",
       "      <td>25.0</td>\n",
       "      <td>4.0</td>\n",
       "    </tr>\n",
       "    <tr>\n",
       "      <th>4</th>\n",
       "      <td>2.0</td>\n",
       "      <td>49.0</td>\n",
       "      <td>1.0</td>\n",
       "    </tr>\n",
       "  </tbody>\n",
       "</table>\n",
       "</div>"
      ],
      "text/plain": [
       "   User_ID  Food_ID  Rating\n",
       "0      1.0     88.0     4.0\n",
       "1      1.0     46.0     3.0\n",
       "2      1.0     24.0     5.0\n",
       "3      1.0     25.0     4.0\n",
       "4      2.0     49.0     1.0"
      ]
     },
     "execution_count": 173,
     "metadata": {},
     "output_type": "execute_result"
    }
   ],
   "source": [
    "ratings.head()"
   ]
  },
  {
   "cell_type": "code",
   "execution_count": 174,
   "id": "67149024",
   "metadata": {},
   "outputs": [
    {
     "name": "stdout",
     "output_type": "stream",
     "text": [
      "<class 'pandas.core.frame.DataFrame'>\n",
      "RangeIndex: 512 entries, 0 to 511\n",
      "Data columns (total 3 columns):\n",
      " #   Column   Non-Null Count  Dtype  \n",
      "---  ------   --------------  -----  \n",
      " 0   User_ID  511 non-null    float64\n",
      " 1   Food_ID  511 non-null    float64\n",
      " 2   Rating   511 non-null    float64\n",
      "dtypes: float64(3)\n",
      "memory usage: 12.1 KB\n"
     ]
    }
   ],
   "source": [
    "ratings.info()"
   ]
  },
  {
   "cell_type": "code",
   "execution_count": 175,
   "id": "f9e93922",
   "metadata": {},
   "outputs": [
    {
     "data": {
      "text/plain": [
       "User_ID    1\n",
       "Food_ID    1\n",
       "Rating     1\n",
       "dtype: int64"
      ]
     },
     "execution_count": 175,
     "metadata": {},
     "output_type": "execute_result"
    }
   ],
   "source": [
    "ratings.isnull().sum()"
   ]
  },
  {
   "cell_type": "code",
   "execution_count": 176,
   "id": "0346f5ce",
   "metadata": {},
   "outputs": [
    {
     "data": {
      "text/html": [
       "<div>\n",
       "<style scoped>\n",
       "    .dataframe tbody tr th:only-of-type {\n",
       "        vertical-align: middle;\n",
       "    }\n",
       "\n",
       "    .dataframe tbody tr th {\n",
       "        vertical-align: top;\n",
       "    }\n",
       "\n",
       "    .dataframe thead th {\n",
       "        text-align: right;\n",
       "    }\n",
       "</style>\n",
       "<table border=\"1\" class=\"dataframe\">\n",
       "  <thead>\n",
       "    <tr style=\"text-align: right;\">\n",
       "      <th></th>\n",
       "      <th>User_ID</th>\n",
       "      <th>Food_ID</th>\n",
       "      <th>Rating</th>\n",
       "    </tr>\n",
       "  </thead>\n",
       "  <tbody>\n",
       "    <tr>\n",
       "      <th>507</th>\n",
       "      <td>99.0</td>\n",
       "      <td>22.0</td>\n",
       "      <td>1.0</td>\n",
       "    </tr>\n",
       "    <tr>\n",
       "      <th>508</th>\n",
       "      <td>100.0</td>\n",
       "      <td>24.0</td>\n",
       "      <td>10.0</td>\n",
       "    </tr>\n",
       "    <tr>\n",
       "      <th>509</th>\n",
       "      <td>100.0</td>\n",
       "      <td>233.0</td>\n",
       "      <td>10.0</td>\n",
       "    </tr>\n",
       "    <tr>\n",
       "      <th>510</th>\n",
       "      <td>100.0</td>\n",
       "      <td>29.0</td>\n",
       "      <td>7.0</td>\n",
       "    </tr>\n",
       "    <tr>\n",
       "      <th>511</th>\n",
       "      <td>NaN</td>\n",
       "      <td>NaN</td>\n",
       "      <td>NaN</td>\n",
       "    </tr>\n",
       "  </tbody>\n",
       "</table>\n",
       "</div>"
      ],
      "text/plain": [
       "     User_ID  Food_ID  Rating\n",
       "507     99.0     22.0     1.0\n",
       "508    100.0     24.0    10.0\n",
       "509    100.0    233.0    10.0\n",
       "510    100.0     29.0     7.0\n",
       "511      NaN      NaN     NaN"
      ]
     },
     "execution_count": 176,
     "metadata": {},
     "output_type": "execute_result"
    }
   ],
   "source": [
    "ratings.tail()"
   ]
  },
  {
   "cell_type": "code",
   "execution_count": 177,
   "id": "6bdc4068",
   "metadata": {},
   "outputs": [],
   "source": [
    "ratings = ratings[:511]"
   ]
  },
  {
   "cell_type": "code",
   "execution_count": 178,
   "id": "a80011bb",
   "metadata": {},
   "outputs": [
    {
     "name": "stdout",
     "output_type": "stream",
     "text": [
      "<class 'pandas.core.frame.DataFrame'>\n",
      "RangeIndex: 511 entries, 0 to 510\n",
      "Data columns (total 3 columns):\n",
      " #   Column   Non-Null Count  Dtype\n",
      "---  ------   --------------  -----\n",
      " 0   User_ID  511 non-null    bool \n",
      " 1   Food_ID  511 non-null    bool \n",
      " 2   Rating   511 non-null    bool \n",
      "dtypes: bool(3)\n",
      "memory usage: 1.6 KB\n"
     ]
    }
   ],
   "source": [
    "ratings.isnull().info()"
   ]
  },
  {
   "cell_type": "code",
   "execution_count": 180,
   "id": "be7864f1",
   "metadata": {},
   "outputs": [
    {
     "data": {
      "text/html": [
       "<div>\n",
       "<style scoped>\n",
       "    .dataframe tbody tr th:only-of-type {\n",
       "        vertical-align: middle;\n",
       "    }\n",
       "\n",
       "    .dataframe tbody tr th {\n",
       "        vertical-align: top;\n",
       "    }\n",
       "\n",
       "    .dataframe thead th {\n",
       "        text-align: right;\n",
       "    }\n",
       "</style>\n",
       "<table border=\"1\" class=\"dataframe\">\n",
       "  <thead>\n",
       "    <tr style=\"text-align: right;\">\n",
       "      <th></th>\n",
       "      <th>User_ID</th>\n",
       "      <th>Food_ID</th>\n",
       "      <th>Rating</th>\n",
       "    </tr>\n",
       "  </thead>\n",
       "  <tbody>\n",
       "    <tr>\n",
       "      <th>0</th>\n",
       "      <td>1.0</td>\n",
       "      <td>88.0</td>\n",
       "      <td>4.0</td>\n",
       "    </tr>\n",
       "    <tr>\n",
       "      <th>1</th>\n",
       "      <td>1.0</td>\n",
       "      <td>46.0</td>\n",
       "      <td>3.0</td>\n",
       "    </tr>\n",
       "    <tr>\n",
       "      <th>2</th>\n",
       "      <td>1.0</td>\n",
       "      <td>24.0</td>\n",
       "      <td>5.0</td>\n",
       "    </tr>\n",
       "    <tr>\n",
       "      <th>3</th>\n",
       "      <td>1.0</td>\n",
       "      <td>25.0</td>\n",
       "      <td>4.0</td>\n",
       "    </tr>\n",
       "    <tr>\n",
       "      <th>4</th>\n",
       "      <td>2.0</td>\n",
       "      <td>49.0</td>\n",
       "      <td>1.0</td>\n",
       "    </tr>\n",
       "  </tbody>\n",
       "</table>\n",
       "</div>"
      ],
      "text/plain": [
       "   User_ID  Food_ID  Rating\n",
       "0      1.0     88.0     4.0\n",
       "1      1.0     46.0     3.0\n",
       "2      1.0     24.0     5.0\n",
       "3      1.0     25.0     4.0\n",
       "4      2.0     49.0     1.0"
      ]
     },
     "execution_count": 180,
     "metadata": {},
     "output_type": "execute_result"
    }
   ],
   "source": [
    "ratings.head()"
   ]
  },
  {
   "cell_type": "code",
   "execution_count": 182,
   "id": "183d38c5",
   "metadata": {},
   "outputs": [],
   "source": [
    "food_rating = ratings.groupby(by='Food_ID').count()"
   ]
  },
  {
   "cell_type": "code",
   "execution_count": 186,
   "id": "c591b321",
   "metadata": {},
   "outputs": [
    {
     "data": {
      "text/html": [
       "<div>\n",
       "<style scoped>\n",
       "    .dataframe tbody tr th:only-of-type {\n",
       "        vertical-align: middle;\n",
       "    }\n",
       "\n",
       "    .dataframe tbody tr th {\n",
       "        vertical-align: top;\n",
       "    }\n",
       "\n",
       "    .dataframe thead th {\n",
       "        text-align: right;\n",
       "    }\n",
       "</style>\n",
       "<table border=\"1\" class=\"dataframe\">\n",
       "  <thead>\n",
       "    <tr style=\"text-align: right;\">\n",
       "      <th></th>\n",
       "      <th>User_ID</th>\n",
       "      <th>Rating</th>\n",
       "    </tr>\n",
       "    <tr>\n",
       "      <th>Food_ID</th>\n",
       "      <th></th>\n",
       "      <th></th>\n",
       "    </tr>\n",
       "  </thead>\n",
       "  <tbody>\n",
       "    <tr>\n",
       "      <th>1.0</th>\n",
       "      <td>2</td>\n",
       "      <td>2</td>\n",
       "    </tr>\n",
       "    <tr>\n",
       "      <th>2.0</th>\n",
       "      <td>3</td>\n",
       "      <td>3</td>\n",
       "    </tr>\n",
       "    <tr>\n",
       "      <th>3.0</th>\n",
       "      <td>2</td>\n",
       "      <td>2</td>\n",
       "    </tr>\n",
       "    <tr>\n",
       "      <th>4.0</th>\n",
       "      <td>2</td>\n",
       "      <td>2</td>\n",
       "    </tr>\n",
       "    <tr>\n",
       "      <th>5.0</th>\n",
       "      <td>6</td>\n",
       "      <td>6</td>\n",
       "    </tr>\n",
       "    <tr>\n",
       "      <th>...</th>\n",
       "      <td>...</td>\n",
       "      <td>...</td>\n",
       "    </tr>\n",
       "    <tr>\n",
       "      <th>305.0</th>\n",
       "      <td>1</td>\n",
       "      <td>1</td>\n",
       "    </tr>\n",
       "    <tr>\n",
       "      <th>306.0</th>\n",
       "      <td>1</td>\n",
       "      <td>1</td>\n",
       "    </tr>\n",
       "    <tr>\n",
       "      <th>307.0</th>\n",
       "      <td>1</td>\n",
       "      <td>1</td>\n",
       "    </tr>\n",
       "    <tr>\n",
       "      <th>308.0</th>\n",
       "      <td>1</td>\n",
       "      <td>1</td>\n",
       "    </tr>\n",
       "    <tr>\n",
       "      <th>309.0</th>\n",
       "      <td>1</td>\n",
       "      <td>1</td>\n",
       "    </tr>\n",
       "  </tbody>\n",
       "</table>\n",
       "<p>309 rows × 2 columns</p>\n",
       "</div>"
      ],
      "text/plain": [
       "         User_ID  Rating\n",
       "Food_ID                 \n",
       "1.0            2       2\n",
       "2.0            3       3\n",
       "3.0            2       2\n",
       "4.0            2       2\n",
       "5.0            6       6\n",
       "...          ...     ...\n",
       "305.0          1       1\n",
       "306.0          1       1\n",
       "307.0          1       1\n",
       "308.0          1       1\n",
       "309.0          1       1\n",
       "\n",
       "[309 rows x 2 columns]"
      ]
     },
     "execution_count": 186,
     "metadata": {},
     "output_type": "execute_result"
    }
   ],
   "source": [
    "food_rating"
   ]
  },
  {
   "cell_type": "code",
   "execution_count": 188,
   "id": "b99f1e0b",
   "metadata": {},
   "outputs": [],
   "source": [
    "food_rating = food_rating['Rating'].reset_index().rename(columns={'Rating':'Rating_count'})"
   ]
  },
  {
   "cell_type": "code",
   "execution_count": 189,
   "id": "baf5c72a",
   "metadata": {},
   "outputs": [
    {
     "data": {
      "text/html": [
       "<div>\n",
       "<style scoped>\n",
       "    .dataframe tbody tr th:only-of-type {\n",
       "        vertical-align: middle;\n",
       "    }\n",
       "\n",
       "    .dataframe tbody tr th {\n",
       "        vertical-align: top;\n",
       "    }\n",
       "\n",
       "    .dataframe thead th {\n",
       "        text-align: right;\n",
       "    }\n",
       "</style>\n",
       "<table border=\"1\" class=\"dataframe\">\n",
       "  <thead>\n",
       "    <tr style=\"text-align: right;\">\n",
       "      <th></th>\n",
       "      <th>Food_ID</th>\n",
       "      <th>Rating_count</th>\n",
       "    </tr>\n",
       "  </thead>\n",
       "  <tbody>\n",
       "    <tr>\n",
       "      <th>0</th>\n",
       "      <td>1.0</td>\n",
       "      <td>2</td>\n",
       "    </tr>\n",
       "    <tr>\n",
       "      <th>1</th>\n",
       "      <td>2.0</td>\n",
       "      <td>3</td>\n",
       "    </tr>\n",
       "    <tr>\n",
       "      <th>2</th>\n",
       "      <td>3.0</td>\n",
       "      <td>2</td>\n",
       "    </tr>\n",
       "    <tr>\n",
       "      <th>3</th>\n",
       "      <td>4.0</td>\n",
       "      <td>2</td>\n",
       "    </tr>\n",
       "    <tr>\n",
       "      <th>4</th>\n",
       "      <td>5.0</td>\n",
       "      <td>6</td>\n",
       "    </tr>\n",
       "    <tr>\n",
       "      <th>...</th>\n",
       "      <td>...</td>\n",
       "      <td>...</td>\n",
       "    </tr>\n",
       "    <tr>\n",
       "      <th>304</th>\n",
       "      <td>305.0</td>\n",
       "      <td>1</td>\n",
       "    </tr>\n",
       "    <tr>\n",
       "      <th>305</th>\n",
       "      <td>306.0</td>\n",
       "      <td>1</td>\n",
       "    </tr>\n",
       "    <tr>\n",
       "      <th>306</th>\n",
       "      <td>307.0</td>\n",
       "      <td>1</td>\n",
       "    </tr>\n",
       "    <tr>\n",
       "      <th>307</th>\n",
       "      <td>308.0</td>\n",
       "      <td>1</td>\n",
       "    </tr>\n",
       "    <tr>\n",
       "      <th>308</th>\n",
       "      <td>309.0</td>\n",
       "      <td>1</td>\n",
       "    </tr>\n",
       "  </tbody>\n",
       "</table>\n",
       "<p>309 rows × 2 columns</p>\n",
       "</div>"
      ],
      "text/plain": [
       "     Food_ID  Rating_count\n",
       "0        1.0             2\n",
       "1        2.0             3\n",
       "2        3.0             2\n",
       "3        4.0             2\n",
       "4        5.0             6\n",
       "..       ...           ...\n",
       "304    305.0             1\n",
       "305    306.0             1\n",
       "306    307.0             1\n",
       "307    308.0             1\n",
       "308    309.0             1\n",
       "\n",
       "[309 rows x 2 columns]"
      ]
     },
     "execution_count": 189,
     "metadata": {},
     "output_type": "execute_result"
    }
   ],
   "source": [
    "food_rating"
   ]
  },
  {
   "cell_type": "code",
   "execution_count": 190,
   "id": "57f271d8",
   "metadata": {},
   "outputs": [
    {
     "data": {
      "text/plain": [
       "count    309.000000\n",
       "mean       1.653722\n",
       "std        1.107748\n",
       "min        1.000000\n",
       "25%        1.000000\n",
       "50%        1.000000\n",
       "75%        2.000000\n",
       "max        7.000000\n",
       "Name: Rating_count, dtype: float64"
      ]
     },
     "execution_count": 190,
     "metadata": {},
     "output_type": "execute_result"
    }
   ],
   "source": [
    "food_rating['Rating_count'].describe()"
   ]
  },
  {
   "cell_type": "code",
   "execution_count": 192,
   "id": "7bdc1305",
   "metadata": {},
   "outputs": [],
   "source": [
    "user_rating = ratings.groupby(by= 'User_ID').count()"
   ]
  },
  {
   "cell_type": "code",
   "execution_count": 193,
   "id": "352530ad",
   "metadata": {},
   "outputs": [
    {
     "data": {
      "text/html": [
       "<div>\n",
       "<style scoped>\n",
       "    .dataframe tbody tr th:only-of-type {\n",
       "        vertical-align: middle;\n",
       "    }\n",
       "\n",
       "    .dataframe tbody tr th {\n",
       "        vertical-align: top;\n",
       "    }\n",
       "\n",
       "    .dataframe thead th {\n",
       "        text-align: right;\n",
       "    }\n",
       "</style>\n",
       "<table border=\"1\" class=\"dataframe\">\n",
       "  <thead>\n",
       "    <tr style=\"text-align: right;\">\n",
       "      <th></th>\n",
       "      <th>Food_ID</th>\n",
       "      <th>Rating</th>\n",
       "    </tr>\n",
       "    <tr>\n",
       "      <th>User_ID</th>\n",
       "      <th></th>\n",
       "      <th></th>\n",
       "    </tr>\n",
       "  </thead>\n",
       "  <tbody>\n",
       "    <tr>\n",
       "      <th>1.0</th>\n",
       "      <td>4</td>\n",
       "      <td>4</td>\n",
       "    </tr>\n",
       "    <tr>\n",
       "      <th>2.0</th>\n",
       "      <td>4</td>\n",
       "      <td>4</td>\n",
       "    </tr>\n",
       "    <tr>\n",
       "      <th>3.0</th>\n",
       "      <td>9</td>\n",
       "      <td>9</td>\n",
       "    </tr>\n",
       "    <tr>\n",
       "      <th>4.0</th>\n",
       "      <td>6</td>\n",
       "      <td>6</td>\n",
       "    </tr>\n",
       "    <tr>\n",
       "      <th>5.0</th>\n",
       "      <td>6</td>\n",
       "      <td>6</td>\n",
       "    </tr>\n",
       "    <tr>\n",
       "      <th>...</th>\n",
       "      <td>...</td>\n",
       "      <td>...</td>\n",
       "    </tr>\n",
       "    <tr>\n",
       "      <th>96.0</th>\n",
       "      <td>6</td>\n",
       "      <td>6</td>\n",
       "    </tr>\n",
       "    <tr>\n",
       "      <th>97.0</th>\n",
       "      <td>7</td>\n",
       "      <td>7</td>\n",
       "    </tr>\n",
       "    <tr>\n",
       "      <th>98.0</th>\n",
       "      <td>7</td>\n",
       "      <td>7</td>\n",
       "    </tr>\n",
       "    <tr>\n",
       "      <th>99.0</th>\n",
       "      <td>6</td>\n",
       "      <td>6</td>\n",
       "    </tr>\n",
       "    <tr>\n",
       "      <th>100.0</th>\n",
       "      <td>3</td>\n",
       "      <td>3</td>\n",
       "    </tr>\n",
       "  </tbody>\n",
       "</table>\n",
       "<p>100 rows × 2 columns</p>\n",
       "</div>"
      ],
      "text/plain": [
       "         Food_ID  Rating\n",
       "User_ID                 \n",
       "1.0            4       4\n",
       "2.0            4       4\n",
       "3.0            9       9\n",
       "4.0            6       6\n",
       "5.0            6       6\n",
       "...          ...     ...\n",
       "96.0           6       6\n",
       "97.0           7       7\n",
       "98.0           7       7\n",
       "99.0           6       6\n",
       "100.0          3       3\n",
       "\n",
       "[100 rows x 2 columns]"
      ]
     },
     "execution_count": 193,
     "metadata": {},
     "output_type": "execute_result"
    }
   ],
   "source": [
    "user_rating"
   ]
  },
  {
   "cell_type": "code",
   "execution_count": 195,
   "id": "dd771fb3",
   "metadata": {},
   "outputs": [],
   "source": [
    "user_rating =  user_rating['Rating'].reset_index().rename(columns={'Rating':'Rating_count'})"
   ]
  },
  {
   "cell_type": "code",
   "execution_count": 197,
   "id": "ac859c5d",
   "metadata": {},
   "outputs": [
    {
     "data": {
      "text/plain": [
       "count    100.000000\n",
       "mean       5.110000\n",
       "std        2.352282\n",
       "min        1.000000\n",
       "25%        3.000000\n",
       "50%        5.000000\n",
       "75%        7.000000\n",
       "max       11.000000\n",
       "Name: Rating_count, dtype: float64"
      ]
     },
     "execution_count": 197,
     "metadata": {},
     "output_type": "execute_result"
    }
   ],
   "source": [
    "user_rating['Rating_count'].describe()"
   ]
  },
  {
   "cell_type": "code",
   "execution_count": 198,
   "id": "ad342481",
   "metadata": {},
   "outputs": [
    {
     "data": {
      "text/html": [
       "<div>\n",
       "<style scoped>\n",
       "    .dataframe tbody tr th:only-of-type {\n",
       "        vertical-align: middle;\n",
       "    }\n",
       "\n",
       "    .dataframe tbody tr th {\n",
       "        vertical-align: top;\n",
       "    }\n",
       "\n",
       "    .dataframe thead th {\n",
       "        text-align: right;\n",
       "    }\n",
       "</style>\n",
       "<table border=\"1\" class=\"dataframe\">\n",
       "  <thead>\n",
       "    <tr style=\"text-align: right;\">\n",
       "      <th>User_ID</th>\n",
       "      <th>1.0</th>\n",
       "      <th>2.0</th>\n",
       "      <th>3.0</th>\n",
       "      <th>4.0</th>\n",
       "      <th>5.0</th>\n",
       "      <th>6.0</th>\n",
       "      <th>7.0</th>\n",
       "      <th>8.0</th>\n",
       "      <th>9.0</th>\n",
       "      <th>10.0</th>\n",
       "      <th>...</th>\n",
       "      <th>91.0</th>\n",
       "      <th>92.0</th>\n",
       "      <th>93.0</th>\n",
       "      <th>94.0</th>\n",
       "      <th>95.0</th>\n",
       "      <th>96.0</th>\n",
       "      <th>97.0</th>\n",
       "      <th>98.0</th>\n",
       "      <th>99.0</th>\n",
       "      <th>100.0</th>\n",
       "    </tr>\n",
       "    <tr>\n",
       "      <th>Food_ID</th>\n",
       "      <th></th>\n",
       "      <th></th>\n",
       "      <th></th>\n",
       "      <th></th>\n",
       "      <th></th>\n",
       "      <th></th>\n",
       "      <th></th>\n",
       "      <th></th>\n",
       "      <th></th>\n",
       "      <th></th>\n",
       "      <th></th>\n",
       "      <th></th>\n",
       "      <th></th>\n",
       "      <th></th>\n",
       "      <th></th>\n",
       "      <th></th>\n",
       "      <th></th>\n",
       "      <th></th>\n",
       "      <th></th>\n",
       "      <th></th>\n",
       "      <th></th>\n",
       "    </tr>\n",
       "  </thead>\n",
       "  <tbody>\n",
       "    <tr>\n",
       "      <th>1.0</th>\n",
       "      <td>0.0</td>\n",
       "      <td>0.0</td>\n",
       "      <td>0.0</td>\n",
       "      <td>0.0</td>\n",
       "      <td>0.0</td>\n",
       "      <td>0.0</td>\n",
       "      <td>0.0</td>\n",
       "      <td>0.0</td>\n",
       "      <td>0.0</td>\n",
       "      <td>0.0</td>\n",
       "      <td>...</td>\n",
       "      <td>0.0</td>\n",
       "      <td>0.0</td>\n",
       "      <td>0.0</td>\n",
       "      <td>0.0</td>\n",
       "      <td>0.0</td>\n",
       "      <td>0.0</td>\n",
       "      <td>0.0</td>\n",
       "      <td>0.0</td>\n",
       "      <td>0.0</td>\n",
       "      <td>0.0</td>\n",
       "    </tr>\n",
       "    <tr>\n",
       "      <th>2.0</th>\n",
       "      <td>0.0</td>\n",
       "      <td>0.0</td>\n",
       "      <td>0.0</td>\n",
       "      <td>0.0</td>\n",
       "      <td>0.0</td>\n",
       "      <td>0.0</td>\n",
       "      <td>0.0</td>\n",
       "      <td>0.0</td>\n",
       "      <td>3.0</td>\n",
       "      <td>0.0</td>\n",
       "      <td>...</td>\n",
       "      <td>0.0</td>\n",
       "      <td>0.0</td>\n",
       "      <td>0.0</td>\n",
       "      <td>0.0</td>\n",
       "      <td>0.0</td>\n",
       "      <td>0.0</td>\n",
       "      <td>0.0</td>\n",
       "      <td>0.0</td>\n",
       "      <td>0.0</td>\n",
       "      <td>0.0</td>\n",
       "    </tr>\n",
       "    <tr>\n",
       "      <th>3.0</th>\n",
       "      <td>0.0</td>\n",
       "      <td>0.0</td>\n",
       "      <td>0.0</td>\n",
       "      <td>0.0</td>\n",
       "      <td>0.0</td>\n",
       "      <td>0.0</td>\n",
       "      <td>0.0</td>\n",
       "      <td>0.0</td>\n",
       "      <td>0.0</td>\n",
       "      <td>0.0</td>\n",
       "      <td>...</td>\n",
       "      <td>0.0</td>\n",
       "      <td>0.0</td>\n",
       "      <td>0.0</td>\n",
       "      <td>0.0</td>\n",
       "      <td>0.0</td>\n",
       "      <td>0.0</td>\n",
       "      <td>0.0</td>\n",
       "      <td>0.0</td>\n",
       "      <td>0.0</td>\n",
       "      <td>0.0</td>\n",
       "    </tr>\n",
       "    <tr>\n",
       "      <th>4.0</th>\n",
       "      <td>0.0</td>\n",
       "      <td>0.0</td>\n",
       "      <td>0.0</td>\n",
       "      <td>0.0</td>\n",
       "      <td>0.0</td>\n",
       "      <td>0.0</td>\n",
       "      <td>0.0</td>\n",
       "      <td>0.0</td>\n",
       "      <td>0.0</td>\n",
       "      <td>0.0</td>\n",
       "      <td>...</td>\n",
       "      <td>0.0</td>\n",
       "      <td>0.0</td>\n",
       "      <td>0.0</td>\n",
       "      <td>0.0</td>\n",
       "      <td>0.0</td>\n",
       "      <td>0.0</td>\n",
       "      <td>0.0</td>\n",
       "      <td>0.0</td>\n",
       "      <td>0.0</td>\n",
       "      <td>0.0</td>\n",
       "    </tr>\n",
       "    <tr>\n",
       "      <th>5.0</th>\n",
       "      <td>0.0</td>\n",
       "      <td>0.0</td>\n",
       "      <td>0.0</td>\n",
       "      <td>0.0</td>\n",
       "      <td>0.0</td>\n",
       "      <td>0.0</td>\n",
       "      <td>0.0</td>\n",
       "      <td>0.0</td>\n",
       "      <td>0.0</td>\n",
       "      <td>0.0</td>\n",
       "      <td>...</td>\n",
       "      <td>0.0</td>\n",
       "      <td>0.0</td>\n",
       "      <td>0.0</td>\n",
       "      <td>2.0</td>\n",
       "      <td>0.0</td>\n",
       "      <td>0.0</td>\n",
       "      <td>0.0</td>\n",
       "      <td>7.0</td>\n",
       "      <td>0.0</td>\n",
       "      <td>0.0</td>\n",
       "    </tr>\n",
       "  </tbody>\n",
       "</table>\n",
       "<p>5 rows × 100 columns</p>\n",
       "</div>"
      ],
      "text/plain": [
       "User_ID  1.0    2.0    3.0    4.0    5.0    6.0    7.0    8.0    9.0    10.0   \\\n",
       "Food_ID                                                                         \n",
       "1.0        0.0    0.0    0.0    0.0    0.0    0.0    0.0    0.0    0.0    0.0   \n",
       "2.0        0.0    0.0    0.0    0.0    0.0    0.0    0.0    0.0    3.0    0.0   \n",
       "3.0        0.0    0.0    0.0    0.0    0.0    0.0    0.0    0.0    0.0    0.0   \n",
       "4.0        0.0    0.0    0.0    0.0    0.0    0.0    0.0    0.0    0.0    0.0   \n",
       "5.0        0.0    0.0    0.0    0.0    0.0    0.0    0.0    0.0    0.0    0.0   \n",
       "\n",
       "User_ID  ...  91.0   92.0   93.0   94.0   95.0   96.0   97.0   98.0   99.0   \\\n",
       "Food_ID  ...                                                                  \n",
       "1.0      ...    0.0    0.0    0.0    0.0    0.0    0.0    0.0    0.0    0.0   \n",
       "2.0      ...    0.0    0.0    0.0    0.0    0.0    0.0    0.0    0.0    0.0   \n",
       "3.0      ...    0.0    0.0    0.0    0.0    0.0    0.0    0.0    0.0    0.0   \n",
       "4.0      ...    0.0    0.0    0.0    0.0    0.0    0.0    0.0    0.0    0.0   \n",
       "5.0      ...    0.0    0.0    0.0    2.0    0.0    0.0    0.0    7.0    0.0   \n",
       "\n",
       "User_ID  100.0  \n",
       "Food_ID         \n",
       "1.0        0.0  \n",
       "2.0        0.0  \n",
       "3.0        0.0  \n",
       "4.0        0.0  \n",
       "5.0        0.0  \n",
       "\n",
       "[5 rows x 100 columns]"
      ]
     },
     "execution_count": 198,
     "metadata": {},
     "output_type": "execute_result"
    }
   ],
   "source": [
    "rating_matrix = ratings.pivot_table(index='Food_ID',columns='User_ID',values='Rating').fillna(0)\n",
    "rating_matrix.head()"
   ]
  },
  {
   "cell_type": "code",
   "execution_count": 199,
   "id": "feb71228",
   "metadata": {},
   "outputs": [
    {
     "data": {
      "text/plain": [
       "(309, 100)"
      ]
     },
     "execution_count": 199,
     "metadata": {},
     "output_type": "execute_result"
    }
   ],
   "source": [
    "rating_matrix.shape"
   ]
  },
  {
   "cell_type": "code",
   "execution_count": 200,
   "id": "3683e1d5",
   "metadata": {},
   "outputs": [
    {
     "name": "stdout",
     "output_type": "stream",
     "text": [
      "  (0, 48)\t5.0\n",
      "  (0, 70)\t10.0\n",
      "  (1, 8)\t3.0\n",
      "  (1, 21)\t5.0\n",
      "  (1, 38)\t10.0\n",
      "  (2, 76)\t1.0\n",
      "  (2, 88)\t7.0\n",
      "  (3, 40)\t6.0\n",
      "  (3, 89)\t6.0\n",
      "  (4, 27)\t10.0\n",
      "  (4, 38)\t10.0\n",
      "  (4, 72)\t7.0\n",
      "  (4, 87)\t3.0\n",
      "  (4, 93)\t2.0\n",
      "  (4, 97)\t7.0\n",
      "  (5, 42)\t10.0\n",
      "  (5, 48)\t6.0\n",
      "  (5, 76)\t6.0\n",
      "  (5, 91)\t1.0\n",
      "  (6, 16)\t4.0\n",
      "  (6, 47)\t5.0\n",
      "  (6, 62)\t9.0\n",
      "  (6, 69)\t8.0\n",
      "  (6, 70)\t8.0\n",
      "  (7, 4)\t6.0\n",
      "  :\t:\n",
      "  (284, 30)\t9.0\n",
      "  (285, 80)\t6.0\n",
      "  (286, 24)\t3.0\n",
      "  (287, 54)\t3.0\n",
      "  (288, 55)\t9.0\n",
      "  (289, 31)\t7.0\n",
      "  (290, 15)\t1.0\n",
      "  (291, 2)\t8.0\n",
      "  (292, 95)\t5.0\n",
      "  (293, 41)\t4.0\n",
      "  (294, 43)\t10.0\n",
      "  (295, 41)\t10.0\n",
      "  (296, 94)\t5.0\n",
      "  (297, 55)\t4.0\n",
      "  (298, 2)\t1.0\n",
      "  (299, 28)\t9.0\n",
      "  (300, 53)\t1.0\n",
      "  (301, 77)\t5.0\n",
      "  (302, 63)\t6.0\n",
      "  (303, 29)\t1.0\n",
      "  (304, 55)\t9.0\n",
      "  (305, 79)\t8.0\n",
      "  (306, 70)\t1.0\n",
      "  (307, 96)\t3.0\n",
      "  (308, 31)\t5.0\n"
     ]
    }
   ],
   "source": [
    "from scipy.sparse import csr_matrix\n",
    "csr_rating_matrix =  csr_matrix(rating_matrix.values)\n",
    "print(csr_rating_matrix)"
   ]
  },
  {
   "cell_type": "code",
   "execution_count": 201,
   "id": "8fc63abc",
   "metadata": {},
   "outputs": [],
   "source": [
    "from sklearn.neighbors import NearestNeighbors"
   ]
  },
  {
   "cell_type": "code",
   "execution_count": 202,
   "id": "65957228",
   "metadata": {},
   "outputs": [],
   "source": [
    "recommender = NearestNeighbors(metric='cosine')"
   ]
  },
  {
   "cell_type": "code",
   "execution_count": 203,
   "id": "422b58e3",
   "metadata": {},
   "outputs": [
    {
     "data": {
      "text/plain": [
       "NearestNeighbors(metric='cosine')"
      ]
     },
     "execution_count": 203,
     "metadata": {},
     "output_type": "execute_result"
    }
   ],
   "source": [
    "recommender.fit(csr_rating_matrix)"
   ]
  },
  {
   "cell_type": "code",
   "execution_count": 212,
   "id": "91fe364e",
   "metadata": {},
   "outputs": [],
   "source": [
    "def Get_Recommendations(title):\n",
    "    user= df[df['Name']==title]\n",
    "    user_index = np.where(rating_matrix.index==int(user['Food_ID']))[0][0]\n",
    "    user_ratings = rating_matrix.iloc[user_index]\n",
    "\n",
    "    reshaped = user_ratings.values.reshape(1,-1)\n",
    "    distances, indices = recommender.kneighbors(reshaped,n_neighbors=16)\n",
    "    \n",
    "    nearest_neighbors_indices = rating_matrix.iloc[indices[0]].index[1:]\n",
    "    nearest_neighbors = pd.DataFrame({'Food_ID': nearest_neighbors_indices})\n",
    "    \n",
    "    \n",
    "    result = pd.merge(nearest_neighbors,df,on='Food_ID',how='left')\n",
    "    \n",
    "    \n",
    "    return result.head()"
   ]
  },
  {
   "cell_type": "code",
   "execution_count": 214,
   "id": "1049e953",
   "metadata": {},
   "outputs": [
    {
     "data": {
      "text/html": [
       "<div>\n",
       "<style scoped>\n",
       "    .dataframe tbody tr th:only-of-type {\n",
       "        vertical-align: middle;\n",
       "    }\n",
       "\n",
       "    .dataframe tbody tr th {\n",
       "        vertical-align: top;\n",
       "    }\n",
       "\n",
       "    .dataframe thead th {\n",
       "        text-align: right;\n",
       "    }\n",
       "</style>\n",
       "<table border=\"1\" class=\"dataframe\">\n",
       "  <thead>\n",
       "    <tr style=\"text-align: right;\">\n",
       "      <th></th>\n",
       "      <th>Food_ID</th>\n",
       "      <th>Name</th>\n",
       "      <th>C_Type</th>\n",
       "      <th>Veg_Non</th>\n",
       "      <th>Describe</th>\n",
       "      <th>Description</th>\n",
       "    </tr>\n",
       "  </thead>\n",
       "  <tbody>\n",
       "    <tr>\n",
       "      <th>0</th>\n",
       "      <td>126.0</td>\n",
       "      <td>andhra crab meat masala</td>\n",
       "      <td>Indian</td>\n",
       "      <td>non-veg</td>\n",
       "      <td>processed crab meat refined oil curry leaves g...</td>\n",
       "      <td>Indian non-veg processed crab meat refined oil...</td>\n",
       "    </tr>\n",
       "    <tr>\n",
       "      <th>1</th>\n",
       "      <td>75.0</td>\n",
       "      <td>detox haldi tea</td>\n",
       "      <td>Beverage</td>\n",
       "      <td>veg</td>\n",
       "      <td>haldi ginger black pepper honey water</td>\n",
       "      <td>Beverage veg haldi ginger black pepper honey w...</td>\n",
       "    </tr>\n",
       "    <tr>\n",
       "      <th>2</th>\n",
       "      <td>100.0</td>\n",
       "      <td>spicy chicken curry</td>\n",
       "      <td>Indian</td>\n",
       "      <td>non-veg</td>\n",
       "      <td>oil ghee onion paste garlic paste ginger paste...</td>\n",
       "      <td>Indian non-veg oil ghee onion paste garlic pas...</td>\n",
       "    </tr>\n",
       "    <tr>\n",
       "      <th>3</th>\n",
       "      <td>259.0</td>\n",
       "      <td>ragi coconut ladoo (laddu)</td>\n",
       "      <td>Dessert</td>\n",
       "      <td>veg</td>\n",
       "      <td>finger millet flour ragi jaggery peanuts cocon...</td>\n",
       "      <td>Dessert veg finger millet flour ragi jaggery p...</td>\n",
       "    </tr>\n",
       "    <tr>\n",
       "      <th>4</th>\n",
       "      <td>51.0</td>\n",
       "      <td>christmas chocolate fudge cookies</td>\n",
       "      <td>Dessert</td>\n",
       "      <td>veg</td>\n",
       "      <td>unsalted butter brown sugar chocolate chocolat...</td>\n",
       "      <td>Dessert veg unsalted butter brown sugar chocol...</td>\n",
       "    </tr>\n",
       "  </tbody>\n",
       "</table>\n",
       "</div>"
      ],
      "text/plain": [
       "   Food_ID                               Name    C_Type  Veg_Non  \\\n",
       "0    126.0            andhra crab meat masala    Indian  non-veg   \n",
       "1     75.0                    detox haldi tea  Beverage      veg   \n",
       "2    100.0                spicy chicken curry    Indian  non-veg   \n",
       "3    259.0         ragi coconut ladoo (laddu)   Dessert      veg   \n",
       "4     51.0  christmas chocolate fudge cookies   Dessert      veg   \n",
       "\n",
       "                                            Describe  \\\n",
       "0  processed crab meat refined oil curry leaves g...   \n",
       "1              haldi ginger black pepper honey water   \n",
       "2  oil ghee onion paste garlic paste ginger paste...   \n",
       "3  finger millet flour ragi jaggery peanuts cocon...   \n",
       "4  unsalted butter brown sugar chocolate chocolat...   \n",
       "\n",
       "                                         Description  \n",
       "0  Indian non-veg processed crab meat refined oil...  \n",
       "1  Beverage veg haldi ginger black pepper honey w...  \n",
       "2  Indian non-veg oil ghee onion paste garlic pas...  \n",
       "3  Dessert veg finger millet flour ragi jaggery p...  \n",
       "4  Dessert veg unsalted butter brown sugar chocol...  "
      ]
     },
     "execution_count": 214,
     "metadata": {},
     "output_type": "execute_result"
    }
   ],
   "source": [
    "Get_Recommendations('tricolour salad')"
   ]
  },
  {
   "cell_type": "code",
   "execution_count": 215,
   "id": "ab546474",
   "metadata": {},
   "outputs": [
    {
     "name": "stdout",
     "output_type": "stream",
     "text": [
      "chilli chicken\n",
      "Vietnamese Chicken Salad\n",
      "chicken minced salad\n",
      "veg fried rice\n",
      "vegetable som tam salad\n"
     ]
    }
   ],
   "source": [
    "food_recommend('tricolour salad')"
   ]
  },
  {
   "cell_type": "code",
   "execution_count": 216,
   "id": "14f6689e",
   "metadata": {},
   "outputs": [
    {
     "name": "stdout",
     "output_type": "stream",
     "text": [
      "chicken minced salad\n",
      "chilli chicken\n",
      "roast turkey with cranberry sauce\n",
      "Sesame Noodles with Chili Oil and Scallions\n",
      "vegetable som tam salad\n"
     ]
    }
   ],
   "source": [
    "food_recommend_vec('tricolour salad')"
   ]
  },
  {
   "cell_type": "code",
   "execution_count": 218,
   "id": "a93ffcb6",
   "metadata": {},
   "outputs": [],
   "source": [
    "food_rating_df = pd.merge(ratings,df,on='Food_ID',how='left')"
   ]
  },
  {
   "cell_type": "code",
   "execution_count": 220,
   "id": "0c0b5114",
   "metadata": {},
   "outputs": [
    {
     "data": {
      "text/plain": [
       "210    6.0\n",
       "457    6.0\n",
       "Name: Rating, dtype: float64"
      ]
     },
     "execution_count": 220,
     "metadata": {},
     "output_type": "execute_result"
    }
   ],
   "source": [
    "food_rating_df[food_rating_df['Name']== 'tricolour salad']['Rating']"
   ]
  },
  {
   "cell_type": "code",
   "execution_count": 221,
   "id": "683bc133",
   "metadata": {},
   "outputs": [
    {
     "data": {
      "text/html": [
       "<div>\n",
       "<style scoped>\n",
       "    .dataframe tbody tr th:only-of-type {\n",
       "        vertical-align: middle;\n",
       "    }\n",
       "\n",
       "    .dataframe tbody tr th {\n",
       "        vertical-align: top;\n",
       "    }\n",
       "\n",
       "    .dataframe thead th {\n",
       "        text-align: right;\n",
       "    }\n",
       "</style>\n",
       "<table border=\"1\" class=\"dataframe\">\n",
       "  <thead>\n",
       "    <tr style=\"text-align: right;\">\n",
       "      <th></th>\n",
       "      <th>User_ID</th>\n",
       "      <th>Food_ID</th>\n",
       "      <th>Rating</th>\n",
       "      <th>Name</th>\n",
       "      <th>C_Type</th>\n",
       "      <th>Veg_Non</th>\n",
       "      <th>Describe</th>\n",
       "      <th>Description</th>\n",
       "    </tr>\n",
       "  </thead>\n",
       "  <tbody>\n",
       "    <tr>\n",
       "      <th>12</th>\n",
       "      <td>3.0</td>\n",
       "      <td>209.0</td>\n",
       "      <td>6.0</td>\n",
       "      <td>camel milk cake tart</td>\n",
       "      <td>Dessert</td>\n",
       "      <td>veg</td>\n",
       "      <td>camel milk sugar vinegar butter brown sugar ma...</td>\n",
       "      <td>Dessert veg camel milk sugar vinegar butter br...</td>\n",
       "    </tr>\n",
       "    <tr>\n",
       "      <th>21</th>\n",
       "      <td>4.0</td>\n",
       "      <td>128.0</td>\n",
       "      <td>6.0</td>\n",
       "      <td>thai lamb balls</td>\n",
       "      <td>Thai</td>\n",
       "      <td>non-veg</td>\n",
       "      <td>lamb minced couscous scallion garlic egg parsl...</td>\n",
       "      <td>Thai non-veg lamb minced couscous scallion gar...</td>\n",
       "    </tr>\n",
       "    <tr>\n",
       "      <th>27</th>\n",
       "      <td>5.0</td>\n",
       "      <td>8.0</td>\n",
       "      <td>6.0</td>\n",
       "      <td>lamb and chargrilled bell pepper soup</td>\n",
       "      <td>Healthy Food</td>\n",
       "      <td>non-veg</td>\n",
       "      <td>lamb bones preferably shank shoulder onions ce...</td>\n",
       "      <td>Healthy Food non-veg lamb bones preferably sha...</td>\n",
       "    </tr>\n",
       "    <tr>\n",
       "      <th>28</th>\n",
       "      <td>5.0</td>\n",
       "      <td>27.0</td>\n",
       "      <td>6.0</td>\n",
       "      <td>hawaiin papaya salad</td>\n",
       "      <td>Healthy Food</td>\n",
       "      <td>veg</td>\n",
       "      <td>papaya fresh lime juiced watermelon balls smal...</td>\n",
       "      <td>Healthy Food veg papaya fresh lime juiced wate...</td>\n",
       "    </tr>\n",
       "    <tr>\n",
       "      <th>32</th>\n",
       "      <td>6.0</td>\n",
       "      <td>213.0</td>\n",
       "      <td>6.0</td>\n",
       "      <td>berry parfait hazelnut white chocolate sable</td>\n",
       "      <td>Dessert</td>\n",
       "      <td>veg</td>\n",
       "      <td>berry parfait egg yolk caster sugar berry pure...</td>\n",
       "      <td>Dessert veg berry parfait egg yolk caster suga...</td>\n",
       "    </tr>\n",
       "    <tr>\n",
       "      <th>53</th>\n",
       "      <td>9.0</td>\n",
       "      <td>184.0</td>\n",
       "      <td>6.0</td>\n",
       "      <td>vegetable bruschetta</td>\n",
       "      <td>Italian</td>\n",
       "      <td>veg</td>\n",
       "      <td>baguette grilled slices black olive tapenade a...</td>\n",
       "      <td>Italian veg baguette grilled slices black oliv...</td>\n",
       "    </tr>\n",
       "    <tr>\n",
       "      <th>77</th>\n",
       "      <td>15.0</td>\n",
       "      <td>116.0</td>\n",
       "      <td>6.0</td>\n",
       "      <td>pan seared thigh of chicken</td>\n",
       "      <td>Mexican</td>\n",
       "      <td>non-veg</td>\n",
       "      <td>chicken thai salt pepper lemon fresh thyme bar...</td>\n",
       "      <td>Mexican non-veg chicken thai salt pepper lemon...</td>\n",
       "    </tr>\n",
       "    <tr>\n",
       "      <th>82</th>\n",
       "      <td>15.0</td>\n",
       "      <td>238.0</td>\n",
       "      <td>6.0</td>\n",
       "      <td>holi special malai kofta</td>\n",
       "      <td>Indian</td>\n",
       "      <td>veg</td>\n",
       "      <td>potatoes paneer cottage cheese maida coriander...</td>\n",
       "      <td>Indian veg potatoes paneer cottage cheese maid...</td>\n",
       "    </tr>\n",
       "    <tr>\n",
       "      <th>101</th>\n",
       "      <td>18.0</td>\n",
       "      <td>17.0</td>\n",
       "      <td>6.0</td>\n",
       "      <td>baked namakpara with roasted almond dip</td>\n",
       "      <td>Snack</td>\n",
       "      <td>veg</td>\n",
       "      <td>almonds crushed tomato garlic cloves basil spr...</td>\n",
       "      <td>Snack veg almonds crushed tomato garlic cloves...</td>\n",
       "    </tr>\n",
       "    <tr>\n",
       "      <th>107</th>\n",
       "      <td>20.0</td>\n",
       "      <td>46.0</td>\n",
       "      <td>6.0</td>\n",
       "      <td>steam bunny chicken bao</td>\n",
       "      <td>Japanese</td>\n",
       "      <td>non-veg</td>\n",
       "      <td>buns purpose white flour dry yeast sugar salt ...</td>\n",
       "      <td>Japanese non-veg buns purpose white flour dry ...</td>\n",
       "    </tr>\n",
       "    <tr>\n",
       "      <th>117</th>\n",
       "      <td>22.0</td>\n",
       "      <td>127.0</td>\n",
       "      <td>6.0</td>\n",
       "      <td>cajun spiced turkey wrapped with bacon</td>\n",
       "      <td>Mexican</td>\n",
       "      <td>non-veg</td>\n",
       "      <td>turkey breast cajun spice spinach leaves cooke...</td>\n",
       "      <td>Mexican non-veg turkey breast cajun spice spin...</td>\n",
       "    </tr>\n",
       "    <tr>\n",
       "      <th>120</th>\n",
       "      <td>23.0</td>\n",
       "      <td>26.0</td>\n",
       "      <td>6.0</td>\n",
       "      <td>almond pearls</td>\n",
       "      <td>Snack</td>\n",
       "      <td>veg</td>\n",
       "      <td>toasted almonds blueberries oats corn flakes o...</td>\n",
       "      <td>Snack veg toasted almonds blueberries oats cor...</td>\n",
       "    </tr>\n",
       "    <tr>\n",
       "      <th>131</th>\n",
       "      <td>26.0</td>\n",
       "      <td>104.0</td>\n",
       "      <td>6.0</td>\n",
       "      <td>chilli chicken</td>\n",
       "      <td>Chinese</td>\n",
       "      <td>non-veg</td>\n",
       "      <td>boneless chicken salt cornflour black pepper e...</td>\n",
       "      <td>Chinese non-veg boneless chicken salt cornflou...</td>\n",
       "    </tr>\n",
       "    <tr>\n",
       "      <th>149</th>\n",
       "      <td>30.0</td>\n",
       "      <td>53.0</td>\n",
       "      <td>6.0</td>\n",
       "      <td>chocolate appe</td>\n",
       "      <td>Snack</td>\n",
       "      <td>veg</td>\n",
       "      <td>rice coconut baking powder vanilla extract cin...</td>\n",
       "      <td>Snack veg rice coconut baking powder vanilla e...</td>\n",
       "    </tr>\n",
       "    <tr>\n",
       "      <th>159</th>\n",
       "      <td>31.0</td>\n",
       "      <td>264.0</td>\n",
       "      <td>6.0</td>\n",
       "      <td>kuttu atta pizza</td>\n",
       "      <td>Italian</td>\n",
       "      <td>veg</td>\n",
       "      <td>kuttu atta salt sugar yeast mozzarella cheese ...</td>\n",
       "      <td>Italian veg kuttu atta salt sugar yeast mozzar...</td>\n",
       "    </tr>\n",
       "    <tr>\n",
       "      <th>174</th>\n",
       "      <td>34.0</td>\n",
       "      <td>163.0</td>\n",
       "      <td>6.0</td>\n",
       "      <td>red rice vermicelli kheer</td>\n",
       "      <td>Indian</td>\n",
       "      <td>veg</td>\n",
       "      <td>red rice vermicelli broken sooji semolina verm...</td>\n",
       "      <td>Indian veg red rice vermicelli broken sooji se...</td>\n",
       "    </tr>\n",
       "    <tr>\n",
       "      <th>182</th>\n",
       "      <td>36.0</td>\n",
       "      <td>45.0</td>\n",
       "      <td>6.0</td>\n",
       "      <td>ghee roast chicken dosa quesadilla</td>\n",
       "      <td>Mexican</td>\n",
       "      <td>non-veg</td>\n",
       "      <td>dry red chillies coriander seeds cumin seeds f...</td>\n",
       "      <td>Mexican non-veg dry red chillies coriander see...</td>\n",
       "    </tr>\n",
       "    <tr>\n",
       "      <th>191</th>\n",
       "      <td>37.0</td>\n",
       "      <td>98.0</td>\n",
       "      <td>6.0</td>\n",
       "      <td>chicken potli</td>\n",
       "      <td>Chinese</td>\n",
       "      <td>non-veg</td>\n",
       "      <td>chicken onion green chilli garlic ginger salt ...</td>\n",
       "      <td>Chinese non-veg chicken onion green chilli gar...</td>\n",
       "    </tr>\n",
       "    <tr>\n",
       "      <th>202</th>\n",
       "      <td>39.0</td>\n",
       "      <td>30.0</td>\n",
       "      <td>6.0</td>\n",
       "      <td>couscous with ratatouille - tangy tomato sauce</td>\n",
       "      <td>French</td>\n",
       "      <td>veg</td>\n",
       "      <td>cous cous plain couscous extra virgin olive oi...</td>\n",
       "      <td>French veg cous cous plain couscous extra virg...</td>\n",
       "    </tr>\n",
       "    <tr>\n",
       "      <th>210</th>\n",
       "      <td>41.0</td>\n",
       "      <td>4.0</td>\n",
       "      <td>6.0</td>\n",
       "      <td>tricolour salad</td>\n",
       "      <td>Healthy Food</td>\n",
       "      <td>veg</td>\n",
       "      <td>vinegar honey sugar soy sauce salt garlic clov...</td>\n",
       "      <td>Healthy Food veg vinegar honey sugar soy sauce...</td>\n",
       "    </tr>\n",
       "    <tr>\n",
       "      <th>223</th>\n",
       "      <td>43.0</td>\n",
       "      <td>174.0</td>\n",
       "      <td>6.0</td>\n",
       "      <td>kale channe ki biryani</td>\n",
       "      <td>Indian</td>\n",
       "      <td>veg</td>\n",
       "      <td>black gram kala chana basmati rice soaked 2 ho...</td>\n",
       "      <td>Indian veg black gram kala chana basmati rice ...</td>\n",
       "    </tr>\n",
       "    <tr>\n",
       "      <th>225</th>\n",
       "      <td>43.0</td>\n",
       "      <td>32.0</td>\n",
       "      <td>6.0</td>\n",
       "      <td>almond and amaranth ladoo</td>\n",
       "      <td>Dessert</td>\n",
       "      <td>veg</td>\n",
       "      <td>popped amaranth seeds jaggery almonds slivered...</td>\n",
       "      <td>Dessert veg popped amaranth seeds jaggery almo...</td>\n",
       "    </tr>\n",
       "    <tr>\n",
       "      <th>231</th>\n",
       "      <td>45.0</td>\n",
       "      <td>10.0</td>\n",
       "      <td>6.0</td>\n",
       "      <td>broccoli and almond soup</td>\n",
       "      <td>Healthy Food</td>\n",
       "      <td>veg</td>\n",
       "      <td>vegetable stock broccoli ground almonds toaste...</td>\n",
       "      <td>Healthy Food veg vegetable stock broccoli grou...</td>\n",
       "    </tr>\n",
       "    <tr>\n",
       "      <th>236</th>\n",
       "      <td>46.0</td>\n",
       "      <td>102.0</td>\n",
       "      <td>6.0</td>\n",
       "      <td>dahi chicken</td>\n",
       "      <td>Indian</td>\n",
       "      <td>non-veg</td>\n",
       "      <td>dahi cumin powder garlic paste garam masala tu...</td>\n",
       "      <td>Indian non-veg dahi cumin powder garlic paste ...</td>\n",
       "    </tr>\n",
       "    <tr>\n",
       "      <th>261</th>\n",
       "      <td>49.0</td>\n",
       "      <td>6.0</td>\n",
       "      <td>6.0</td>\n",
       "      <td>japanese curry arancini with barley salsa</td>\n",
       "      <td>Japanese</td>\n",
       "      <td>veg</td>\n",
       "      <td>japanese curry sticky rice cheese inside rice ...</td>\n",
       "      <td>Japanese veg japanese curry sticky rice cheese...</td>\n",
       "    </tr>\n",
       "    <tr>\n",
       "      <th>266</th>\n",
       "      <td>50.0</td>\n",
       "      <td>158.0</td>\n",
       "      <td>6.0</td>\n",
       "      <td>fish moilee</td>\n",
       "      <td>Indian</td>\n",
       "      <td>non-veg</td>\n",
       "      <td>basa fish onion ginger garlic buds green chill...</td>\n",
       "      <td>Indian non-veg basa fish onion ginger garlic b...</td>\n",
       "    </tr>\n",
       "    <tr>\n",
       "      <th>269</th>\n",
       "      <td>51.0</td>\n",
       "      <td>136.0</td>\n",
       "      <td>6.0</td>\n",
       "      <td>malabari fish curry</td>\n",
       "      <td>Indian</td>\n",
       "      <td>non-veg</td>\n",
       "      <td>sear fish coconut ginger pureed tamarind salt ...</td>\n",
       "      <td>Indian non-veg sear fish coconut ginger pureed...</td>\n",
       "    </tr>\n",
       "    <tr>\n",
       "      <th>274</th>\n",
       "      <td>52.0</td>\n",
       "      <td>69.0</td>\n",
       "      <td>6.0</td>\n",
       "      <td>banana and maple ice lollies</td>\n",
       "      <td>Dessert</td>\n",
       "      <td>veg</td>\n",
       "      <td>banana greek yogurt heavy cream pure maple syr...</td>\n",
       "      <td>Dessert veg banana greek yogurt heavy cream pu...</td>\n",
       "    </tr>\n",
       "    <tr>\n",
       "      <th>285</th>\n",
       "      <td>54.0</td>\n",
       "      <td>113.0</td>\n",
       "      <td>6.0</td>\n",
       "      <td>sticky rum chicken wings</td>\n",
       "      <td>Snack</td>\n",
       "      <td>non-veg</td>\n",
       "      <td>chicken wings without skin hung curd chilli po...</td>\n",
       "      <td>Snack non-veg chicken wings without skin hung ...</td>\n",
       "    </tr>\n",
       "    <tr>\n",
       "      <th>306</th>\n",
       "      <td>57.0</td>\n",
       "      <td>164.0</td>\n",
       "      <td>6.0</td>\n",
       "      <td>green cucumber shots</td>\n",
       "      <td>Healthy Food</td>\n",
       "      <td>veg</td>\n",
       "      <td>english cucumbers garlic cloves smashed romain...</td>\n",
       "      <td>Healthy Food veg english cucumbers garlic clov...</td>\n",
       "    </tr>\n",
       "    <tr>\n",
       "      <th>321</th>\n",
       "      <td>61.0</td>\n",
       "      <td>177.0</td>\n",
       "      <td>6.0</td>\n",
       "      <td>vegetable pulao</td>\n",
       "      <td>Indian</td>\n",
       "      <td>veg</td>\n",
       "      <td>water basmati rice ghee paneer cooked carrot b...</td>\n",
       "      <td>Indian veg water basmati rice ghee paneer cook...</td>\n",
       "    </tr>\n",
       "    <tr>\n",
       "      <th>335</th>\n",
       "      <td>63.0</td>\n",
       "      <td>17.0</td>\n",
       "      <td>6.0</td>\n",
       "      <td>baked namakpara with roasted almond dip</td>\n",
       "      <td>Snack</td>\n",
       "      <td>veg</td>\n",
       "      <td>almonds crushed tomato garlic cloves basil spr...</td>\n",
       "      <td>Snack veg almonds crushed tomato garlic cloves...</td>\n",
       "    </tr>\n",
       "    <tr>\n",
       "      <th>343</th>\n",
       "      <td>64.0</td>\n",
       "      <td>303.0</td>\n",
       "      <td>6.0</td>\n",
       "      <td>red rice</td>\n",
       "      <td>Healthy Food</td>\n",
       "      <td>veg</td>\n",
       "      <td>riety rice</td>\n",
       "      <td>Healthy Food veg riety rice</td>\n",
       "    </tr>\n",
       "    <tr>\n",
       "      <th>357</th>\n",
       "      <td>68.0</td>\n",
       "      <td>142.0</td>\n",
       "      <td>6.0</td>\n",
       "      <td>fish skewers with coriander and red wine vineg...</td>\n",
       "      <td>Thai</td>\n",
       "      <td>non-veg</td>\n",
       "      <td>sea bass fillets olive oil grilling red wine v...</td>\n",
       "      <td>Thai non-veg sea bass fillets olive oil grilli...</td>\n",
       "    </tr>\n",
       "    <tr>\n",
       "      <th>382</th>\n",
       "      <td>72.0</td>\n",
       "      <td>221.0</td>\n",
       "      <td>6.0</td>\n",
       "      <td>amaranthus granola with lemon yogurt, berries ...</td>\n",
       "      <td>Healthy Food</td>\n",
       "      <td>veg</td>\n",
       "      <td>popped amaranthus cholai oats almonds cinnamon...</td>\n",
       "      <td>Healthy Food veg popped amaranthus cholai oats...</td>\n",
       "    </tr>\n",
       "    <tr>\n",
       "      <th>389</th>\n",
       "      <td>74.0</td>\n",
       "      <td>132.0</td>\n",
       "      <td>6.0</td>\n",
       "      <td>coffee marinated mutton chops</td>\n",
       "      <td>Thai</td>\n",
       "      <td>non-veg</td>\n",
       "      <td>mutton chops espresso honey balsamic vinegar r...</td>\n",
       "      <td>Thai non-veg mutton chops espresso honey balsa...</td>\n",
       "    </tr>\n",
       "    <tr>\n",
       "      <th>390</th>\n",
       "      <td>74.0</td>\n",
       "      <td>44.0</td>\n",
       "      <td>6.0</td>\n",
       "      <td>andhra pan fried pomfret</td>\n",
       "      <td>Indian</td>\n",
       "      <td>veg</td>\n",
       "      <td>white pomfret fish sunflower refined ooil red ...</td>\n",
       "      <td>Indian veg white pomfret fish sunflower refine...</td>\n",
       "    </tr>\n",
       "    <tr>\n",
       "      <th>398</th>\n",
       "      <td>77.0</td>\n",
       "      <td>6.0</td>\n",
       "      <td>6.0</td>\n",
       "      <td>japanese curry arancini with barley salsa</td>\n",
       "      <td>Japanese</td>\n",
       "      <td>veg</td>\n",
       "      <td>japanese curry sticky rice cheese inside rice ...</td>\n",
       "      <td>Japanese veg japanese curry sticky rice cheese...</td>\n",
       "    </tr>\n",
       "    <tr>\n",
       "      <th>407</th>\n",
       "      <td>79.0</td>\n",
       "      <td>36.0</td>\n",
       "      <td>6.0</td>\n",
       "      <td>spicy watermelon soup</td>\n",
       "      <td>Healthy Food</td>\n",
       "      <td>veg</td>\n",
       "      <td>watermelon ginger garlic paste peppermint chil...</td>\n",
       "      <td>Healthy Food veg watermelon ginger garlic past...</td>\n",
       "    </tr>\n",
       "    <tr>\n",
       "      <th>423</th>\n",
       "      <td>81.0</td>\n",
       "      <td>286.0</td>\n",
       "      <td>6.0</td>\n",
       "      <td>french onion grilled cheese</td>\n",
       "      <td>French</td>\n",
       "      <td>veg</td>\n",
       "      <td>brown slice bread onion oil emmental cheese</td>\n",
       "      <td>French veg brown slice bread onion oil emmenta...</td>\n",
       "    </tr>\n",
       "    <tr>\n",
       "      <th>443</th>\n",
       "      <td>86.0</td>\n",
       "      <td>31.0</td>\n",
       "      <td>6.0</td>\n",
       "      <td>baked almond kofta</td>\n",
       "      <td>Snack</td>\n",
       "      <td>veg</td>\n",
       "      <td>potato boiled nutmeg milk almonds crushed gree...</td>\n",
       "      <td>Snack veg potato boiled nutmeg milk almonds cr...</td>\n",
       "    </tr>\n",
       "    <tr>\n",
       "      <th>449</th>\n",
       "      <td>88.0</td>\n",
       "      <td>10.0</td>\n",
       "      <td>6.0</td>\n",
       "      <td>broccoli and almond soup</td>\n",
       "      <td>Healthy Food</td>\n",
       "      <td>veg</td>\n",
       "      <td>vegetable stock broccoli ground almonds toaste...</td>\n",
       "      <td>Healthy Food veg vegetable stock broccoli grou...</td>\n",
       "    </tr>\n",
       "    <tr>\n",
       "      <th>452</th>\n",
       "      <td>89.0</td>\n",
       "      <td>120.0</td>\n",
       "      <td>6.0</td>\n",
       "      <td>microwave tandoori chicken</td>\n",
       "      <td>Indian</td>\n",
       "      <td>non-veg</td>\n",
       "      <td>chicken sliced garlic paste ginger paste hung ...</td>\n",
       "      <td>Indian non-veg chicken sliced garlic paste gin...</td>\n",
       "    </tr>\n",
       "    <tr>\n",
       "      <th>457</th>\n",
       "      <td>90.0</td>\n",
       "      <td>4.0</td>\n",
       "      <td>6.0</td>\n",
       "      <td>tricolour salad</td>\n",
       "      <td>Healthy Food</td>\n",
       "      <td>veg</td>\n",
       "      <td>vinegar honey sugar soy sauce salt garlic clov...</td>\n",
       "      <td>Healthy Food veg vinegar honey sugar soy sauce...</td>\n",
       "    </tr>\n",
       "    <tr>\n",
       "      <th>458</th>\n",
       "      <td>90.0</td>\n",
       "      <td>75.0</td>\n",
       "      <td>6.0</td>\n",
       "      <td>detox haldi tea</td>\n",
       "      <td>Beverage</td>\n",
       "      <td>veg</td>\n",
       "      <td>haldi ginger black pepper honey water</td>\n",
       "      <td>Beverage veg haldi ginger black pepper honey w...</td>\n",
       "    </tr>\n",
       "    <tr>\n",
       "      <th>467</th>\n",
       "      <td>92.0</td>\n",
       "      <td>62.0</td>\n",
       "      <td>6.0</td>\n",
       "      <td>active charcoal modak</td>\n",
       "      <td>Japanese</td>\n",
       "      <td>veg</td>\n",
       "      <td>modak gram flour besan semolina rava suji acti...</td>\n",
       "      <td>Japanese veg modak gram flour besan semolina r...</td>\n",
       "    </tr>\n",
       "    <tr>\n",
       "      <th>484</th>\n",
       "      <td>96.0</td>\n",
       "      <td>222.0</td>\n",
       "      <td>6.0</td>\n",
       "      <td>chocolate fudge cookies</td>\n",
       "      <td>Dessert</td>\n",
       "      <td>veg</td>\n",
       "      <td>dark chocolate coverture butter sugar eggs flo...</td>\n",
       "      <td>Dessert veg dark chocolate coverture butter su...</td>\n",
       "    </tr>\n",
       "    <tr>\n",
       "      <th>491</th>\n",
       "      <td>97.0</td>\n",
       "      <td>144.0</td>\n",
       "      <td>6.0</td>\n",
       "      <td>shrimp &amp; cilantro ceviche</td>\n",
       "      <td>French</td>\n",
       "      <td>veg</td>\n",
       "      <td>prawns gherkin onion cilantro mix bell pepper ...</td>\n",
       "      <td>French veg prawns gherkin onion cilantro mix b...</td>\n",
       "    </tr>\n",
       "  </tbody>\n",
       "</table>\n",
       "</div>"
      ],
      "text/plain": [
       "     User_ID  Food_ID  Rating  \\\n",
       "12       3.0    209.0     6.0   \n",
       "21       4.0    128.0     6.0   \n",
       "27       5.0      8.0     6.0   \n",
       "28       5.0     27.0     6.0   \n",
       "32       6.0    213.0     6.0   \n",
       "53       9.0    184.0     6.0   \n",
       "77      15.0    116.0     6.0   \n",
       "82      15.0    238.0     6.0   \n",
       "101     18.0     17.0     6.0   \n",
       "107     20.0     46.0     6.0   \n",
       "117     22.0    127.0     6.0   \n",
       "120     23.0     26.0     6.0   \n",
       "131     26.0    104.0     6.0   \n",
       "149     30.0     53.0     6.0   \n",
       "159     31.0    264.0     6.0   \n",
       "174     34.0    163.0     6.0   \n",
       "182     36.0     45.0     6.0   \n",
       "191     37.0     98.0     6.0   \n",
       "202     39.0     30.0     6.0   \n",
       "210     41.0      4.0     6.0   \n",
       "223     43.0    174.0     6.0   \n",
       "225     43.0     32.0     6.0   \n",
       "231     45.0     10.0     6.0   \n",
       "236     46.0    102.0     6.0   \n",
       "261     49.0      6.0     6.0   \n",
       "266     50.0    158.0     6.0   \n",
       "269     51.0    136.0     6.0   \n",
       "274     52.0     69.0     6.0   \n",
       "285     54.0    113.0     6.0   \n",
       "306     57.0    164.0     6.0   \n",
       "321     61.0    177.0     6.0   \n",
       "335     63.0     17.0     6.0   \n",
       "343     64.0    303.0     6.0   \n",
       "357     68.0    142.0     6.0   \n",
       "382     72.0    221.0     6.0   \n",
       "389     74.0    132.0     6.0   \n",
       "390     74.0     44.0     6.0   \n",
       "398     77.0      6.0     6.0   \n",
       "407     79.0     36.0     6.0   \n",
       "423     81.0    286.0     6.0   \n",
       "443     86.0     31.0     6.0   \n",
       "449     88.0     10.0     6.0   \n",
       "452     89.0    120.0     6.0   \n",
       "457     90.0      4.0     6.0   \n",
       "458     90.0     75.0     6.0   \n",
       "467     92.0     62.0     6.0   \n",
       "484     96.0    222.0     6.0   \n",
       "491     97.0    144.0     6.0   \n",
       "\n",
       "                                                  Name        C_Type  Veg_Non  \\\n",
       "12                                camel milk cake tart       Dessert      veg   \n",
       "21                                     thai lamb balls          Thai  non-veg   \n",
       "27               lamb and chargrilled bell pepper soup  Healthy Food  non-veg   \n",
       "28                                hawaiin papaya salad  Healthy Food      veg   \n",
       "32        berry parfait hazelnut white chocolate sable       Dessert      veg   \n",
       "53                                vegetable bruschetta       Italian      veg   \n",
       "77                         pan seared thigh of chicken       Mexican  non-veg   \n",
       "82                            holi special malai kofta        Indian      veg   \n",
       "101            baked namakpara with roasted almond dip         Snack      veg   \n",
       "107                            steam bunny chicken bao      Japanese  non-veg   \n",
       "117             cajun spiced turkey wrapped with bacon       Mexican  non-veg   \n",
       "120                                      almond pearls         Snack      veg   \n",
       "131                                     chilli chicken       Chinese  non-veg   \n",
       "149                                     chocolate appe         Snack      veg   \n",
       "159                                   kuttu atta pizza       Italian      veg   \n",
       "174                          red rice vermicelli kheer        Indian      veg   \n",
       "182                 ghee roast chicken dosa quesadilla       Mexican  non-veg   \n",
       "191                                      chicken potli       Chinese  non-veg   \n",
       "202     couscous with ratatouille - tangy tomato sauce        French      veg   \n",
       "210                                    tricolour salad  Healthy Food      veg   \n",
       "223                             kale channe ki biryani        Indian      veg   \n",
       "225                          almond and amaranth ladoo       Dessert      veg   \n",
       "231                           broccoli and almond soup  Healthy Food      veg   \n",
       "236                                       dahi chicken        Indian  non-veg   \n",
       "261          japanese curry arancini with barley salsa      Japanese      veg   \n",
       "266                                        fish moilee        Indian  non-veg   \n",
       "269                                malabari fish curry        Indian  non-veg   \n",
       "274                       banana and maple ice lollies       Dessert      veg   \n",
       "285                           sticky rum chicken wings         Snack  non-veg   \n",
       "306                               green cucumber shots  Healthy Food      veg   \n",
       "321                                    vegetable pulao        Indian      veg   \n",
       "335            baked namakpara with roasted almond dip         Snack      veg   \n",
       "343                                           red rice  Healthy Food      veg   \n",
       "357  fish skewers with coriander and red wine vineg...          Thai  non-veg   \n",
       "382  amaranthus granola with lemon yogurt, berries ...  Healthy Food      veg   \n",
       "389                      coffee marinated mutton chops          Thai  non-veg   \n",
       "390                           andhra pan fried pomfret        Indian      veg   \n",
       "398          japanese curry arancini with barley salsa      Japanese      veg   \n",
       "407                              spicy watermelon soup  Healthy Food      veg   \n",
       "423                        french onion grilled cheese        French      veg   \n",
       "443                                 baked almond kofta         Snack      veg   \n",
       "449                           broccoli and almond soup  Healthy Food      veg   \n",
       "452                         microwave tandoori chicken        Indian  non-veg   \n",
       "457                                    tricolour salad  Healthy Food      veg   \n",
       "458                                    detox haldi tea      Beverage      veg   \n",
       "467                              active charcoal modak      Japanese      veg   \n",
       "484                            chocolate fudge cookies       Dessert      veg   \n",
       "491                          shrimp & cilantro ceviche        French      veg   \n",
       "\n",
       "                                              Describe  \\\n",
       "12   camel milk sugar vinegar butter brown sugar ma...   \n",
       "21   lamb minced couscous scallion garlic egg parsl...   \n",
       "27   lamb bones preferably shank shoulder onions ce...   \n",
       "28   papaya fresh lime juiced watermelon balls smal...   \n",
       "32   berry parfait egg yolk caster sugar berry pure...   \n",
       "53   baguette grilled slices black olive tapenade a...   \n",
       "77   chicken thai salt pepper lemon fresh thyme bar...   \n",
       "82   potatoes paneer cottage cheese maida coriander...   \n",
       "101  almonds crushed tomato garlic cloves basil spr...   \n",
       "107  buns purpose white flour dry yeast sugar salt ...   \n",
       "117  turkey breast cajun spice spinach leaves cooke...   \n",
       "120  toasted almonds blueberries oats corn flakes o...   \n",
       "131  boneless chicken salt cornflour black pepper e...   \n",
       "149  rice coconut baking powder vanilla extract cin...   \n",
       "159  kuttu atta salt sugar yeast mozzarella cheese ...   \n",
       "174  red rice vermicelli broken sooji semolina verm...   \n",
       "182  dry red chillies coriander seeds cumin seeds f...   \n",
       "191  chicken onion green chilli garlic ginger salt ...   \n",
       "202  cous cous plain couscous extra virgin olive oi...   \n",
       "210  vinegar honey sugar soy sauce salt garlic clov...   \n",
       "223  black gram kala chana basmati rice soaked 2 ho...   \n",
       "225  popped amaranth seeds jaggery almonds slivered...   \n",
       "231  vegetable stock broccoli ground almonds toaste...   \n",
       "236  dahi cumin powder garlic paste garam masala tu...   \n",
       "261  japanese curry sticky rice cheese inside rice ...   \n",
       "266  basa fish onion ginger garlic buds green chill...   \n",
       "269  sear fish coconut ginger pureed tamarind salt ...   \n",
       "274  banana greek yogurt heavy cream pure maple syr...   \n",
       "285  chicken wings without skin hung curd chilli po...   \n",
       "306  english cucumbers garlic cloves smashed romain...   \n",
       "321  water basmati rice ghee paneer cooked carrot b...   \n",
       "335  almonds crushed tomato garlic cloves basil spr...   \n",
       "343                                         riety rice   \n",
       "357  sea bass fillets olive oil grilling red wine v...   \n",
       "382  popped amaranthus cholai oats almonds cinnamon...   \n",
       "389  mutton chops espresso honey balsamic vinegar r...   \n",
       "390  white pomfret fish sunflower refined ooil red ...   \n",
       "398  japanese curry sticky rice cheese inside rice ...   \n",
       "407  watermelon ginger garlic paste peppermint chil...   \n",
       "423        brown slice bread onion oil emmental cheese   \n",
       "443  potato boiled nutmeg milk almonds crushed gree...   \n",
       "449  vegetable stock broccoli ground almonds toaste...   \n",
       "452  chicken sliced garlic paste ginger paste hung ...   \n",
       "457  vinegar honey sugar soy sauce salt garlic clov...   \n",
       "458              haldi ginger black pepper honey water   \n",
       "467  modak gram flour besan semolina rava suji acti...   \n",
       "484  dark chocolate coverture butter sugar eggs flo...   \n",
       "491  prawns gherkin onion cilantro mix bell pepper ...   \n",
       "\n",
       "                                           Description  \n",
       "12   Dessert veg camel milk sugar vinegar butter br...  \n",
       "21   Thai non-veg lamb minced couscous scallion gar...  \n",
       "27   Healthy Food non-veg lamb bones preferably sha...  \n",
       "28   Healthy Food veg papaya fresh lime juiced wate...  \n",
       "32   Dessert veg berry parfait egg yolk caster suga...  \n",
       "53   Italian veg baguette grilled slices black oliv...  \n",
       "77   Mexican non-veg chicken thai salt pepper lemon...  \n",
       "82   Indian veg potatoes paneer cottage cheese maid...  \n",
       "101  Snack veg almonds crushed tomato garlic cloves...  \n",
       "107  Japanese non-veg buns purpose white flour dry ...  \n",
       "117  Mexican non-veg turkey breast cajun spice spin...  \n",
       "120  Snack veg toasted almonds blueberries oats cor...  \n",
       "131  Chinese non-veg boneless chicken salt cornflou...  \n",
       "149  Snack veg rice coconut baking powder vanilla e...  \n",
       "159  Italian veg kuttu atta salt sugar yeast mozzar...  \n",
       "174  Indian veg red rice vermicelli broken sooji se...  \n",
       "182  Mexican non-veg dry red chillies coriander see...  \n",
       "191  Chinese non-veg chicken onion green chilli gar...  \n",
       "202  French veg cous cous plain couscous extra virg...  \n",
       "210  Healthy Food veg vinegar honey sugar soy sauce...  \n",
       "223  Indian veg black gram kala chana basmati rice ...  \n",
       "225  Dessert veg popped amaranth seeds jaggery almo...  \n",
       "231  Healthy Food veg vegetable stock broccoli grou...  \n",
       "236  Indian non-veg dahi cumin powder garlic paste ...  \n",
       "261  Japanese veg japanese curry sticky rice cheese...  \n",
       "266  Indian non-veg basa fish onion ginger garlic b...  \n",
       "269  Indian non-veg sear fish coconut ginger pureed...  \n",
       "274  Dessert veg banana greek yogurt heavy cream pu...  \n",
       "285  Snack non-veg chicken wings without skin hung ...  \n",
       "306  Healthy Food veg english cucumbers garlic clov...  \n",
       "321  Indian veg water basmati rice ghee paneer cook...  \n",
       "335  Snack veg almonds crushed tomato garlic cloves...  \n",
       "343                        Healthy Food veg riety rice  \n",
       "357  Thai non-veg sea bass fillets olive oil grilli...  \n",
       "382  Healthy Food veg popped amaranthus cholai oats...  \n",
       "389  Thai non-veg mutton chops espresso honey balsa...  \n",
       "390  Indian veg white pomfret fish sunflower refine...  \n",
       "398  Japanese veg japanese curry sticky rice cheese...  \n",
       "407  Healthy Food veg watermelon ginger garlic past...  \n",
       "423  French veg brown slice bread onion oil emmenta...  \n",
       "443  Snack veg potato boiled nutmeg milk almonds cr...  \n",
       "449  Healthy Food veg vegetable stock broccoli grou...  \n",
       "452  Indian non-veg chicken sliced garlic paste gin...  \n",
       "457  Healthy Food veg vinegar honey sugar soy sauce...  \n",
       "458  Beverage veg haldi ginger black pepper honey w...  \n",
       "467  Japanese veg modak gram flour besan semolina r...  \n",
       "484  Dessert veg dark chocolate coverture butter su...  \n",
       "491  French veg prawns gherkin onion cilantro mix b...  "
      ]
     },
     "execution_count": 221,
     "metadata": {},
     "output_type": "execute_result"
    }
   ],
   "source": [
    "food_rating_df[food_rating_df['Rating']==6]"
   ]
  },
  {
   "cell_type": "code",
   "execution_count": null,
   "id": "c63e1ebc",
   "metadata": {},
   "outputs": [],
   "source": []
  }
 ],
 "metadata": {
  "kernelspec": {
   "display_name": "Python 3 (ipykernel)",
   "language": "python",
   "name": "python3"
  },
  "language_info": {
   "codemirror_mode": {
    "name": "ipython",
    "version": 3
   },
   "file_extension": ".py",
   "mimetype": "text/x-python",
   "name": "python",
   "nbconvert_exporter": "python",
   "pygments_lexer": "ipython3",
   "version": "3.9.13"
  }
 },
 "nbformat": 4,
 "nbformat_minor": 5
}
