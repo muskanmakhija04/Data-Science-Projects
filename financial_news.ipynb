{
 "cells": [
  {
   "cell_type": "markdown",
   "metadata": {
    "id": "lC6R4QaV0Ci0"
   },
   "source": [
    "# Sentiment Analysis of Financial News Using NLTK"
   ]
  },
  {
   "cell_type": "markdown",
   "metadata": {
    "id": "Iq7zwt8VJh1Z"
   },
   "source": [
    "We have to predict the sentiment of fiancial news using nltk"
   ]
  },
  {
   "cell_type": "markdown",
   "metadata": {
    "id": "Y6-xhkpm0MqU"
   },
   "source": [
    "#About Dataset\n",
    "\n",
    "This dataset contains 3 csv file\n",
    "\n",
    "cnbc headline   (3080, 3)\n",
    "\n",
    "gaurdian headline   (17800, 2)\n",
    "\n",
    "reuters headline   (32770, 3)\n"
   ]
  },
  {
   "cell_type": "markdown",
   "metadata": {
    "id": "sZRF0xat134_"
   },
   "source": [
    "# Columns Provided in the Dataset\n",
    "\n",
    "cnbc headline\n",
    "1. time\n",
    "2. headlines\n",
    "3. Description\n",
    "\n",
    "gaurdian headline\n",
    "1. time\n",
    "2. headline\n",
    "\n",
    "reuters headline\n",
    "1. time\n",
    "2. headline\n",
    "3. description\n"
   ]
  },
  {
   "cell_type": "markdown",
   "metadata": {
    "id": "5Q1HBH6RfLoZ"
   },
   "source": [
    "# What is NLTK ?\n",
    "\n",
    "The Natural Language Toolkit (NLTK) is a platform used for building Python programs that work with human language data for applying in statistical natural language processing (NLP).\n",
    "\n",
    "It contains text processing libraries for tokenization, parsing, classification, stemming, tagging and semantic reasoning.\n",
    "\n",
    "\n",
    "\n",
    "\n",
    "\n",
    "# What is sentiment analysis ?\n",
    "\n",
    "Sentiment analysis is the process of detecting positive or negative sentiment in text. It’s often used by businesses to detect sentiment in social data, gauge brand reputation, and understand customers.\n",
    "\n"
   ]
  },
  {
   "cell_type": "code",
   "execution_count": 106,
   "metadata": {
    "colab": {
     "base_uri": "https://localhost:8080/"
    },
    "id": "pE3JktaFgX_s",
    "outputId": "0324e30c-7e6d-47f7-b1e5-2b64046ab02c"
   },
   "outputs": [],
   "source": [
    "# Import all the required libraries \n",
    "import numpy as np\n",
    "import pandas as pd\n",
    "import re\n",
    "import string\n",
    "import nltk\n",
    "import seaborn as sns\n",
    "import matplotlib.pyplot as plt\n",
    "%matplotlib inline\n",
    "\n",
    "#import stopwords and text processing libraries\n",
    "from nltk.corpus import stopwords\n",
    "from nltk.tokenize import word_tokenize\n",
    "from nltk.stem import PorterStemmer\n",
    "from nltk.stem import WordNetLemmatizer\n",
    "\n"
   ]
  },
  {
   "cell_type": "markdown",
   "metadata": {
    "id": "ijgTOXVu4QvL"
   },
   "source": [
    "# Basic EDA on cnbc_headlines dataset"
   ]
  },
  {
   "cell_type": "code",
   "execution_count": 107,
   "metadata": {
    "id": "EkHTI2fsgX1x"
   },
   "outputs": [],
   "source": [
    "# Read csv file of cnbc headlines using pandas\n",
    "cnbc_headlines = pd.read_csv(\"cnbc_headlines.csv\")"
   ]
  },
  {
   "cell_type": "code",
   "execution_count": 108,
   "metadata": {
    "colab": {
     "base_uri": "https://localhost:8080/",
     "height": 202
    },
    "id": "Pel3IRW1gX0_",
    "outputId": "22789c43-1702-4ce5-cfc3-7284f5343c72"
   },
   "outputs": [
    {
     "data": {
      "text/html": [
       "<div>\n",
       "<style scoped>\n",
       "    .dataframe tbody tr th:only-of-type {\n",
       "        vertical-align: middle;\n",
       "    }\n",
       "\n",
       "    .dataframe tbody tr th {\n",
       "        vertical-align: top;\n",
       "    }\n",
       "\n",
       "    .dataframe thead th {\n",
       "        text-align: right;\n",
       "    }\n",
       "</style>\n",
       "<table border=\"1\" class=\"dataframe\">\n",
       "  <thead>\n",
       "    <tr style=\"text-align: right;\">\n",
       "      <th></th>\n",
       "      <th>Headlines</th>\n",
       "      <th>Time</th>\n",
       "      <th>Description</th>\n",
       "    </tr>\n",
       "  </thead>\n",
       "  <tbody>\n",
       "    <tr>\n",
       "      <th>0</th>\n",
       "      <td>Jim Cramer: A better way to invest in the Covi...</td>\n",
       "      <td>7:51  PM ET Fri, 17 July 2020</td>\n",
       "      <td>\"Mad Money\" host Jim Cramer recommended buying...</td>\n",
       "    </tr>\n",
       "    <tr>\n",
       "      <th>1</th>\n",
       "      <td>Cramer's lightning round: I would own Teradyne</td>\n",
       "      <td>7:33  PM ET Fri, 17 July 2020</td>\n",
       "      <td>\"Mad Money\" host Jim Cramer rings the lightnin...</td>\n",
       "    </tr>\n",
       "    <tr>\n",
       "      <th>2</th>\n",
       "      <td>NaN</td>\n",
       "      <td>NaN</td>\n",
       "      <td>NaN</td>\n",
       "    </tr>\n",
       "    <tr>\n",
       "      <th>3</th>\n",
       "      <td>Cramer's week ahead: Big week for earnings, ev...</td>\n",
       "      <td>7:25  PM ET Fri, 17 July 2020</td>\n",
       "      <td>\"We'll pay more for the earnings of the non-Co...</td>\n",
       "    </tr>\n",
       "    <tr>\n",
       "      <th>4</th>\n",
       "      <td>IQ Capital CEO Keith Bliss says tech and healt...</td>\n",
       "      <td>4:24  PM ET Fri, 17 July 2020</td>\n",
       "      <td>Keith Bliss, IQ Capital CEO, joins \"Closing Be...</td>\n",
       "    </tr>\n",
       "    <tr>\n",
       "      <th>...</th>\n",
       "      <td>...</td>\n",
       "      <td>...</td>\n",
       "      <td>...</td>\n",
       "    </tr>\n",
       "    <tr>\n",
       "      <th>3075</th>\n",
       "      <td>Markets lack Christmas cheer</td>\n",
       "      <td>10:15  AM ET Tue, 26 Dec 2017</td>\n",
       "      <td>According to Kensho, here's how markets have f...</td>\n",
       "    </tr>\n",
       "    <tr>\n",
       "      <th>3076</th>\n",
       "      <td>Cramer Remix: The biggest mistake you can make...</td>\n",
       "      <td>11:12  AM ET Thu, 20 Sept 2018</td>\n",
       "      <td>Jim Cramer revealed his top rule when it comes...</td>\n",
       "    </tr>\n",
       "    <tr>\n",
       "      <th>3077</th>\n",
       "      <td>Cramer says owning too many stocks and too lit...</td>\n",
       "      <td>7:07  PM ET Fri, 22 Dec 2017</td>\n",
       "      <td>Jim Cramer broke down why owning fewer stocks ...</td>\n",
       "    </tr>\n",
       "    <tr>\n",
       "      <th>3078</th>\n",
       "      <td>Cramer: I helped investors through the 2010 fl...</td>\n",
       "      <td>7:07  PM ET Fri, 22 Dec 2017</td>\n",
       "      <td>Jim Cramer built on his \"nobody ever made a di...</td>\n",
       "    </tr>\n",
       "    <tr>\n",
       "      <th>3079</th>\n",
       "      <td>Cramer: Never buy a stock all at once — you'll...</td>\n",
       "      <td>6:52  PM ET Fri, 22 Dec 2017</td>\n",
       "      <td>Jim Cramer doubled down on his key investing r...</td>\n",
       "    </tr>\n",
       "  </tbody>\n",
       "</table>\n",
       "<p>3080 rows × 3 columns</p>\n",
       "</div>"
      ],
      "text/plain": [
       "                                              Headlines  \\\n",
       "0     Jim Cramer: A better way to invest in the Covi...   \n",
       "1        Cramer's lightning round: I would own Teradyne   \n",
       "2                                                   NaN   \n",
       "3     Cramer's week ahead: Big week for earnings, ev...   \n",
       "4     IQ Capital CEO Keith Bliss says tech and healt...   \n",
       "...                                                 ...   \n",
       "3075                       Markets lack Christmas cheer   \n",
       "3076  Cramer Remix: The biggest mistake you can make...   \n",
       "3077  Cramer says owning too many stocks and too lit...   \n",
       "3078  Cramer: I helped investors through the 2010 fl...   \n",
       "3079  Cramer: Never buy a stock all at once — you'll...   \n",
       "\n",
       "                                Time  \\\n",
       "0      7:51  PM ET Fri, 17 July 2020   \n",
       "1      7:33  PM ET Fri, 17 July 2020   \n",
       "2                                NaN   \n",
       "3      7:25  PM ET Fri, 17 July 2020   \n",
       "4      4:24  PM ET Fri, 17 July 2020   \n",
       "...                              ...   \n",
       "3075   10:15  AM ET Tue, 26 Dec 2017   \n",
       "3076  11:12  AM ET Thu, 20 Sept 2018   \n",
       "3077    7:07  PM ET Fri, 22 Dec 2017   \n",
       "3078    7:07  PM ET Fri, 22 Dec 2017   \n",
       "3079    6:52  PM ET Fri, 22 Dec 2017   \n",
       "\n",
       "                                            Description  \n",
       "0     \"Mad Money\" host Jim Cramer recommended buying...  \n",
       "1     \"Mad Money\" host Jim Cramer rings the lightnin...  \n",
       "2                                                   NaN  \n",
       "3     \"We'll pay more for the earnings of the non-Co...  \n",
       "4     Keith Bliss, IQ Capital CEO, joins \"Closing Be...  \n",
       "...                                                 ...  \n",
       "3075  According to Kensho, here's how markets have f...  \n",
       "3076  Jim Cramer revealed his top rule when it comes...  \n",
       "3077  Jim Cramer broke down why owning fewer stocks ...  \n",
       "3078  Jim Cramer built on his \"nobody ever made a di...  \n",
       "3079  Jim Cramer doubled down on his key investing r...  \n",
       "\n",
       "[3080 rows x 3 columns]"
      ]
     },
     "execution_count": 108,
     "metadata": {},
     "output_type": "execute_result"
    }
   ],
   "source": [
    "cnbc_headlines"
   ]
  },
  {
   "cell_type": "code",
   "execution_count": 109,
   "metadata": {
    "colab": {
     "base_uri": "https://localhost:8080/"
    },
    "id": "7MY607w2gXxS",
    "outputId": "95607ac5-e89c-4896-e5d1-4268a4d80e25"
   },
   "outputs": [
    {
     "data": {
      "text/plain": [
       "(3080, 3)"
      ]
     },
     "execution_count": 109,
     "metadata": {},
     "output_type": "execute_result"
    }
   ],
   "source": [
    "# check the shape of cnbc headline dataset\n",
    "cnbc_headlines.shape"
   ]
  },
  {
   "cell_type": "code",
   "execution_count": 110,
   "metadata": {
    "colab": {
     "base_uri": "https://localhost:8080/"
    },
    "id": "fGyvfk-ZgXwN",
    "outputId": "35c626ac-2781-4549-d4c2-22a9ebf0b2eb"
   },
   "outputs": [
    {
     "data": {
      "text/plain": [
       "Index(['Headlines', 'Time', 'Description'], dtype='object')"
      ]
     },
     "execution_count": 110,
     "metadata": {},
     "output_type": "execute_result"
    }
   ],
   "source": [
    "# Check all the columns in the cnbc headline dataset\n",
    "cnbc_headlines.columns"
   ]
  },
  {
   "cell_type": "code",
   "execution_count": 111,
   "metadata": {
    "colab": {
     "base_uri": "https://localhost:8080/"
    },
    "id": "kFiwMd7BgXr4",
    "outputId": "146f358f-19be-4ddc-dc15-3290beb69f5f"
   },
   "outputs": [
    {
     "name": "stdout",
     "output_type": "stream",
     "text": [
      "<class 'pandas.core.frame.DataFrame'>\n",
      "RangeIndex: 3080 entries, 0 to 3079\n",
      "Data columns (total 3 columns):\n",
      " #   Column       Non-Null Count  Dtype \n",
      "---  ------       --------------  ----- \n",
      " 0   Headlines    2800 non-null   object\n",
      " 1   Time         2800 non-null   object\n",
      " 2   Description  2800 non-null   object\n",
      "dtypes: object(3)\n",
      "memory usage: 72.3+ KB\n"
     ]
    }
   ],
   "source": [
    "# Check which columns are having categorical, numerical or boolean values\n",
    "cnbc_headlines.info()"
   ]
  },
  {
   "cell_type": "code",
   "execution_count": 112,
   "metadata": {
    "colab": {
     "base_uri": "https://localhost:8080/"
    },
    "id": "oST2tsU9gXrE",
    "outputId": "6f38baa8-1b58-4779-be42-039a2c4e17fc"
   },
   "outputs": [
    {
     "data": {
      "text/plain": [
       "Headlines      280\n",
       "Time           280\n",
       "Description    280\n",
       "dtype: int64"
      ]
     },
     "execution_count": 112,
     "metadata": {},
     "output_type": "execute_result"
    }
   ],
   "source": [
    "# Check for missing values in all the columnns of cnbc headline dataset\n",
    "cnbc_headlines.isnull().sum()"
   ]
  },
  {
   "cell_type": "markdown",
   "metadata": {
    "id": "YRLZs_Jg8T3r"
   },
   "source": [
    "There is 280 missing values in headlines, description and time"
   ]
  },
  {
   "cell_type": "code",
   "execution_count": 113,
   "metadata": {
    "id": "PdlYoGUfgXnE"
   },
   "outputs": [],
   "source": [
    " # drop nan values in cnbc headline dataset\n",
    "cnbc_headlines = cnbc_headlines.dropna()"
   ]
  },
  {
   "cell_type": "code",
   "execution_count": 114,
   "metadata": {},
   "outputs": [
    {
     "data": {
      "text/plain": [
       "Headlines      0\n",
       "Time           0\n",
       "Description    0\n",
       "dtype: int64"
      ]
     },
     "execution_count": 114,
     "metadata": {},
     "output_type": "execute_result"
    }
   ],
   "source": [
    "cnbc_headlines.isnull().sum()"
   ]
  },
  {
   "cell_type": "code",
   "execution_count": 115,
   "metadata": {
    "colab": {
     "base_uri": "https://localhost:8080/",
     "height": 414
    },
    "id": "cD2J5VmmgXid",
    "outputId": "f2c61222-e741-4732-a2b4-3267b10f70df"
   },
   "outputs": [
    {
     "data": {
      "text/html": [
       "<div>\n",
       "<style scoped>\n",
       "    .dataframe tbody tr th:only-of-type {\n",
       "        vertical-align: middle;\n",
       "    }\n",
       "\n",
       "    .dataframe tbody tr th {\n",
       "        vertical-align: top;\n",
       "    }\n",
       "\n",
       "    .dataframe thead th {\n",
       "        text-align: right;\n",
       "    }\n",
       "</style>\n",
       "<table border=\"1\" class=\"dataframe\">\n",
       "  <thead>\n",
       "    <tr style=\"text-align: right;\">\n",
       "      <th></th>\n",
       "      <th>Headlines</th>\n",
       "      <th>Time</th>\n",
       "      <th>Description</th>\n",
       "    </tr>\n",
       "  </thead>\n",
       "  <tbody>\n",
       "    <tr>\n",
       "      <th>0</th>\n",
       "      <td>Jim Cramer: A better way to invest in the Covi...</td>\n",
       "      <td>7:51  PM ET Fri, 17 July 2020</td>\n",
       "      <td>\"Mad Money\" host Jim Cramer recommended buying...</td>\n",
       "    </tr>\n",
       "    <tr>\n",
       "      <th>1</th>\n",
       "      <td>Cramer's lightning round: I would own Teradyne</td>\n",
       "      <td>7:33  PM ET Fri, 17 July 2020</td>\n",
       "      <td>\"Mad Money\" host Jim Cramer rings the lightnin...</td>\n",
       "    </tr>\n",
       "    <tr>\n",
       "      <th>2</th>\n",
       "      <td>Cramer's week ahead: Big week for earnings, ev...</td>\n",
       "      <td>7:25  PM ET Fri, 17 July 2020</td>\n",
       "      <td>\"We'll pay more for the earnings of the non-Co...</td>\n",
       "    </tr>\n",
       "    <tr>\n",
       "      <th>3</th>\n",
       "      <td>IQ Capital CEO Keith Bliss says tech and healt...</td>\n",
       "      <td>4:24  PM ET Fri, 17 July 2020</td>\n",
       "      <td>Keith Bliss, IQ Capital CEO, joins \"Closing Be...</td>\n",
       "    </tr>\n",
       "    <tr>\n",
       "      <th>4</th>\n",
       "      <td>Wall Street delivered the 'kind of pullback I'...</td>\n",
       "      <td>7:36  PM ET Thu, 16 July 2020</td>\n",
       "      <td>\"Look for the stocks of high-quality companies...</td>\n",
       "    </tr>\n",
       "    <tr>\n",
       "      <th>...</th>\n",
       "      <td>...</td>\n",
       "      <td>...</td>\n",
       "      <td>...</td>\n",
       "    </tr>\n",
       "    <tr>\n",
       "      <th>2785</th>\n",
       "      <td>Markets lack Christmas cheer</td>\n",
       "      <td>10:15  AM ET Tue, 26 Dec 2017</td>\n",
       "      <td>According to Kensho, here's how markets have f...</td>\n",
       "    </tr>\n",
       "    <tr>\n",
       "      <th>2786</th>\n",
       "      <td>Cramer Remix: The biggest mistake you can make...</td>\n",
       "      <td>11:12  AM ET Thu, 20 Sept 2018</td>\n",
       "      <td>Jim Cramer revealed his top rule when it comes...</td>\n",
       "    </tr>\n",
       "    <tr>\n",
       "      <th>2787</th>\n",
       "      <td>Cramer says owning too many stocks and too lit...</td>\n",
       "      <td>7:07  PM ET Fri, 22 Dec 2017</td>\n",
       "      <td>Jim Cramer broke down why owning fewer stocks ...</td>\n",
       "    </tr>\n",
       "    <tr>\n",
       "      <th>2788</th>\n",
       "      <td>Cramer: I helped investors through the 2010 fl...</td>\n",
       "      <td>7:07  PM ET Fri, 22 Dec 2017</td>\n",
       "      <td>Jim Cramer built on his \"nobody ever made a di...</td>\n",
       "    </tr>\n",
       "    <tr>\n",
       "      <th>2789</th>\n",
       "      <td>Cramer: Never buy a stock all at once — you'll...</td>\n",
       "      <td>6:52  PM ET Fri, 22 Dec 2017</td>\n",
       "      <td>Jim Cramer doubled down on his key investing r...</td>\n",
       "    </tr>\n",
       "  </tbody>\n",
       "</table>\n",
       "<p>2790 rows × 3 columns</p>\n",
       "</div>"
      ],
      "text/plain": [
       "                                              Headlines  \\\n",
       "0     Jim Cramer: A better way to invest in the Covi...   \n",
       "1        Cramer's lightning round: I would own Teradyne   \n",
       "2     Cramer's week ahead: Big week for earnings, ev...   \n",
       "3     IQ Capital CEO Keith Bliss says tech and healt...   \n",
       "4     Wall Street delivered the 'kind of pullback I'...   \n",
       "...                                                 ...   \n",
       "2785                       Markets lack Christmas cheer   \n",
       "2786  Cramer Remix: The biggest mistake you can make...   \n",
       "2787  Cramer says owning too many stocks and too lit...   \n",
       "2788  Cramer: I helped investors through the 2010 fl...   \n",
       "2789  Cramer: Never buy a stock all at once — you'll...   \n",
       "\n",
       "                                Time  \\\n",
       "0      7:51  PM ET Fri, 17 July 2020   \n",
       "1      7:33  PM ET Fri, 17 July 2020   \n",
       "2      7:25  PM ET Fri, 17 July 2020   \n",
       "3      4:24  PM ET Fri, 17 July 2020   \n",
       "4      7:36  PM ET Thu, 16 July 2020   \n",
       "...                              ...   \n",
       "2785   10:15  AM ET Tue, 26 Dec 2017   \n",
       "2786  11:12  AM ET Thu, 20 Sept 2018   \n",
       "2787    7:07  PM ET Fri, 22 Dec 2017   \n",
       "2788    7:07  PM ET Fri, 22 Dec 2017   \n",
       "2789    6:52  PM ET Fri, 22 Dec 2017   \n",
       "\n",
       "                                            Description  \n",
       "0     \"Mad Money\" host Jim Cramer recommended buying...  \n",
       "1     \"Mad Money\" host Jim Cramer rings the lightnin...  \n",
       "2     \"We'll pay more for the earnings of the non-Co...  \n",
       "3     Keith Bliss, IQ Capital CEO, joins \"Closing Be...  \n",
       "4     \"Look for the stocks of high-quality companies...  \n",
       "...                                                 ...  \n",
       "2785  According to Kensho, here's how markets have f...  \n",
       "2786  Jim Cramer revealed his top rule when it comes...  \n",
       "2787  Jim Cramer broke down why owning fewer stocks ...  \n",
       "2788  Jim Cramer built on his \"nobody ever made a di...  \n",
       "2789  Jim Cramer doubled down on his key investing r...  \n",
       "\n",
       "[2790 rows x 3 columns]"
      ]
     },
     "execution_count": 115,
     "metadata": {},
     "output_type": "execute_result"
    }
   ],
   "source": [
    "# drop the duplicate rows in the dataset keep the first one\n",
    "cnbc_headlines = cnbc_headlines.drop_duplicates(subset=['Headlines','Description'], keep= 'first')\n",
    "cnbc_headlines.reset_index(drop = True, inplace=True)\n",
    "cnbc_headlines"
   ]
  },
  {
   "cell_type": "code",
   "execution_count": 116,
   "metadata": {
    "colab": {
     "base_uri": "https://localhost:8080/"
    },
    "id": "WD5tcCcagXhU",
    "outputId": "2355a67f-5967-4d18-9d33-42f9e78cab9b"
   },
   "outputs": [
    {
     "data": {
      "text/plain": [
       "(2790, 3)"
      ]
     },
     "execution_count": 116,
     "metadata": {},
     "output_type": "execute_result"
    }
   ],
   "source": [
    "# check the shape of cnbc headline dataset\n",
    "cnbc_headlines.shape"
   ]
  },
  {
   "cell_type": "markdown",
   "metadata": {
    "id": "JZFVAsUf53Vv"
   },
   "source": [
    "# Basic EDA on Gaurdian headlines dataset"
   ]
  },
  {
   "cell_type": "code",
   "execution_count": 117,
   "metadata": {
    "id": "st0vypi5gXTz"
   },
   "outputs": [],
   "source": [
    "# Read csv file of gaurdian headlines using pandas\n",
    "guardian_headlines = pd.read_csv('guardian_headlines.csv')"
   ]
  },
  {
   "cell_type": "code",
   "execution_count": 118,
   "metadata": {
    "colab": {
     "base_uri": "https://localhost:8080/",
     "height": 202
    },
    "id": "O15tPmH1gXS5",
    "outputId": "565c251d-ef27-4758-8bcd-77f4d73b3ec3"
   },
   "outputs": [
    {
     "data": {
      "text/html": [
       "<div>\n",
       "<style scoped>\n",
       "    .dataframe tbody tr th:only-of-type {\n",
       "        vertical-align: middle;\n",
       "    }\n",
       "\n",
       "    .dataframe tbody tr th {\n",
       "        vertical-align: top;\n",
       "    }\n",
       "\n",
       "    .dataframe thead th {\n",
       "        text-align: right;\n",
       "    }\n",
       "</style>\n",
       "<table border=\"1\" class=\"dataframe\">\n",
       "  <thead>\n",
       "    <tr style=\"text-align: right;\">\n",
       "      <th></th>\n",
       "      <th>Time</th>\n",
       "      <th>Headlines</th>\n",
       "    </tr>\n",
       "  </thead>\n",
       "  <tbody>\n",
       "    <tr>\n",
       "      <th>0</th>\n",
       "      <td>18-Jul-20</td>\n",
       "      <td>Johnson is asking Santa for a Christmas recovery</td>\n",
       "    </tr>\n",
       "    <tr>\n",
       "      <th>1</th>\n",
       "      <td>18-Jul-20</td>\n",
       "      <td>‘I now fear the worst’: four grim tales of wor...</td>\n",
       "    </tr>\n",
       "    <tr>\n",
       "      <th>2</th>\n",
       "      <td>18-Jul-20</td>\n",
       "      <td>Five key areas Sunak must tackle to serve up e...</td>\n",
       "    </tr>\n",
       "    <tr>\n",
       "      <th>3</th>\n",
       "      <td>18-Jul-20</td>\n",
       "      <td>Covid-19 leaves firms ‘fatally ill-prepared’ f...</td>\n",
       "    </tr>\n",
       "    <tr>\n",
       "      <th>4</th>\n",
       "      <td>18-Jul-20</td>\n",
       "      <td>The Week in Patriarchy  \\n\\n\\n  Bacardi's 'lad...</td>\n",
       "    </tr>\n",
       "  </tbody>\n",
       "</table>\n",
       "</div>"
      ],
      "text/plain": [
       "        Time                                          Headlines\n",
       "0  18-Jul-20   Johnson is asking Santa for a Christmas recovery\n",
       "1  18-Jul-20  ‘I now fear the worst’: four grim tales of wor...\n",
       "2  18-Jul-20  Five key areas Sunak must tackle to serve up e...\n",
       "3  18-Jul-20  Covid-19 leaves firms ‘fatally ill-prepared’ f...\n",
       "4  18-Jul-20  The Week in Patriarchy  \\n\\n\\n  Bacardi's 'lad..."
      ]
     },
     "execution_count": 118,
     "metadata": {},
     "output_type": "execute_result"
    }
   ],
   "source": [
    "guardian_headlines.head()"
   ]
  },
  {
   "cell_type": "code",
   "execution_count": 119,
   "metadata": {
    "colab": {
     "base_uri": "https://localhost:8080/"
    },
    "id": "09OSuHhRgXNf",
    "outputId": "a485e842-e80a-4ac1-c9a4-e6ca644c3c6c"
   },
   "outputs": [
    {
     "data": {
      "text/plain": [
       "(17800, 2)"
      ]
     },
     "execution_count": 119,
     "metadata": {},
     "output_type": "execute_result"
    }
   ],
   "source": [
    "#check the shape of gaurdian headline dataset\n",
    "guardian_headlines.shape"
   ]
  },
  {
   "cell_type": "code",
   "execution_count": 120,
   "metadata": {
    "colab": {
     "base_uri": "https://localhost:8080/"
    },
    "id": "7gKFN26whZnD",
    "outputId": "eaf4eede-9485-47d5-b5cb-e451b3113f43"
   },
   "outputs": [
    {
     "data": {
      "text/plain": [
       "Index(['Time', 'Headlines'], dtype='object')"
      ]
     },
     "execution_count": 120,
     "metadata": {},
     "output_type": "execute_result"
    }
   ],
   "source": [
    "#check columns of gaurdian headline\n",
    "guardian_headlines.columns"
   ]
  },
  {
   "cell_type": "code",
   "execution_count": 121,
   "metadata": {
    "colab": {
     "base_uri": "https://localhost:8080/"
    },
    "id": "5fplFio3hZmG",
    "outputId": "203f8075-6c24-4cc0-9c97-64de380ef72d"
   },
   "outputs": [
    {
     "name": "stdout",
     "output_type": "stream",
     "text": [
      "<class 'pandas.core.frame.DataFrame'>\n",
      "RangeIndex: 17800 entries, 0 to 17799\n",
      "Data columns (total 2 columns):\n",
      " #   Column     Non-Null Count  Dtype \n",
      "---  ------     --------------  ----- \n",
      " 0   Time       17800 non-null  object\n",
      " 1   Headlines  17800 non-null  object\n",
      "dtypes: object(2)\n",
      "memory usage: 278.2+ KB\n"
     ]
    }
   ],
   "source": [
    "# Check which columns are having categorical, numerical or boolean values\n",
    "guardian_headlines.info()"
   ]
  },
  {
   "cell_type": "code",
   "execution_count": 122,
   "metadata": {
    "colab": {
     "base_uri": "https://localhost:8080/"
    },
    "id": "qaWAwEazhZh8",
    "outputId": "db5b6254-3aac-4c68-dbfb-d9088d5f6975"
   },
   "outputs": [
    {
     "data": {
      "text/plain": [
       "Time         0\n",
       "Headlines    0\n",
       "dtype: int64"
      ]
     },
     "execution_count": 122,
     "metadata": {},
     "output_type": "execute_result"
    }
   ],
   "source": [
    "# check null values in gaurdian headlines dataset\n",
    "guardian_headlines.isnull().sum()"
   ]
  },
  {
   "cell_type": "code",
   "execution_count": 123,
   "metadata": {
    "colab": {
     "base_uri": "https://localhost:8080/",
     "height": 414
    },
    "id": "NBtOooYChZg9",
    "outputId": "64d9aed6-ab1c-46f5-d86d-0d2fcbf757ee"
   },
   "outputs": [
    {
     "data": {
      "text/html": [
       "<div>\n",
       "<style scoped>\n",
       "    .dataframe tbody tr th:only-of-type {\n",
       "        vertical-align: middle;\n",
       "    }\n",
       "\n",
       "    .dataframe tbody tr th {\n",
       "        vertical-align: top;\n",
       "    }\n",
       "\n",
       "    .dataframe thead th {\n",
       "        text-align: right;\n",
       "    }\n",
       "</style>\n",
       "<table border=\"1\" class=\"dataframe\">\n",
       "  <thead>\n",
       "    <tr style=\"text-align: right;\">\n",
       "      <th></th>\n",
       "      <th>Time</th>\n",
       "      <th>Headlines</th>\n",
       "    </tr>\n",
       "  </thead>\n",
       "  <tbody>\n",
       "    <tr>\n",
       "      <th>0</th>\n",
       "      <td>18-Jul-20</td>\n",
       "      <td>Johnson is asking Santa for a Christmas recovery</td>\n",
       "    </tr>\n",
       "    <tr>\n",
       "      <th>1</th>\n",
       "      <td>18-Jul-20</td>\n",
       "      <td>‘I now fear the worst’: four grim tales of wor...</td>\n",
       "    </tr>\n",
       "    <tr>\n",
       "      <th>2</th>\n",
       "      <td>18-Jul-20</td>\n",
       "      <td>Five key areas Sunak must tackle to serve up e...</td>\n",
       "    </tr>\n",
       "    <tr>\n",
       "      <th>3</th>\n",
       "      <td>18-Jul-20</td>\n",
       "      <td>Covid-19 leaves firms ‘fatally ill-prepared’ f...</td>\n",
       "    </tr>\n",
       "    <tr>\n",
       "      <th>4</th>\n",
       "      <td>18-Jul-20</td>\n",
       "      <td>The Week in Patriarchy  \\n\\n\\n  Bacardi's 'lad...</td>\n",
       "    </tr>\n",
       "    <tr>\n",
       "      <th>...</th>\n",
       "      <td>...</td>\n",
       "      <td>...</td>\n",
       "    </tr>\n",
       "    <tr>\n",
       "      <th>17790</th>\n",
       "      <td>17-Dec-17</td>\n",
       "      <td>How investing in solar energy can create a bri...</td>\n",
       "    </tr>\n",
       "    <tr>\n",
       "      <th>17791</th>\n",
       "      <td>17-Dec-17</td>\n",
       "      <td>Poundland suppliers hit by insurance downgrade</td>\n",
       "    </tr>\n",
       "    <tr>\n",
       "      <th>17792</th>\n",
       "      <td>17-Dec-17</td>\n",
       "      <td>Cryptocurrencies: City watchdog to investigate...</td>\n",
       "    </tr>\n",
       "    <tr>\n",
       "      <th>17793</th>\n",
       "      <td>17-Dec-17</td>\n",
       "      <td>Unilever sells household name spreads to KKR f...</td>\n",
       "    </tr>\n",
       "    <tr>\n",
       "      <th>17794</th>\n",
       "      <td>17-Dec-17</td>\n",
       "      <td>The Guardian view on Ryanair’s model: a union-...</td>\n",
       "    </tr>\n",
       "  </tbody>\n",
       "</table>\n",
       "<p>17795 rows × 2 columns</p>\n",
       "</div>"
      ],
      "text/plain": [
       "            Time                                          Headlines\n",
       "0      18-Jul-20   Johnson is asking Santa for a Christmas recovery\n",
       "1      18-Jul-20  ‘I now fear the worst’: four grim tales of wor...\n",
       "2      18-Jul-20  Five key areas Sunak must tackle to serve up e...\n",
       "3      18-Jul-20  Covid-19 leaves firms ‘fatally ill-prepared’ f...\n",
       "4      18-Jul-20  The Week in Patriarchy  \\n\\n\\n  Bacardi's 'lad...\n",
       "...          ...                                                ...\n",
       "17790  17-Dec-17  How investing in solar energy can create a bri...\n",
       "17791  17-Dec-17     Poundland suppliers hit by insurance downgrade\n",
       "17792  17-Dec-17  Cryptocurrencies: City watchdog to investigate...\n",
       "17793  17-Dec-17  Unilever sells household name spreads to KKR f...\n",
       "17794  17-Dec-17  The Guardian view on Ryanair’s model: a union-...\n",
       "\n",
       "[17795 rows x 2 columns]"
      ]
     },
     "execution_count": 123,
     "metadata": {},
     "output_type": "execute_result"
    }
   ],
   "source": [
    "# drop duplicate rows in headlines and keep the first one\n",
    "guardian_headlines = guardian_headlines.drop_duplicates(subset=['Headlines'],keep='first')\n",
    "guardian_headlines.reset_index(drop=True, inplace=True)\n",
    "guardian_headlines"
   ]
  },
  {
   "cell_type": "code",
   "execution_count": 124,
   "metadata": {},
   "outputs": [
    {
     "data": {
      "text/plain": [
       "(17795, 2)"
      ]
     },
     "execution_count": 124,
     "metadata": {},
     "output_type": "execute_result"
    }
   ],
   "source": [
    "guardian_headlines.shape"
   ]
  },
  {
   "cell_type": "markdown",
   "metadata": {
    "id": "3iwjVwnv6-v3"
   },
   "source": [
    "# Basic EDA on reuters headlines"
   ]
  },
  {
   "cell_type": "code",
   "execution_count": 125,
   "metadata": {
    "id": "asNDch3WhZXh"
   },
   "outputs": [],
   "source": [
    "# Read csv file of reuters headlines using using pandas\n",
    "reuters_headlines = pd.read_csv('reuters_headlines.csv')"
   ]
  },
  {
   "cell_type": "code",
   "execution_count": 126,
   "metadata": {
    "colab": {
     "base_uri": "https://localhost:8080/",
     "height": 202
    },
    "id": "n-FuGab8hZS0",
    "outputId": "61fbc9af-cc62-4f68-bf99-3d071af01425"
   },
   "outputs": [
    {
     "data": {
      "text/html": [
       "<div>\n",
       "<style scoped>\n",
       "    .dataframe tbody tr th:only-of-type {\n",
       "        vertical-align: middle;\n",
       "    }\n",
       "\n",
       "    .dataframe tbody tr th {\n",
       "        vertical-align: top;\n",
       "    }\n",
       "\n",
       "    .dataframe thead th {\n",
       "        text-align: right;\n",
       "    }\n",
       "</style>\n",
       "<table border=\"1\" class=\"dataframe\">\n",
       "  <thead>\n",
       "    <tr style=\"text-align: right;\">\n",
       "      <th></th>\n",
       "      <th>Headlines</th>\n",
       "      <th>Time</th>\n",
       "      <th>Description</th>\n",
       "    </tr>\n",
       "  </thead>\n",
       "  <tbody>\n",
       "    <tr>\n",
       "      <th>0</th>\n",
       "      <td>TikTok considers London and other locations fo...</td>\n",
       "      <td>Jul 18 2020</td>\n",
       "      <td>TikTok has been in discussions with the UK gov...</td>\n",
       "    </tr>\n",
       "    <tr>\n",
       "      <th>1</th>\n",
       "      <td>Disney cuts ad spending on Facebook amid growi...</td>\n",
       "      <td>Jul 18 2020</td>\n",
       "      <td>Walt Disney  has become the latest company to ...</td>\n",
       "    </tr>\n",
       "    <tr>\n",
       "      <th>2</th>\n",
       "      <td>Trail of missing Wirecard executive leads to B...</td>\n",
       "      <td>Jul 18 2020</td>\n",
       "      <td>Former Wirecard  chief operating officer Jan M...</td>\n",
       "    </tr>\n",
       "    <tr>\n",
       "      <th>3</th>\n",
       "      <td>Twitter says attackers downloaded data from up...</td>\n",
       "      <td>Jul 18 2020</td>\n",
       "      <td>Twitter Inc said on Saturday that hackers were...</td>\n",
       "    </tr>\n",
       "    <tr>\n",
       "      <th>4</th>\n",
       "      <td>U.S. Republicans seek liability protections as...</td>\n",
       "      <td>Jul 17 2020</td>\n",
       "      <td>A battle in the U.S. Congress over a new coron...</td>\n",
       "    </tr>\n",
       "  </tbody>\n",
       "</table>\n",
       "</div>"
      ],
      "text/plain": [
       "                                           Headlines         Time  \\\n",
       "0  TikTok considers London and other locations fo...  Jul 18 2020   \n",
       "1  Disney cuts ad spending on Facebook amid growi...  Jul 18 2020   \n",
       "2  Trail of missing Wirecard executive leads to B...  Jul 18 2020   \n",
       "3  Twitter says attackers downloaded data from up...  Jul 18 2020   \n",
       "4  U.S. Republicans seek liability protections as...  Jul 17 2020   \n",
       "\n",
       "                                         Description  \n",
       "0  TikTok has been in discussions with the UK gov...  \n",
       "1  Walt Disney  has become the latest company to ...  \n",
       "2  Former Wirecard  chief operating officer Jan M...  \n",
       "3  Twitter Inc said on Saturday that hackers were...  \n",
       "4  A battle in the U.S. Congress over a new coron...  "
      ]
     },
     "execution_count": 126,
     "metadata": {},
     "output_type": "execute_result"
    }
   ],
   "source": [
    "reuters_headlines.head()"
   ]
  },
  {
   "cell_type": "code",
   "execution_count": 127,
   "metadata": {
    "colab": {
     "base_uri": "https://localhost:8080/"
    },
    "id": "aRIhdEPyhZR3",
    "outputId": "a2592db9-0d2c-45e6-9f36-926a14eb5602"
   },
   "outputs": [
    {
     "data": {
      "text/plain": [
       "(32770, 3)"
      ]
     },
     "execution_count": 127,
     "metadata": {},
     "output_type": "execute_result"
    }
   ],
   "source": [
    "#check the shape of reuters headlines dataset\n",
    "reuters_headlines.shape"
   ]
  },
  {
   "cell_type": "code",
   "execution_count": 128,
   "metadata": {
    "colab": {
     "base_uri": "https://localhost:8080/"
    },
    "id": "zn6OnjCwhZN8",
    "outputId": "7965f9fb-0c75-4356-9ad0-4d8fe1727c3d"
   },
   "outputs": [
    {
     "data": {
      "text/plain": [
       "Index(['Headlines', 'Time', 'Description'], dtype='object')"
      ]
     },
     "execution_count": 128,
     "metadata": {},
     "output_type": "execute_result"
    }
   ],
   "source": [
    "#check the columns of reuters headline dataset\n",
    "reuters_headlines.columns"
   ]
  },
  {
   "cell_type": "code",
   "execution_count": 129,
   "metadata": {
    "colab": {
     "base_uri": "https://localhost:8080/"
    },
    "id": "go-UtVDjhZM1",
    "outputId": "f423cfcf-3bdf-471c-fb4d-1424787d9c79"
   },
   "outputs": [
    {
     "name": "stdout",
     "output_type": "stream",
     "text": [
      "<class 'pandas.core.frame.DataFrame'>\n",
      "RangeIndex: 32770 entries, 0 to 32769\n",
      "Data columns (total 3 columns):\n",
      " #   Column       Non-Null Count  Dtype \n",
      "---  ------       --------------  ----- \n",
      " 0   Headlines    32770 non-null  object\n",
      " 1   Time         32770 non-null  object\n",
      " 2   Description  32770 non-null  object\n",
      "dtypes: object(3)\n",
      "memory usage: 768.2+ KB\n"
     ]
    }
   ],
   "source": [
    "# Check which columns are having categorical, numerical or boolean values\n",
    "reuters_headlines.info()"
   ]
  },
  {
   "cell_type": "code",
   "execution_count": 130,
   "metadata": {
    "colab": {
     "base_uri": "https://localhost:8080/"
    },
    "id": "7d7HOHV7hZJM",
    "outputId": "b60f3758-a698-45ad-ec28-c22e424997f3"
   },
   "outputs": [
    {
     "data": {
      "text/plain": [
       "Headlines      0\n",
       "Time           0\n",
       "Description    0\n",
       "dtype: int64"
      ]
     },
     "execution_count": 130,
     "metadata": {},
     "output_type": "execute_result"
    }
   ],
   "source": [
    "# Check for missing values in all the columnns of reuters headlines dataset\n",
    "reuters_headlines.isnull().sum()"
   ]
  },
  {
   "cell_type": "code",
   "execution_count": 131,
   "metadata": {
    "colab": {
     "base_uri": "https://localhost:8080/",
     "height": 414
    },
    "id": "Zvbdb747hZHz",
    "outputId": "d9926a4c-1074-4c12-e41e-7607561c38fd"
   },
   "outputs": [
    {
     "data": {
      "text/html": [
       "<div>\n",
       "<style scoped>\n",
       "    .dataframe tbody tr th:only-of-type {\n",
       "        vertical-align: middle;\n",
       "    }\n",
       "\n",
       "    .dataframe tbody tr th {\n",
       "        vertical-align: top;\n",
       "    }\n",
       "\n",
       "    .dataframe thead th {\n",
       "        text-align: right;\n",
       "    }\n",
       "</style>\n",
       "<table border=\"1\" class=\"dataframe\">\n",
       "  <thead>\n",
       "    <tr style=\"text-align: right;\">\n",
       "      <th></th>\n",
       "      <th>Headlines</th>\n",
       "      <th>Time</th>\n",
       "      <th>Description</th>\n",
       "    </tr>\n",
       "  </thead>\n",
       "  <tbody>\n",
       "    <tr>\n",
       "      <th>0</th>\n",
       "      <td>TikTok considers London and other locations fo...</td>\n",
       "      <td>Jul 18 2020</td>\n",
       "      <td>TikTok has been in discussions with the UK gov...</td>\n",
       "    </tr>\n",
       "    <tr>\n",
       "      <th>1</th>\n",
       "      <td>Disney cuts ad spending on Facebook amid growi...</td>\n",
       "      <td>Jul 18 2020</td>\n",
       "      <td>Walt Disney  has become the latest company to ...</td>\n",
       "    </tr>\n",
       "    <tr>\n",
       "      <th>2</th>\n",
       "      <td>Trail of missing Wirecard executive leads to B...</td>\n",
       "      <td>Jul 18 2020</td>\n",
       "      <td>Former Wirecard  chief operating officer Jan M...</td>\n",
       "    </tr>\n",
       "    <tr>\n",
       "      <th>3</th>\n",
       "      <td>Twitter says attackers downloaded data from up...</td>\n",
       "      <td>Jul 18 2020</td>\n",
       "      <td>Twitter Inc said on Saturday that hackers were...</td>\n",
       "    </tr>\n",
       "    <tr>\n",
       "      <th>4</th>\n",
       "      <td>U.S. Republicans seek liability protections as...</td>\n",
       "      <td>Jul 17 2020</td>\n",
       "      <td>A battle in the U.S. Congress over a new coron...</td>\n",
       "    </tr>\n",
       "    <tr>\n",
       "      <th>...</th>\n",
       "      <td>...</td>\n",
       "      <td>...</td>\n",
       "      <td>...</td>\n",
       "    </tr>\n",
       "    <tr>\n",
       "      <th>32668</th>\n",
       "      <td>Malaysia says never hired British data firm at...</td>\n",
       "      <td>Mar 20 2018</td>\n",
       "      <td>The Malaysian government and the ruling party ...</td>\n",
       "    </tr>\n",
       "    <tr>\n",
       "      <th>32669</th>\n",
       "      <td>Prosecutors search Volkswagen headquarters in ...</td>\n",
       "      <td>Mar 20 2018</td>\n",
       "      <td>German prosecutors said on Tuesday they had se...</td>\n",
       "    </tr>\n",
       "    <tr>\n",
       "      <th>32670</th>\n",
       "      <td>McDonald's sets greenhouse gas reduction targets</td>\n",
       "      <td>Mar 20 2018</td>\n",
       "      <td>McDonald's Corp on Tuesday announced an approv...</td>\n",
       "    </tr>\n",
       "    <tr>\n",
       "      <th>32671</th>\n",
       "      <td>Pratt &amp; Whitney to deliver spare A320neo engin...</td>\n",
       "      <td>Mar 20 2018</td>\n",
       "      <td>Pratt &amp; Whitney will soon begin deliveries of ...</td>\n",
       "    </tr>\n",
       "    <tr>\n",
       "      <th>32672</th>\n",
       "      <td>UK will always consider ways to improve data l...</td>\n",
       "      <td>Mar 20 2018</td>\n",
       "      <td>Britain will consider any suggestions to give ...</td>\n",
       "    </tr>\n",
       "  </tbody>\n",
       "</table>\n",
       "<p>32673 rows × 3 columns</p>\n",
       "</div>"
      ],
      "text/plain": [
       "                                               Headlines         Time  \\\n",
       "0      TikTok considers London and other locations fo...  Jul 18 2020   \n",
       "1      Disney cuts ad spending on Facebook amid growi...  Jul 18 2020   \n",
       "2      Trail of missing Wirecard executive leads to B...  Jul 18 2020   \n",
       "3      Twitter says attackers downloaded data from up...  Jul 18 2020   \n",
       "4      U.S. Republicans seek liability protections as...  Jul 17 2020   \n",
       "...                                                  ...          ...   \n",
       "32668  Malaysia says never hired British data firm at...  Mar 20 2018   \n",
       "32669  Prosecutors search Volkswagen headquarters in ...  Mar 20 2018   \n",
       "32670   McDonald's sets greenhouse gas reduction targets  Mar 20 2018   \n",
       "32671  Pratt & Whitney to deliver spare A320neo engin...  Mar 20 2018   \n",
       "32672  UK will always consider ways to improve data l...  Mar 20 2018   \n",
       "\n",
       "                                             Description  \n",
       "0      TikTok has been in discussions with the UK gov...  \n",
       "1      Walt Disney  has become the latest company to ...  \n",
       "2      Former Wirecard  chief operating officer Jan M...  \n",
       "3      Twitter Inc said on Saturday that hackers were...  \n",
       "4      A battle in the U.S. Congress over a new coron...  \n",
       "...                                                  ...  \n",
       "32668  The Malaysian government and the ruling party ...  \n",
       "32669  German prosecutors said on Tuesday they had se...  \n",
       "32670  McDonald's Corp on Tuesday announced an approv...  \n",
       "32671  Pratt & Whitney will soon begin deliveries of ...  \n",
       "32672  Britain will consider any suggestions to give ...  \n",
       "\n",
       "[32673 rows x 3 columns]"
      ]
     },
     "execution_count": 131,
     "metadata": {},
     "output_type": "execute_result"
    }
   ],
   "source": [
    "#drop the duplicate rows in reuters headlines dataset and keep the first one\n",
    "reuters_headlines = reuters_headlines.drop_duplicates(subset=['Headlines','Description'], keep='first')\n",
    "reuters_headlines.reset_index(drop=True, inplace = True)\n",
    "reuters_headlines"
   ]
  },
  {
   "cell_type": "code",
   "execution_count": 132,
   "metadata": {},
   "outputs": [
    {
     "data": {
      "text/plain": [
       "(32673, 3)"
      ]
     },
     "execution_count": 132,
     "metadata": {},
     "output_type": "execute_result"
    }
   ],
   "source": [
    "reuters_headlines.shape"
   ]
  },
  {
   "cell_type": "markdown",
   "metadata": {
    "id": "94zINn2npv1V"
   },
   "source": [
    "Preprocessing "
   ]
  },
  {
   "cell_type": "markdown",
   "metadata": {
    "id": "nV7crjnBpyX9"
   },
   "source": [
    "1. **Lowercase** - It is necessary to convert the text to lower case as it is case sensitive.\n",
    "\n",
    "2. **remove punctuations** -  The punctuations present in the text do not add value to the data. The punctuation, when attached to any word, will create a problem in differentiating with other words. so we have to get rid of them.\n",
    "\n",
    "3. **remove stopwords** -  Stopwords include: I, he, she, and, but, was were, being, have, etc, which do not add meaning to the data. So these words must be removed which helps to reduce the features from our data. These are removed after tokenizing the text.\n",
    "\n",
    "4. **stemming** -  A technique that takes the word to its root form. It just removes suffixes from the words. The stemmed word might not be part of the dictionary, i.e it will not necessarily give meaning.\n",
    "\n",
    "5. **lemmatizing** -  Takes the word to its root form called Lemma. It helps to bring words to their dictionary form. It is applied to nouns by default. It is more accurate as it uses more informed analysis to create groups of words with similar meanings based on the context, so it is complex and takes more time. This is used where we need to retain the contextual information.\n",
    "\n"
   ]
  },
  {
   "cell_type": "code",
   "execution_count": 133,
   "metadata": {
    "id": "djtZVA_IhY9b"
   },
   "outputs": [],
   "source": [
    "# create a function for preprocessing \n",
    "def preprocessing_text(text):\n",
    "  #convert all to lowercase\n",
    "    text = text.lower()\n",
    "\n",
    "  #remove puntuations\n",
    "    text = text.translate(str.maketrans(\"\",\"\", string.punctuation))\n",
    "\n",
    "  #remove stopword\n",
    "    stopword = set(stopwords.words(\"english\"))\n",
    "    text_tokens = word_tokenize(text)\n",
    "    filtered_words = [word for word in text_tokens if word not in stopword]\n",
    "\n",
    "  #stemming\n",
    "    ps = PorterStemmer()\n",
    "    stemmed_words = [ps.stem(word) for word in filtered_words ]\n",
    "\n",
    "  #lemmitizing\n",
    " \n",
    "    lemmatizer = WordNetLemmatizer()\n",
    "    lemma_words = [lemmatizer.lemmatize(word,pos='a') for word in stemmed_words]\n",
    "\n",
    "    return \" \".join(lemma_words)"
   ]
  },
  {
   "cell_type": "markdown",
   "metadata": {
    "id": "pjlDZ7Peu7t1"
   },
   "source": [
    "SENTIMENT ANAYSIS"
   ]
  },
  {
   "cell_type": "code",
   "execution_count": 134,
   "metadata": {
    "colab": {
     "base_uri": "https://localhost:8080/"
    },
    "id": "HUxqpmosB6vy",
    "outputId": "77151daa-a298-4a80-eaa6-f5dc11a340f1"
   },
   "outputs": [
    {
     "name": "stderr",
     "output_type": "stream",
     "text": [
      "[nltk_data] Downloading package vader_lexicon to\n",
      "[nltk_data]     C:\\Users\\Muskan\\AppData\\Roaming\\nltk_data...\n",
      "[nltk_data]   Package vader_lexicon is already up-to-date!\n"
     ]
    }
   ],
   "source": [
    "# import sentiment intensity analyzer\n",
    "from nltk.sentiment.vader import SentimentIntensityAnalyzer\n",
    "nltk.download('vader_lexicon')\n",
    "\n",
    "# create sentiment intensity analyzer object\n",
    "analyzer = SentimentIntensityAnalyzer()\n"
   ]
  },
  {
   "cell_type": "code",
   "execution_count": 135,
   "metadata": {
    "id": "GscOEWSjGfa2"
   },
   "outputs": [],
   "source": [
    "#fuction to  decide sentiment as positive, negative and neutral\n",
    "def get_analysis(score):\n",
    "    if score < 0.0:\n",
    "        return 'Negative'\n",
    "    elif score == 0.0:\n",
    "        return 'Neutral'\n",
    "    else:\n",
    "        return 'Positive'"
   ]
  },
  {
   "cell_type": "markdown",
   "metadata": {
    "id": "RVa-zf7xfRjc"
   },
   "source": [
    "# Now working with description on datasets"
   ]
  },
  {
   "cell_type": "code",
   "execution_count": 136,
   "metadata": {
    "id": "NFS1pS0Zws6Z"
   },
   "outputs": [],
   "source": [
    "# concatenate cnbc headlines dataset and reuters headline dataset\n",
    "new_data = pd.concat([cnbc_headlines, reuters_headlines], axis=0)"
   ]
  },
  {
   "cell_type": "code",
   "execution_count": 137,
   "metadata": {
    "colab": {
     "base_uri": "https://localhost:8080/"
    },
    "id": "eDgz1y9Cwzfm",
    "outputId": "f5a8a761-7f1b-4997-dee9-f4cb89f98268"
   },
   "outputs": [
    {
     "data": {
      "text/plain": [
       "(35463, 3)"
      ]
     },
     "execution_count": 137,
     "metadata": {},
     "output_type": "execute_result"
    }
   ],
   "source": [
    "#check the shape of this new dataset\n",
    "new_data.shape"
   ]
  },
  {
   "cell_type": "code",
   "execution_count": 138,
   "metadata": {
    "id": "u0v43468m4d0"
   },
   "outputs": [],
   "source": [
    "#make a copy of new dataset \n",
    "new_data_copy = new_data.copy()"
   ]
  },
  {
   "cell_type": "code",
   "execution_count": 139,
   "metadata": {},
   "outputs": [
    {
     "data": {
      "text/html": [
       "<div>\n",
       "<style scoped>\n",
       "    .dataframe tbody tr th:only-of-type {\n",
       "        vertical-align: middle;\n",
       "    }\n",
       "\n",
       "    .dataframe tbody tr th {\n",
       "        vertical-align: top;\n",
       "    }\n",
       "\n",
       "    .dataframe thead th {\n",
       "        text-align: right;\n",
       "    }\n",
       "</style>\n",
       "<table border=\"1\" class=\"dataframe\">\n",
       "  <thead>\n",
       "    <tr style=\"text-align: right;\">\n",
       "      <th></th>\n",
       "      <th>Headlines</th>\n",
       "      <th>Time</th>\n",
       "      <th>Description</th>\n",
       "    </tr>\n",
       "  </thead>\n",
       "  <tbody>\n",
       "    <tr>\n",
       "      <th>0</th>\n",
       "      <td>Jim Cramer: A better way to invest in the Covi...</td>\n",
       "      <td>7:51  PM ET Fri, 17 July 2020</td>\n",
       "      <td>\"Mad Money\" host Jim Cramer recommended buying...</td>\n",
       "    </tr>\n",
       "    <tr>\n",
       "      <th>1</th>\n",
       "      <td>Cramer's lightning round: I would own Teradyne</td>\n",
       "      <td>7:33  PM ET Fri, 17 July 2020</td>\n",
       "      <td>\"Mad Money\" host Jim Cramer rings the lightnin...</td>\n",
       "    </tr>\n",
       "    <tr>\n",
       "      <th>2</th>\n",
       "      <td>Cramer's week ahead: Big week for earnings, ev...</td>\n",
       "      <td>7:25  PM ET Fri, 17 July 2020</td>\n",
       "      <td>\"We'll pay more for the earnings of the non-Co...</td>\n",
       "    </tr>\n",
       "    <tr>\n",
       "      <th>3</th>\n",
       "      <td>IQ Capital CEO Keith Bliss says tech and healt...</td>\n",
       "      <td>4:24  PM ET Fri, 17 July 2020</td>\n",
       "      <td>Keith Bliss, IQ Capital CEO, joins \"Closing Be...</td>\n",
       "    </tr>\n",
       "    <tr>\n",
       "      <th>4</th>\n",
       "      <td>Wall Street delivered the 'kind of pullback I'...</td>\n",
       "      <td>7:36  PM ET Thu, 16 July 2020</td>\n",
       "      <td>\"Look for the stocks of high-quality companies...</td>\n",
       "    </tr>\n",
       "  </tbody>\n",
       "</table>\n",
       "</div>"
      ],
      "text/plain": [
       "                                           Headlines  \\\n",
       "0  Jim Cramer: A better way to invest in the Covi...   \n",
       "1     Cramer's lightning round: I would own Teradyne   \n",
       "2  Cramer's week ahead: Big week for earnings, ev...   \n",
       "3  IQ Capital CEO Keith Bliss says tech and healt...   \n",
       "4  Wall Street delivered the 'kind of pullback I'...   \n",
       "\n",
       "                             Time  \\\n",
       "0   7:51  PM ET Fri, 17 July 2020   \n",
       "1   7:33  PM ET Fri, 17 July 2020   \n",
       "2   7:25  PM ET Fri, 17 July 2020   \n",
       "3   4:24  PM ET Fri, 17 July 2020   \n",
       "4   7:36  PM ET Thu, 16 July 2020   \n",
       "\n",
       "                                         Description  \n",
       "0  \"Mad Money\" host Jim Cramer recommended buying...  \n",
       "1  \"Mad Money\" host Jim Cramer rings the lightnin...  \n",
       "2  \"We'll pay more for the earnings of the non-Co...  \n",
       "3  Keith Bliss, IQ Capital CEO, joins \"Closing Be...  \n",
       "4  \"Look for the stocks of high-quality companies...  "
      ]
     },
     "execution_count": 139,
     "metadata": {},
     "output_type": "execute_result"
    }
   ],
   "source": [
    "new_data.head()"
   ]
  },
  {
   "cell_type": "code",
   "execution_count": 140,
   "metadata": {
    "colab": {
     "base_uri": "https://localhost:8080/",
     "height": 662
    },
    "id": "KMejFN4HhY44",
    "outputId": "59c6d813-245a-41f4-e2d9-b30f6921e669"
   },
   "outputs": [
    {
     "data": {
      "text/html": [
       "<div>\n",
       "<style scoped>\n",
       "    .dataframe tbody tr th:only-of-type {\n",
       "        vertical-align: middle;\n",
       "    }\n",
       "\n",
       "    .dataframe tbody tr th {\n",
       "        vertical-align: top;\n",
       "    }\n",
       "\n",
       "    .dataframe thead th {\n",
       "        text-align: right;\n",
       "    }\n",
       "</style>\n",
       "<table border=\"1\" class=\"dataframe\">\n",
       "  <thead>\n",
       "    <tr style=\"text-align: right;\">\n",
       "      <th></th>\n",
       "      <th>Headlines</th>\n",
       "      <th>Time</th>\n",
       "      <th>Description</th>\n",
       "    </tr>\n",
       "  </thead>\n",
       "  <tbody>\n",
       "    <tr>\n",
       "      <th>0</th>\n",
       "      <td>Jim Cramer: A better way to invest in the Covi...</td>\n",
       "      <td>7:51  PM ET Fri, 17 July 2020</td>\n",
       "      <td>mad money host jim cramer recommend buy four c...</td>\n",
       "    </tr>\n",
       "    <tr>\n",
       "      <th>1</th>\n",
       "      <td>Cramer's lightning round: I would own Teradyne</td>\n",
       "      <td>7:33  PM ET Fri, 17 July 2020</td>\n",
       "      <td>mad money host jim cramer ring lightn round be...</td>\n",
       "    </tr>\n",
       "    <tr>\n",
       "      <th>2</th>\n",
       "      <td>Cramer's week ahead: Big week for earnings, ev...</td>\n",
       "      <td>7:25  PM ET Fri, 17 July 2020</td>\n",
       "      <td>well pay earn noncovid compani lancet publish ...</td>\n",
       "    </tr>\n",
       "    <tr>\n",
       "      <th>3</th>\n",
       "      <td>IQ Capital CEO Keith Bliss says tech and healt...</td>\n",
       "      <td>4:24  PM ET Fri, 17 July 2020</td>\n",
       "      <td>keith bliss iq capit ceo join close bell talk ...</td>\n",
       "    </tr>\n",
       "    <tr>\n",
       "      <th>4</th>\n",
       "      <td>Wall Street delivered the 'kind of pullback I'...</td>\n",
       "      <td>7:36  PM ET Thu, 16 July 2020</td>\n",
       "      <td>look stock highqual compani go low even though...</td>\n",
       "    </tr>\n",
       "    <tr>\n",
       "      <th>5</th>\n",
       "      <td>Cramer's lightning round: I would just stay lo...</td>\n",
       "      <td>7:23  PM ET Thu, 16 July 2020</td>\n",
       "      <td>mad money host jim cramer ring lightn round be...</td>\n",
       "    </tr>\n",
       "    <tr>\n",
       "      <th>6</th>\n",
       "      <td>Acorns CEO: Parents can turn $5 into five figu...</td>\n",
       "      <td>8:03  PM ET Thu, 16 July 2020</td>\n",
       "      <td>invest 5 per day compound 70000 time child rea...</td>\n",
       "    </tr>\n",
       "    <tr>\n",
       "      <th>7</th>\n",
       "      <td>Dividend cuts may mean rethinking your retirem...</td>\n",
       "      <td>8:54  AM ET Thu, 16 July 2020</td>\n",
       "      <td>hundr compani cut suspend dividend far year se...</td>\n",
       "    </tr>\n",
       "    <tr>\n",
       "      <th>8</th>\n",
       "      <td>StockX has authenticated 1 million Jordan snea...</td>\n",
       "      <td>8:25  PM ET Wed, 15 July 2020</td>\n",
       "      <td>weve abl captur cultur moment like espn releas...</td>\n",
       "    </tr>\n",
       "    <tr>\n",
       "      <th>9</th>\n",
       "      <td>Biohaven Pharmaceuticals lands Khloe Kardashia...</td>\n",
       "      <td>7:51  PM ET Wed, 15 July 2020</td>\n",
       "      <td>biohaven ceo vlad coric said compani brought k...</td>\n",
       "    </tr>\n",
       "    <tr>\n",
       "      <th>10</th>\n",
       "      <td>Cramer's lightning round: I like Beyond Meat</td>\n",
       "      <td>7:24  PM ET Wed, 15 July 2020</td>\n",
       "      <td>mad money host jim cramer ring lightn round be...</td>\n",
       "    </tr>\n",
       "    <tr>\n",
       "      <th>11</th>\n",
       "      <td>Cramer: We desperately need another round of f...</td>\n",
       "      <td>6:51  PM ET Wed, 15 July 2020</td>\n",
       "      <td>figur wed mayb viru contain earli fall botch r...</td>\n",
       "    </tr>\n",
       "    <tr>\n",
       "      <th>12</th>\n",
       "      <td>Cramer's lightning round: Buy more VMware</td>\n",
       "      <td>7:31  PM ET Tue, 14 July 2020</td>\n",
       "      <td>mad money host jim cramer ring lightn round be...</td>\n",
       "    </tr>\n",
       "    <tr>\n",
       "      <th>13</th>\n",
       "      <td>Wall Street did something 'highly unusual' in ...</td>\n",
       "      <td>7:23  PM ET Tue, 14 July 2020</td>\n",
       "      <td>market divid four camp mad money host said</td>\n",
       "    </tr>\n",
       "    <tr>\n",
       "      <th>14</th>\n",
       "      <td>Charts suggest the S&amp;P 500 climb will stall ou...</td>\n",
       "      <td>7:02  PM ET Tue, 14 July 2020</td>\n",
       "      <td>chart interpret larri william suggest sp 500 c...</td>\n",
       "    </tr>\n",
       "    <tr>\n",
       "      <th>15</th>\n",
       "      <td>Salesforce's Marc Benioff: Face masks can end ...</td>\n",
       "      <td>9:05  PM ET Mon, 13 July 2020</td>\n",
       "      <td>salesforc ceo marc benioff told cnbc jim crame...</td>\n",
       "    </tr>\n",
       "    <tr>\n",
       "      <th>16</th>\n",
       "      <td>Crown Castle's 'good story can get even better...</td>\n",
       "      <td>8:33  PM ET Mon, 13 July 2020</td>\n",
       "      <td>either crown castl becom lean mean cell tower ...</td>\n",
       "    </tr>\n",
       "    <tr>\n",
       "      <th>17</th>\n",
       "      <td>Ellevest's Sallie Krawcheck says the economic ...</td>\n",
       "      <td>9:43  PM ET Mon, 13 July 2020</td>\n",
       "      <td>ellevest ceo salli krawcheck cofound digit inv...</td>\n",
       "    </tr>\n",
       "    <tr>\n",
       "      <th>18</th>\n",
       "      <td>Cramer's lightning round: Zoom's pullback is a...</td>\n",
       "      <td>7:38  PM ET Mon, 13 July 2020</td>\n",
       "      <td>mad money host jim cramer ring lightn round be...</td>\n",
       "    </tr>\n",
       "    <tr>\n",
       "      <th>19</th>\n",
       "      <td>Cramer's earnings watch: 'If the banks get ham...</td>\n",
       "      <td>7:24  PM ET Mon, 13 July 2020</td>\n",
       "      <td>week find real world go intrud stock market wo...</td>\n",
       "    </tr>\n",
       "  </tbody>\n",
       "</table>\n",
       "</div>"
      ],
      "text/plain": [
       "                                            Headlines  \\\n",
       "0   Jim Cramer: A better way to invest in the Covi...   \n",
       "1      Cramer's lightning round: I would own Teradyne   \n",
       "2   Cramer's week ahead: Big week for earnings, ev...   \n",
       "3   IQ Capital CEO Keith Bliss says tech and healt...   \n",
       "4   Wall Street delivered the 'kind of pullback I'...   \n",
       "5   Cramer's lightning round: I would just stay lo...   \n",
       "6   Acorns CEO: Parents can turn $5 into five figu...   \n",
       "7   Dividend cuts may mean rethinking your retirem...   \n",
       "8   StockX has authenticated 1 million Jordan snea...   \n",
       "9   Biohaven Pharmaceuticals lands Khloe Kardashia...   \n",
       "10       Cramer's lightning round: I like Beyond Meat   \n",
       "11  Cramer: We desperately need another round of f...   \n",
       "12          Cramer's lightning round: Buy more VMware   \n",
       "13  Wall Street did something 'highly unusual' in ...   \n",
       "14  Charts suggest the S&P 500 climb will stall ou...   \n",
       "15  Salesforce's Marc Benioff: Face masks can end ...   \n",
       "16  Crown Castle's 'good story can get even better...   \n",
       "17  Ellevest's Sallie Krawcheck says the economic ...   \n",
       "18  Cramer's lightning round: Zoom's pullback is a...   \n",
       "19  Cramer's earnings watch: 'If the banks get ham...   \n",
       "\n",
       "                              Time  \\\n",
       "0    7:51  PM ET Fri, 17 July 2020   \n",
       "1    7:33  PM ET Fri, 17 July 2020   \n",
       "2    7:25  PM ET Fri, 17 July 2020   \n",
       "3    4:24  PM ET Fri, 17 July 2020   \n",
       "4    7:36  PM ET Thu, 16 July 2020   \n",
       "5    7:23  PM ET Thu, 16 July 2020   \n",
       "6    8:03  PM ET Thu, 16 July 2020   \n",
       "7    8:54  AM ET Thu, 16 July 2020   \n",
       "8    8:25  PM ET Wed, 15 July 2020   \n",
       "9    7:51  PM ET Wed, 15 July 2020   \n",
       "10   7:24  PM ET Wed, 15 July 2020   \n",
       "11   6:51  PM ET Wed, 15 July 2020   \n",
       "12   7:31  PM ET Tue, 14 July 2020   \n",
       "13   7:23  PM ET Tue, 14 July 2020   \n",
       "14   7:02  PM ET Tue, 14 July 2020   \n",
       "15   9:05  PM ET Mon, 13 July 2020   \n",
       "16   8:33  PM ET Mon, 13 July 2020   \n",
       "17   9:43  PM ET Mon, 13 July 2020   \n",
       "18   7:38  PM ET Mon, 13 July 2020   \n",
       "19   7:24  PM ET Mon, 13 July 2020   \n",
       "\n",
       "                                          Description  \n",
       "0   mad money host jim cramer recommend buy four c...  \n",
       "1   mad money host jim cramer ring lightn round be...  \n",
       "2   well pay earn noncovid compani lancet publish ...  \n",
       "3   keith bliss iq capit ceo join close bell talk ...  \n",
       "4   look stock highqual compani go low even though...  \n",
       "5   mad money host jim cramer ring lightn round be...  \n",
       "6   invest 5 per day compound 70000 time child rea...  \n",
       "7   hundr compani cut suspend dividend far year se...  \n",
       "8   weve abl captur cultur moment like espn releas...  \n",
       "9   biohaven ceo vlad coric said compani brought k...  \n",
       "10  mad money host jim cramer ring lightn round be...  \n",
       "11  figur wed mayb viru contain earli fall botch r...  \n",
       "12  mad money host jim cramer ring lightn round be...  \n",
       "13         market divid four camp mad money host said  \n",
       "14  chart interpret larri william suggest sp 500 c...  \n",
       "15  salesforc ceo marc benioff told cnbc jim crame...  \n",
       "16  either crown castl becom lean mean cell tower ...  \n",
       "17  ellevest ceo salli krawcheck cofound digit inv...  \n",
       "18  mad money host jim cramer ring lightn round be...  \n",
       "19  week find real world go intrud stock market wo...  "
      ]
     },
     "execution_count": 140,
     "metadata": {},
     "output_type": "execute_result"
    }
   ],
   "source": [
    "# apply preprocessing to the description of new dataset\n",
    "\n",
    "new_data['Description'] = new_data['Description'].apply(preprocessing_text)\n",
    "new_data.head(20)"
   ]
  },
  {
   "cell_type": "code",
   "execution_count": 141,
   "metadata": {
    "colab": {
     "base_uri": "https://localhost:8080/",
     "height": 414
    },
    "id": "l97AoQKkhYzb",
    "outputId": "984cc92c-5215-44d0-881e-a6947d580b96"
   },
   "outputs": [
    {
     "data": {
      "text/html": [
       "<div>\n",
       "<style scoped>\n",
       "    .dataframe tbody tr th:only-of-type {\n",
       "        vertical-align: middle;\n",
       "    }\n",
       "\n",
       "    .dataframe tbody tr th {\n",
       "        vertical-align: top;\n",
       "    }\n",
       "\n",
       "    .dataframe thead th {\n",
       "        text-align: right;\n",
       "    }\n",
       "</style>\n",
       "<table border=\"1\" class=\"dataframe\">\n",
       "  <thead>\n",
       "    <tr style=\"text-align: right;\">\n",
       "      <th></th>\n",
       "      <th>Headlines</th>\n",
       "      <th>Time</th>\n",
       "      <th>Description</th>\n",
       "      <th>ds_score</th>\n",
       "    </tr>\n",
       "  </thead>\n",
       "  <tbody>\n",
       "    <tr>\n",
       "      <th>0</th>\n",
       "      <td>Jim Cramer: A better way to invest in the Covi...</td>\n",
       "      <td>7:51  PM ET Fri, 17 July 2020</td>\n",
       "      <td>mad money host jim cramer recommend buy four c...</td>\n",
       "      <td>0.2500</td>\n",
       "    </tr>\n",
       "    <tr>\n",
       "      <th>1</th>\n",
       "      <td>Cramer's lightning round: I would own Teradyne</td>\n",
       "      <td>7:33  PM ET Fri, 17 July 2020</td>\n",
       "      <td>mad money host jim cramer ring lightn round be...</td>\n",
       "      <td>-0.4939</td>\n",
       "    </tr>\n",
       "    <tr>\n",
       "      <th>2</th>\n",
       "      <td>Cramer's week ahead: Big week for earnings, ev...</td>\n",
       "      <td>7:25  PM ET Fri, 17 July 2020</td>\n",
       "      <td>well pay earn noncovid compani lancet publish ...</td>\n",
       "      <td>0.5574</td>\n",
       "    </tr>\n",
       "    <tr>\n",
       "      <th>3</th>\n",
       "      <td>IQ Capital CEO Keith Bliss says tech and healt...</td>\n",
       "      <td>4:24  PM ET Fri, 17 July 2020</td>\n",
       "      <td>keith bliss iq capit ceo join close bell talk ...</td>\n",
       "      <td>0.7096</td>\n",
       "    </tr>\n",
       "    <tr>\n",
       "      <th>4</th>\n",
       "      <td>Wall Street delivered the 'kind of pullback I'...</td>\n",
       "      <td>7:36  PM ET Thu, 16 July 2020</td>\n",
       "      <td>look stock highqual compani go low even though...</td>\n",
       "      <td>-0.6486</td>\n",
       "    </tr>\n",
       "    <tr>\n",
       "      <th>...</th>\n",
       "      <td>...</td>\n",
       "      <td>...</td>\n",
       "      <td>...</td>\n",
       "      <td>...</td>\n",
       "    </tr>\n",
       "    <tr>\n",
       "      <th>32668</th>\n",
       "      <td>Malaysia says never hired British data firm at...</td>\n",
       "      <td>Mar 20 2018</td>\n",
       "      <td>malaysian govern rule parti tuesday deni ever ...</td>\n",
       "      <td>0.0000</td>\n",
       "    </tr>\n",
       "    <tr>\n",
       "      <th>32669</th>\n",
       "      <td>Prosecutors search Volkswagen headquarters in ...</td>\n",
       "      <td>Mar 20 2018</td>\n",
       "      <td>german prosecutor said tuesday search volkswag...</td>\n",
       "      <td>0.0000</td>\n",
       "    </tr>\n",
       "    <tr>\n",
       "      <th>32670</th>\n",
       "      <td>McDonald's sets greenhouse gas reduction targets</td>\n",
       "      <td>Mar 20 2018</td>\n",
       "      <td>mcdonald corp tuesday announc approv scienc ba...</td>\n",
       "      <td>-0.2732</td>\n",
       "    </tr>\n",
       "    <tr>\n",
       "      <th>32671</th>\n",
       "      <td>Pratt &amp; Whitney to deliver spare A320neo engin...</td>\n",
       "      <td>Mar 20 2018</td>\n",
       "      <td>pratt whitney soon begin deliveri spare engin ...</td>\n",
       "      <td>-0.3818</td>\n",
       "    </tr>\n",
       "    <tr>\n",
       "      <th>32672</th>\n",
       "      <td>UK will always consider ways to improve data l...</td>\n",
       "      <td>Mar 20 2018</td>\n",
       "      <td>britain consid suggest give bodi charg uphold ...</td>\n",
       "      <td>0.3818</td>\n",
       "    </tr>\n",
       "  </tbody>\n",
       "</table>\n",
       "<p>35463 rows × 4 columns</p>\n",
       "</div>"
      ],
      "text/plain": [
       "                                               Headlines  \\\n",
       "0      Jim Cramer: A better way to invest in the Covi...   \n",
       "1         Cramer's lightning round: I would own Teradyne   \n",
       "2      Cramer's week ahead: Big week for earnings, ev...   \n",
       "3      IQ Capital CEO Keith Bliss says tech and healt...   \n",
       "4      Wall Street delivered the 'kind of pullback I'...   \n",
       "...                                                  ...   \n",
       "32668  Malaysia says never hired British data firm at...   \n",
       "32669  Prosecutors search Volkswagen headquarters in ...   \n",
       "32670   McDonald's sets greenhouse gas reduction targets   \n",
       "32671  Pratt & Whitney to deliver spare A320neo engin...   \n",
       "32672  UK will always consider ways to improve data l...   \n",
       "\n",
       "                                 Time  \\\n",
       "0       7:51  PM ET Fri, 17 July 2020   \n",
       "1       7:33  PM ET Fri, 17 July 2020   \n",
       "2       7:25  PM ET Fri, 17 July 2020   \n",
       "3       4:24  PM ET Fri, 17 July 2020   \n",
       "4       7:36  PM ET Thu, 16 July 2020   \n",
       "...                               ...   \n",
       "32668                     Mar 20 2018   \n",
       "32669                     Mar 20 2018   \n",
       "32670                     Mar 20 2018   \n",
       "32671                     Mar 20 2018   \n",
       "32672                     Mar 20 2018   \n",
       "\n",
       "                                             Description  ds_score  \n",
       "0      mad money host jim cramer recommend buy four c...    0.2500  \n",
       "1      mad money host jim cramer ring lightn round be...   -0.4939  \n",
       "2      well pay earn noncovid compani lancet publish ...    0.5574  \n",
       "3      keith bliss iq capit ceo join close bell talk ...    0.7096  \n",
       "4      look stock highqual compani go low even though...   -0.6486  \n",
       "...                                                  ...       ...  \n",
       "32668  malaysian govern rule parti tuesday deni ever ...    0.0000  \n",
       "32669  german prosecutor said tuesday search volkswag...    0.0000  \n",
       "32670  mcdonald corp tuesday announc approv scienc ba...   -0.2732  \n",
       "32671  pratt whitney soon begin deliveri spare engin ...   -0.3818  \n",
       "32672  britain consid suggest give bodi charg uphold ...    0.3818  \n",
       "\n",
       "[35463 rows x 4 columns]"
      ]
     },
     "execution_count": 141,
     "metadata": {},
     "output_type": "execute_result"
    }
   ],
   "source": [
    "# analyze polarity score of values in description and  add new column of it in dataset\n",
    "ds_score= []\n",
    "for value in new_data['Description'].values:\n",
    "    ds_score.append(analyzer.polarity_scores(value)['compound'])\n",
    "    \n",
    "new_data['ds_score'] = ds_score\n",
    "new_data"
   ]
  },
  {
   "cell_type": "code",
   "execution_count": 142,
   "metadata": {
    "colab": {
     "base_uri": "https://localhost:8080/",
     "height": 414
    },
    "id": "c9Aq-sQ7hYu_",
    "outputId": "6f50dd1a-ba4c-4708-82ea-ed7a75459a89"
   },
   "outputs": [
    {
     "data": {
      "text/html": [
       "<div>\n",
       "<style scoped>\n",
       "    .dataframe tbody tr th:only-of-type {\n",
       "        vertical-align: middle;\n",
       "    }\n",
       "\n",
       "    .dataframe tbody tr th {\n",
       "        vertical-align: top;\n",
       "    }\n",
       "\n",
       "    .dataframe thead th {\n",
       "        text-align: right;\n",
       "    }\n",
       "</style>\n",
       "<table border=\"1\" class=\"dataframe\">\n",
       "  <thead>\n",
       "    <tr style=\"text-align: right;\">\n",
       "      <th></th>\n",
       "      <th>Headlines</th>\n",
       "      <th>Time</th>\n",
       "      <th>Description</th>\n",
       "      <th>ds_score</th>\n",
       "    </tr>\n",
       "  </thead>\n",
       "  <tbody>\n",
       "    <tr>\n",
       "      <th>0</th>\n",
       "      <td>Jim Cramer: A better way to invest in the Covi...</td>\n",
       "      <td>7:51  PM ET Fri, 17 July 2020</td>\n",
       "      <td>mad money host jim cramer recommend buy four c...</td>\n",
       "      <td>Positive</td>\n",
       "    </tr>\n",
       "    <tr>\n",
       "      <th>1</th>\n",
       "      <td>Cramer's lightning round: I would own Teradyne</td>\n",
       "      <td>7:33  PM ET Fri, 17 July 2020</td>\n",
       "      <td>mad money host jim cramer ring lightn round be...</td>\n",
       "      <td>Negative</td>\n",
       "    </tr>\n",
       "    <tr>\n",
       "      <th>2</th>\n",
       "      <td>Cramer's week ahead: Big week for earnings, ev...</td>\n",
       "      <td>7:25  PM ET Fri, 17 July 2020</td>\n",
       "      <td>well pay earn noncovid compani lancet publish ...</td>\n",
       "      <td>Positive</td>\n",
       "    </tr>\n",
       "    <tr>\n",
       "      <th>3</th>\n",
       "      <td>IQ Capital CEO Keith Bliss says tech and healt...</td>\n",
       "      <td>4:24  PM ET Fri, 17 July 2020</td>\n",
       "      <td>keith bliss iq capit ceo join close bell talk ...</td>\n",
       "      <td>Positive</td>\n",
       "    </tr>\n",
       "    <tr>\n",
       "      <th>4</th>\n",
       "      <td>Wall Street delivered the 'kind of pullback I'...</td>\n",
       "      <td>7:36  PM ET Thu, 16 July 2020</td>\n",
       "      <td>look stock highqual compani go low even though...</td>\n",
       "      <td>Negative</td>\n",
       "    </tr>\n",
       "    <tr>\n",
       "      <th>...</th>\n",
       "      <td>...</td>\n",
       "      <td>...</td>\n",
       "      <td>...</td>\n",
       "      <td>...</td>\n",
       "    </tr>\n",
       "    <tr>\n",
       "      <th>32668</th>\n",
       "      <td>Malaysia says never hired British data firm at...</td>\n",
       "      <td>Mar 20 2018</td>\n",
       "      <td>malaysian govern rule parti tuesday deni ever ...</td>\n",
       "      <td>Neutral</td>\n",
       "    </tr>\n",
       "    <tr>\n",
       "      <th>32669</th>\n",
       "      <td>Prosecutors search Volkswagen headquarters in ...</td>\n",
       "      <td>Mar 20 2018</td>\n",
       "      <td>german prosecutor said tuesday search volkswag...</td>\n",
       "      <td>Neutral</td>\n",
       "    </tr>\n",
       "    <tr>\n",
       "      <th>32670</th>\n",
       "      <td>McDonald's sets greenhouse gas reduction targets</td>\n",
       "      <td>Mar 20 2018</td>\n",
       "      <td>mcdonald corp tuesday announc approv scienc ba...</td>\n",
       "      <td>Negative</td>\n",
       "    </tr>\n",
       "    <tr>\n",
       "      <th>32671</th>\n",
       "      <td>Pratt &amp; Whitney to deliver spare A320neo engin...</td>\n",
       "      <td>Mar 20 2018</td>\n",
       "      <td>pratt whitney soon begin deliveri spare engin ...</td>\n",
       "      <td>Negative</td>\n",
       "    </tr>\n",
       "    <tr>\n",
       "      <th>32672</th>\n",
       "      <td>UK will always consider ways to improve data l...</td>\n",
       "      <td>Mar 20 2018</td>\n",
       "      <td>britain consid suggest give bodi charg uphold ...</td>\n",
       "      <td>Positive</td>\n",
       "    </tr>\n",
       "  </tbody>\n",
       "</table>\n",
       "<p>35463 rows × 4 columns</p>\n",
       "</div>"
      ],
      "text/plain": [
       "                                               Headlines  \\\n",
       "0      Jim Cramer: A better way to invest in the Covi...   \n",
       "1         Cramer's lightning round: I would own Teradyne   \n",
       "2      Cramer's week ahead: Big week for earnings, ev...   \n",
       "3      IQ Capital CEO Keith Bliss says tech and healt...   \n",
       "4      Wall Street delivered the 'kind of pullback I'...   \n",
       "...                                                  ...   \n",
       "32668  Malaysia says never hired British data firm at...   \n",
       "32669  Prosecutors search Volkswagen headquarters in ...   \n",
       "32670   McDonald's sets greenhouse gas reduction targets   \n",
       "32671  Pratt & Whitney to deliver spare A320neo engin...   \n",
       "32672  UK will always consider ways to improve data l...   \n",
       "\n",
       "                                 Time  \\\n",
       "0       7:51  PM ET Fri, 17 July 2020   \n",
       "1       7:33  PM ET Fri, 17 July 2020   \n",
       "2       7:25  PM ET Fri, 17 July 2020   \n",
       "3       4:24  PM ET Fri, 17 July 2020   \n",
       "4       7:36  PM ET Thu, 16 July 2020   \n",
       "...                               ...   \n",
       "32668                     Mar 20 2018   \n",
       "32669                     Mar 20 2018   \n",
       "32670                     Mar 20 2018   \n",
       "32671                     Mar 20 2018   \n",
       "32672                     Mar 20 2018   \n",
       "\n",
       "                                             Description  ds_score  \n",
       "0      mad money host jim cramer recommend buy four c...  Positive  \n",
       "1      mad money host jim cramer ring lightn round be...  Negative  \n",
       "2      well pay earn noncovid compani lancet publish ...  Positive  \n",
       "3      keith bliss iq capit ceo join close bell talk ...  Positive  \n",
       "4      look stock highqual compani go low even though...  Negative  \n",
       "...                                                  ...       ...  \n",
       "32668  malaysian govern rule parti tuesday deni ever ...   Neutral  \n",
       "32669  german prosecutor said tuesday search volkswag...   Neutral  \n",
       "32670  mcdonald corp tuesday announc approv scienc ba...  Negative  \n",
       "32671  pratt whitney soon begin deliveri spare engin ...  Negative  \n",
       "32672  britain consid suggest give bodi charg uphold ...  Positive  \n",
       "\n",
       "[35463 rows x 4 columns]"
      ]
     },
     "execution_count": 142,
     "metadata": {},
     "output_type": "execute_result"
    }
   ],
   "source": [
    "# apply the function  which decides sentiment to  polarity score column\n",
    "new_data['ds_score'] = new_data['ds_score'].apply(get_analysis)\n",
    "new_data"
   ]
  },
  {
   "cell_type": "code",
   "execution_count": 143,
   "metadata": {
    "colab": {
     "base_uri": "https://localhost:8080/",
     "height": 297
    },
    "id": "BMaNV0ayeBoI",
    "outputId": "34766863-6362-45a5-c27d-a7baf76e6223"
   },
   "outputs": [
    {
     "data": {
      "text/plain": [
       "<AxesSubplot:xlabel='ds_score', ylabel='count'>"
      ]
     },
     "execution_count": 143,
     "metadata": {},
     "output_type": "execute_result"
    },
    {
     "data": {
      "image/png": "[encoded data removed]",
      "text/plain": [
       "<Figure size 640x480 with 1 Axes>"
      ]
     },
     "metadata": {},
     "output_type": "display_data"
    }
   ],
   "source": [
    "# plot a count plot on description score column\n",
    "sns.countplot(x = 'ds_score', data = new_data)"
   ]
  },
  {
   "cell_type": "markdown",
   "metadata": {
    "id": "r5q_doOjIQu-"
   },
   "source": [
    "In the description \n",
    "\n",
    "there are approx\n",
    "\n",
    "14000 positive statment\n",
    "\n",
    "12000 negative statment\n",
    "\n",
    "8000 neutral statment"
   ]
  },
  {
   "cell_type": "code",
   "execution_count": 144,
   "metadata": {
    "colab": {
     "base_uri": "https://localhost:8080/",
     "height": 542
    },
    "id": "ptvoU5apeN4N",
    "outputId": "32e707ce-18f6-4fdc-a06d-f20e8322d5b3"
   },
   "outputs": [
    {
     "data": {
      "text/plain": [
       "Text(0.5, 1.0, 'Pie Chart of different sentiments')"
      ]
     },
     "execution_count": 144,
     "metadata": {},
     "output_type": "execute_result"
    },
    {
     "data": {
      "image/png": "[encoded data removed]",
      "text/plain": [
       "<Figure size 640x480 with 1 Axes>"
      ]
     },
     "metadata": {},
     "output_type": "display_data"
    }
   ],
   "source": [
    "# pie chart on description score column\n",
    "plt.pie(x = new_data['ds_score'].value_counts() , labels=new_data['ds_score'].value_counts().index , startangle=90,\n",
    "        autopct='%1.1f%%')\n",
    "plt.title('Pie Chart of different sentiments')"
   ]
  },
  {
   "cell_type": "markdown",
   "metadata": {
    "id": "5o3Z-0KhHm2w"
   },
   "source": [
    "In the dataset \n",
    "\n",
    "description contains\n",
    "\n",
    "42.6% positive statments\n",
    "\n",
    "34.5% negtive statements\n",
    "\n",
    "22.9% neutral statments"
   ]
  },
  {
   "cell_type": "markdown",
   "metadata": {
    "id": "wgt0f3fKfakl"
   },
   "source": [
    "# Modelling on description "
   ]
  },
  {
   "cell_type": "code",
   "execution_count": 145,
   "metadata": {},
   "outputs": [],
   "source": [
    "from sklearn.model_selection import train_test_split"
   ]
  },
  {
   "cell_type": "code",
   "execution_count": 146,
   "metadata": {},
   "outputs": [],
   "source": [
    "X = new_data['Description']\n",
    "y= new_data['ds_score']"
   ]
  },
  {
   "cell_type": "code",
   "execution_count": 147,
   "metadata": {
    "id": "pOd6wPeUhYd2"
   },
   "outputs": [],
   "source": [
    "# split the dataset  into test and train \n",
    "# 90% train , 10% test and random state 212\n",
    "X_train, X_test, y_train, y_test = train_test_split(X, y, test_size=0.1, random_state=212)"
   ]
  },
  {
   "cell_type": "markdown",
   "metadata": {
    "id": "hVuDdLFJkFSb"
   },
   "source": [
    "LINEAR SUPPORT VECTOR MACHINE\n"
   ]
  },
  {
   "cell_type": "code",
   "execution_count": 148,
   "metadata": {},
   "outputs": [],
   "source": [
    "from sklearn.pipeline import Pipeline\n",
    "from sklearn.feature_extraction.text import TfidfVectorizer, TfidfTransformer\n",
    "from sklearn.svm import LinearSVC\n",
    "from sklearn.linear_model import LogisticRegression\n",
    "from sklearn.feature_extraction.text import CountVectorizer\n",
    "from sklearn.naive_bayes import MultinomialNB\n",
    "from sklearn.naive_bayes import BernoulliNB\n",
    "from sklearn.tree import DecisionTreeClassifier\n",
    "from sklearn.ensemble import GradientBoostingClassifier\n",
    "from xgboost import XGBClassifier\n",
    "from sklearn.neighbors import KNeighborsClassifier\n",
    "from sklearn.metrics import accuracy_score, confusion_matrix, classification_report"
   ]
  },
  {
   "cell_type": "code",
   "execution_count": 149,
   "metadata": {
    "colab": {
     "base_uri": "https://localhost:8080/"
    },
    "id": "exk6nRwomgAt",
    "outputId": "5de5fd8f-a60c-4317-9c81-2baf81621a40"
   },
   "outputs": [
    {
     "name": "stdout",
     "output_type": "stream",
     "text": [
      "Model = Linear SVC\n",
      "accuracy score is 93.43 %\n",
      "[[1122   48   54]\n",
      " [  26  771   19]\n",
      " [  53   33 1421]]\n",
      "              precision    recall  f1-score   support\n",
      "\n",
      "    Negative       0.93      0.92      0.93      1224\n",
      "     Neutral       0.90      0.94      0.92       816\n",
      "    Positive       0.95      0.94      0.95      1507\n",
      "\n",
      "    accuracy                           0.93      3547\n",
      "   macro avg       0.93      0.93      0.93      3547\n",
      "weighted avg       0.93      0.93      0.93      3547\n",
      "\n",
      "Wall time: 1.39 s\n"
     ]
    }
   ],
   "source": [
    "%%time\n",
    "# pipeline creation\n",
    "# 1. tfidVectorization\n",
    "# 2. linearSVC model\n",
    "pipe = Pipeline([('tfidf',TfidfVectorizer()),\n",
    "                ('model',LinearSVC())])\n",
    "\n",
    "\n",
    "# Fit the pipeline to the data\n",
    "linear_svc_model = pipe.fit(X_train, y_train)\n",
    "# predict on test dataset\n",
    "prediction = linear_svc_model.predict(X_test)\n",
    "\n",
    "print(\"Model = Linear SVC\")\n",
    "# print accuracy score\n",
    "print(f\"accuracy score is {round(accuracy_score(y_test,prediction)*100,2)} %\")\n",
    "\n",
    "#print confusion matrix\n",
    "print(confusion_matrix(y_test,prediction))\n",
    "#print classification report\n",
    "print(classification_report(y_test,prediction))"
   ]
  },
  {
   "cell_type": "markdown",
   "metadata": {
    "id": "6Qq4dK32kBpM"
   },
   "source": [
    "LOGISTIC REGRESSION\n"
   ]
  },
  {
   "cell_type": "code",
   "execution_count": 150,
   "metadata": {
    "colab": {
     "base_uri": "https://localhost:8080/"
    },
    "id": "0w0yNn2_mf_s",
    "outputId": "17175fb5-83c7-4204-f358-42007a8f2168"
   },
   "outputs": [
    {
     "name": "stdout",
     "output_type": "stream",
     "text": [
      "Model - Logistic Regression\n",
      "accuracy score is 89.46 %\n",
      "[[1047   93   84]\n",
      " [  44  740   32]\n",
      " [  69   52 1386]]\n",
      "              precision    recall  f1-score   support\n",
      "\n",
      "    Negative       0.90      0.86      0.88      1224\n",
      "     Neutral       0.84      0.91      0.87       816\n",
      "    Positive       0.92      0.92      0.92      1507\n",
      "\n",
      "    accuracy                           0.89      3547\n",
      "   macro avg       0.89      0.89      0.89      3547\n",
      "weighted avg       0.90      0.89      0.89      3547\n",
      "\n",
      "Wall time: 4.19 s\n"
     ]
    },
    {
     "name": "stderr",
     "output_type": "stream",
     "text": [
      "C:\\Users\\Muskan\\anaconda3\\lib\\site-packages\\sklearn\\linear_model\\_logistic.py:814: ConvergenceWarning: lbfgs failed to converge (status=1):\n",
      "STOP: TOTAL NO. of ITERATIONS REACHED LIMIT.\n",
      "\n",
      "Increase the number of iterations (max_iter) or scale the data as shown in:\n",
      "    https://scikit-learn.org/stable/modules/preprocessing.html\n",
      "Please also refer to the documentation for alternative solver options:\n",
      "    https://scikit-learn.org/stable/modules/linear_model.html#logistic-regression\n",
      "  n_iter_i = _check_optimize_result(\n"
     ]
    }
   ],
   "source": [
    "%%time\n",
    "# pipeline creation \n",
    "# 1. CountVectorization\n",
    "# 2. TfidTransformer\n",
    "# 3. Logistic Regression\n",
    "pipe = Pipeline([('vector', CountVectorizer()),\n",
    "                ('tfidf',TfidfTransformer()),\n",
    "                ('model', LogisticRegression())])\n",
    "\n",
    "# fit the pipeline to the train data\n",
    "log_model = pipe.fit(X_train,y_train)\n",
    "\n",
    "# predict on test dataset\n",
    "prediction = log_model.predict(X_test)\n",
    "\n",
    "print(\"Model - Logistic Regression\")\n",
    "# print accuracy score\n",
    "print(f\"accuracy score is {round(accuracy_score(y_test,prediction)*100,2)} %\")\n",
    "\n",
    "#print confusion matrix\n",
    "print(confusion_matrix(y_test,prediction))\n",
    "#print classification report\n",
    "print(classification_report(y_test,prediction))"
   ]
  },
  {
   "cell_type": "markdown",
   "metadata": {
    "id": "XbFrK_pXj-HC"
   },
   "source": [
    "MULTINOMIAL NAIVE BAYES\n"
   ]
  },
  {
   "cell_type": "code",
   "execution_count": 151,
   "metadata": {
    "colab": {
     "base_uri": "https://localhost:8080/"
    },
    "id": "ag3ceKiEmfxR",
    "outputId": "2d14e551-23eb-4ced-d133-e5fd561f7c72"
   },
   "outputs": [
    {
     "name": "stdout",
     "output_type": "stream",
     "text": [
      "Model - Multinomial Naive Bayes\n",
      "accuracy score is 62.31 %\n",
      "[[ 729    8  487]\n",
      " [ 155   98  563]\n",
      " [ 117    7 1383]]\n",
      "              precision    recall  f1-score   support\n",
      "\n",
      "    Negative       0.73      0.60      0.66      1224\n",
      "     Neutral       0.87      0.12      0.21       816\n",
      "    Positive       0.57      0.92      0.70      1507\n",
      "\n",
      "    accuracy                           0.62      3547\n",
      "   macro avg       0.72      0.54      0.52      3547\n",
      "weighted avg       0.69      0.62      0.57      3547\n",
      "\n",
      "Wall time: 893 ms\n"
     ]
    }
   ],
   "source": [
    "%%time\n",
    "# pipeline creation \n",
    "# 1. CountVectorizer\n",
    "# 2. TfidTransformer\n",
    "# 3. MultinomialNB\n",
    "pipe = Pipeline([('vector', CountVectorizer()),\n",
    "                ('tfidf',TfidfTransformer()),\n",
    "                ('model', MultinomialNB())])\n",
    "\n",
    "# fit the pipeline to the train data\n",
    "multinomialNB_model = pipe.fit(X_train,y_train)\n",
    "\n",
    "# predict on test dataset\n",
    "prediction = multinomialNB_model.predict(X_test)\n",
    "\n",
    "print(\"Model - Multinomial Naive Bayes\")\n",
    "# print accuracy score\n",
    "print(f\"accuracy score is {round(accuracy_score(y_test,prediction)*100,2)} %\")\n",
    "\n",
    "#print confusion matrix\n",
    "print(confusion_matrix(y_test,prediction))\n",
    "#print classification report\n",
    "print(classification_report(y_test,prediction))"
   ]
  },
  {
   "cell_type": "markdown",
   "metadata": {
    "id": "-79YSosbj7HP"
   },
   "source": [
    "BERNOULLI NAIVE BAYES\n"
   ]
  },
  {
   "cell_type": "code",
   "execution_count": 152,
   "metadata": {
    "colab": {
     "base_uri": "https://localhost:8080/"
    },
    "id": "N-ftjtoEmfsP",
    "outputId": "fc46a6c1-da3e-46e4-a2f1-37e562cf708c"
   },
   "outputs": [
    {
     "name": "stdout",
     "output_type": "stream",
     "text": [
      "Model - Bernoulli Naive Bayes \n",
      "accuracy score is 73.61 %\n",
      "[[ 879   70  275]\n",
      " [ 127  496  193]\n",
      " [ 198   73 1236]]\n",
      "              precision    recall  f1-score   support\n",
      "\n",
      "    Negative       0.73      0.72      0.72      1224\n",
      "     Neutral       0.78      0.61      0.68       816\n",
      "    Positive       0.73      0.82      0.77      1507\n",
      "\n",
      "    accuracy                           0.74      3547\n",
      "   macro avg       0.74      0.72      0.73      3547\n",
      "weighted avg       0.74      0.74      0.73      3547\n",
      "\n",
      "Wall time: 933 ms\n"
     ]
    }
   ],
   "source": [
    "%%time\n",
    "# pipeline creation \n",
    "# 1. CountVectorizer\n",
    "# 2. TfidTransformer\n",
    "# 3. BernoulliNB\n",
    "\n",
    "pipe = Pipeline([('vector', CountVectorizer()),\n",
    "                ('tfidf',TfidfTransformer()),\n",
    "                ('model', BernoulliNB())])\n",
    "\n",
    "# fit the pipeline to the train data\n",
    "BernoulliNB_model = pipe.fit(X_train,y_train)\n",
    "\n",
    "# predict on test dataset\n",
    "prediction = BernoulliNB_model.predict(X_test)\n",
    "\n",
    "print(\"Model - Bernoulli Naive Bayes \")\n",
    "# print accuracy score\n",
    "print(f\"accuracy score is {round(accuracy_score(y_test,prediction)*100,2)} %\")\n",
    "\n",
    "#print confusion matrix\n",
    "print(confusion_matrix(y_test,prediction))\n",
    "#print classification report\n",
    "print(classification_report(y_test,prediction))"
   ]
  },
  {
   "cell_type": "markdown",
   "metadata": {
    "id": "DDcEnl9uj3yl"
   },
   "source": [
    "GRADIENT BOOSTING CLASSIFICATION MODEL\n"
   ]
  },
  {
   "cell_type": "code",
   "execution_count": 153,
   "metadata": {
    "colab": {
     "base_uri": "https://localhost:8080/"
    },
    "id": "vTT-HmujmfrR",
    "outputId": "8987cfa9-952f-4c27-cd42-452a26a479bb"
   },
   "outputs": [
    {
     "name": "stdout",
     "output_type": "stream",
     "text": [
      "Model - GRADIENT BOOSTING CLASSIFICATION \n",
      "accuracy score is 42.68 %\n",
      "[[   9    0 1215]\n",
      " [   0    0  816]\n",
      " [   2    0 1505]]\n",
      "              precision    recall  f1-score   support\n",
      "\n",
      "    Negative       0.82      0.01      0.01      1224\n",
      "     Neutral       0.00      0.00      0.00       816\n",
      "    Positive       0.43      1.00      0.60      1507\n",
      "\n",
      "    accuracy                           0.43      3547\n",
      "   macro avg       0.41      0.34      0.20      3547\n",
      "weighted avg       0.46      0.43      0.26      3547\n",
      "\n",
      "Wall time: 10.7 s\n"
     ]
    },
    {
     "name": "stderr",
     "output_type": "stream",
     "text": [
      "C:\\Users\\Muskan\\anaconda3\\lib\\site-packages\\sklearn\\metrics\\_classification.py:1318: UndefinedMetricWarning: Precision and F-score are ill-defined and being set to 0.0 in labels with no predicted samples. Use `zero_division` parameter to control this behavior.\n",
      "  _warn_prf(average, modifier, msg_start, len(result))\n",
      "C:\\Users\\Muskan\\anaconda3\\lib\\site-packages\\sklearn\\metrics\\_classification.py:1318: UndefinedMetricWarning: Precision and F-score are ill-defined and being set to 0.0 in labels with no predicted samples. Use `zero_division` parameter to control this behavior.\n",
      "  _warn_prf(average, modifier, msg_start, len(result))\n",
      "C:\\Users\\Muskan\\anaconda3\\lib\\site-packages\\sklearn\\metrics\\_classification.py:1318: UndefinedMetricWarning: Precision and F-score are ill-defined and being set to 0.0 in labels with no predicted samples. Use `zero_division` parameter to control this behavior.\n",
      "  _warn_prf(average, modifier, msg_start, len(result))\n"
     ]
    }
   ],
   "source": [
    "%%time\n",
    "# pipeline creation \n",
    "# 1. CountVectorizer\n",
    "# 2. TfidTransformer\n",
    "# 3. GradientBoostingClassifier\n",
    "pipe = Pipeline([('vector', CountVectorizer()),\n",
    "                ('tfidf',TfidfTransformer()),\n",
    "                ('model', GradientBoostingClassifier(loss='deviance',\n",
    "                                                    learning_rate=0.01,\n",
    "                                                    n_estimators=10,\n",
    "                                                    max_depth=5,\n",
    "                                                    random_state=55))])\n",
    "\n",
    "# fit the pipeline to the train data\n",
    "GB_model = pipe.fit(X_train,y_train)\n",
    "\n",
    "# predict on test dataset\n",
    "prediction = GB_model.predict(X_test)\n",
    "\n",
    "print(\"Model - GRADIENT BOOSTING CLASSIFICATION \")\n",
    "# print accuracy score\n",
    "print(f\"accuracy score is {round(accuracy_score(y_test,prediction)*100,2)} %\")\n",
    "\n",
    "#print confusion matrix\n",
    "print(confusion_matrix(y_test,prediction))\n",
    "#print classification report\n",
    "print(classification_report(y_test,prediction))"
   ]
  },
  {
   "cell_type": "markdown",
   "metadata": {
    "id": "hwMk-HFAjzP-"
   },
   "source": [
    "XGBOOST CLASSIFICATION MODEL\n"
   ]
  },
  {
   "cell_type": "code",
   "execution_count": 154,
   "metadata": {
    "colab": {
     "base_uri": "https://localhost:8080/"
    },
    "id": "1M8E7hmnmfn1",
    "outputId": "739370a5-ba74-4119-8f09-591adaed55f7"
   },
   "outputs": [
    {
     "name": "stdout",
     "output_type": "stream",
     "text": [
      "Model - XGBOOST CLASSIFICATION CLASSIFICATION \n",
      "accuracy score is 89.57 %\n",
      "[[1016  126   82]\n",
      " [   7  796   13]\n",
      " [  64   78 1365]]\n",
      "              precision    recall  f1-score   support\n",
      "\n",
      "           0       0.93      0.83      0.88      1224\n",
      "           1       0.80      0.98      0.88       816\n",
      "           2       0.93      0.91      0.92      1507\n",
      "\n",
      "    accuracy                           0.90      3547\n",
      "   macro avg       0.89      0.90      0.89      3547\n",
      "weighted avg       0.90      0.90      0.90      3547\n",
      "\n",
      "Wall time: 36.5 s\n"
     ]
    }
   ],
   "source": [
    "%%time\n",
    "# pipeline creation \n",
    "# 1. CountVectorizer\n",
    "# 2. TfidTransformer\n",
    "# 3. XGBClassifier\n",
    "\n",
    "from sklearn.preprocessing import LabelEncoder\n",
    "# Create a label encoder\n",
    "label_encoder = LabelEncoder()\n",
    "\n",
    "# Fit and transform the labels in your target variable\n",
    "y_train_encoded = label_encoder.fit_transform(y_train)\n",
    "y_test_encoded = label_encoder.transform(y_test)\n",
    "\n",
    "pipe = Pipeline([('vector', CountVectorizer()),\n",
    "                ('tfidf',TfidfTransformer()),\n",
    "                ('model', XGBClassifier())])\n",
    "\n",
    "# fit the pipeline to the train data\n",
    "XGB_model = pipe.fit(X_train,y_train_encoded)\n",
    "\n",
    "# predict on test dataset\n",
    "prediction = XGB_model.predict(X_test)\n",
    "\n",
    "print(\"Model - XGBOOST CLASSIFICATION CLASSIFICATION \")\n",
    "# print accuracy score\n",
    "print(f\"accuracy score is {round(accuracy_score(y_test_encoded,prediction)*100,2)} %\")\n",
    "\n",
    "#print confusion matrix\n",
    "print(confusion_matrix(y_test_encoded,prediction))\n",
    "#print classification report\n",
    "print(classification_report(y_test_encoded,prediction))"
   ]
  },
  {
   "cell_type": "markdown",
   "metadata": {
    "id": "8RvWy4tSjwDV"
   },
   "source": [
    "DECISION TREE CLASSIFICATION MODEL\n"
   ]
  },
  {
   "cell_type": "code",
   "execution_count": 155,
   "metadata": {
    "colab": {
     "base_uri": "https://localhost:8080/"
    },
    "id": "63xamISqmfmd",
    "outputId": "f4c8b146-0b8b-49a0-bd3a-b40f67372709"
   },
   "outputs": [
    {
     "name": "stdout",
     "output_type": "stream",
     "text": [
      "Model - Decision Tree \n",
      "accuracy score is 86.89 %\n",
      "[[1008   21  195]\n",
      " [  11  792   13]\n",
      " [ 213   12 1282]]\n",
      "              precision    recall  f1-score   support\n",
      "\n",
      "    Negative       0.82      0.82      0.82      1224\n",
      "     Neutral       0.96      0.97      0.97       816\n",
      "    Positive       0.86      0.85      0.86      1507\n",
      "\n",
      "    accuracy                           0.87      3547\n",
      "   macro avg       0.88      0.88      0.88      3547\n",
      "weighted avg       0.87      0.87      0.87      3547\n",
      "\n",
      "Wall time: 19.8 s\n"
     ]
    }
   ],
   "source": [
    "%%time\n",
    "# pipeline creation \n",
    "# 1. CountVectorizer\n",
    "# 2. TfidTransformer\n",
    "# 3. Decision tree classifier\n",
    "\n",
    "pipe = Pipeline([('vector', CountVectorizer()),\n",
    "                ('tfidf',TfidfTransformer()),\n",
    "                ('model', DecisionTreeClassifier())])\n",
    "\n",
    "# fit the pipeline to the train data\n",
    "Decision_model = pipe.fit(X_train,y_train)\n",
    "\n",
    "# predict on test dataset\n",
    "prediction = Decision_model.predict(X_test)\n",
    "\n",
    "print(\"Model - Decision Tree \")\n",
    "# print accuracy score\n",
    "print(f\"accuracy score is {round(accuracy_score(y_test,prediction)*100,2)} %\")\n",
    "\n",
    "#print confusion matrix\n",
    "print(confusion_matrix(y_test,prediction))\n",
    "#print classification report\n",
    "print(classification_report(y_test,prediction))"
   ]
  },
  {
   "cell_type": "markdown",
   "metadata": {
    "id": "LenIHULAjsrv"
   },
   "source": [
    "K- NEAREST NEIGHBOUR CLASSIFIER MODEL\n"
   ]
  },
  {
   "cell_type": "code",
   "execution_count": 156,
   "metadata": {
    "colab": {
     "base_uri": "https://localhost:8080/"
    },
    "id": "UtU2_7-MzQ6N",
    "outputId": "ed7a03b4-1efd-432f-e1d2-aa0e4f2375e8"
   },
   "outputs": [
    {
     "name": "stdout",
     "output_type": "stream",
     "text": [
      "Model - K- NEAREST NEIGHBOUR  \n",
      "accuracy score is 57.26 %\n",
      "[[ 672  145  407]\n",
      " [ 191  291  334]\n",
      " [ 249  190 1068]]\n",
      "              precision    recall  f1-score   support\n",
      "\n",
      "    Negative       0.60      0.55      0.58      1224\n",
      "     Neutral       0.46      0.36      0.40       816\n",
      "    Positive       0.59      0.71      0.64      1507\n",
      "\n",
      "    accuracy                           0.57      3547\n",
      "   macro avg       0.55      0.54      0.54      3547\n",
      "weighted avg       0.57      0.57      0.57      3547\n",
      "\n",
      "Wall time: 5.17 s\n"
     ]
    }
   ],
   "source": [
    "%%time\n",
    "# pipeline creation \n",
    "# 1. CountVectorizer\n",
    "# 2. TfidTransformer\n",
    "# 3. KNN classifier\n",
    "\n",
    "pipe = Pipeline([('vector', CountVectorizer()),\n",
    "                ('tfidf',TfidfTransformer()),\n",
    "                ('model', KNeighborsClassifier(n_neighbors=10,\n",
    "                                                    weights='distance'))])\n",
    "\n",
    "# fit the pipeline to the train data\n",
    "KNN_model = pipe.fit(X_train,y_train)\n",
    "\n",
    "# predict on test dataset\n",
    "prediction = KNN_model.predict(X_test)\n",
    "\n",
    "print(\"Model - K- NEAREST NEIGHBOUR  \")\n",
    "# print accuracy score\n",
    "print(f\"accuracy score is {round(accuracy_score(y_test,prediction)*100,2)} %\")\n",
    "\n",
    "#print confusion matrix\n",
    "print(confusion_matrix(y_test,prediction))\n",
    "#print classification report\n",
    "print(classification_report(y_test,prediction))"
   ]
  },
  {
   "cell_type": "code",
   "execution_count": 157,
   "metadata": {
    "id": "MlOKo4d2wkm3"
   },
   "outputs": [],
   "source": [
    "# helper function for comparing models matric\n",
    "def compare_models(models, names, X_train, y_train,X_test, y_test):\n",
    "    \n",
    "    # the libraries we need\n",
    "    import sklearn.metrics as metrics\n",
    "    from sklearn.model_selection import train_test_split\n",
    "\n",
    "    # create a dataframe with column matric and metric name as value\n",
    "    for(model,name) in zip(models,names):\n",
    "        print(name)\n",
    "        y_pred = model.predict(X_test)\n",
    "    # then predict on the test set\n",
    "        res = classification_report(y_test,y_pred)\n",
    "        print(\"classification report \\n\", res)\n",
    "        print(\"-------------------------------------------------------------------------------------------\")"
   ]
  },
  {
   "cell_type": "code",
   "execution_count": 158,
   "metadata": {
    "colab": {
     "base_uri": "https://localhost:8080/"
    },
    "id": "4A6ZI1hQwkhO",
    "outputId": "bd76815b-6c62-4ff0-c201-5ef627257d9e"
   },
   "outputs": [
    {
     "name": "stdout",
     "output_type": "stream",
     "text": [
      "linearSVC\n",
      "classification report \n",
      "               precision    recall  f1-score   support\n",
      "\n",
      "    Negative       0.93      0.92      0.93      1224\n",
      "     Neutral       0.90      0.94      0.92       816\n",
      "    Positive       0.95      0.94      0.95      1507\n",
      "\n",
      "    accuracy                           0.93      3547\n",
      "   macro avg       0.93      0.93      0.93      3547\n",
      "weighted avg       0.93      0.93      0.93      3547\n",
      "\n",
      "-------------------------------------------------------------------------------------------\n",
      "logistic\n",
      "classification report \n",
      "               precision    recall  f1-score   support\n",
      "\n",
      "    Negative       0.90      0.86      0.88      1224\n",
      "     Neutral       0.84      0.91      0.87       816\n",
      "    Positive       0.92      0.92      0.92      1507\n",
      "\n",
      "    accuracy                           0.89      3547\n",
      "   macro avg       0.89      0.89      0.89      3547\n",
      "weighted avg       0.90      0.89      0.89      3547\n",
      "\n",
      "-------------------------------------------------------------------------------------------\n",
      "MultinomialNB\n",
      "classification report \n",
      "               precision    recall  f1-score   support\n",
      "\n",
      "    Negative       0.73      0.60      0.66      1224\n",
      "     Neutral       0.87      0.12      0.21       816\n",
      "    Positive       0.57      0.92      0.70      1507\n",
      "\n",
      "    accuracy                           0.62      3547\n",
      "   macro avg       0.72      0.54      0.52      3547\n",
      "weighted avg       0.69      0.62      0.57      3547\n",
      "\n",
      "-------------------------------------------------------------------------------------------\n",
      "BernoulliNB\n",
      "classification report \n",
      "               precision    recall  f1-score   support\n",
      "\n",
      "    Negative       0.73      0.72      0.72      1224\n",
      "     Neutral       0.78      0.61      0.68       816\n",
      "    Positive       0.73      0.82      0.77      1507\n",
      "\n",
      "    accuracy                           0.74      3547\n",
      "   macro avg       0.74      0.72      0.73      3547\n",
      "weighted avg       0.74      0.74      0.73      3547\n",
      "\n",
      "-------------------------------------------------------------------------------------------\n",
      "gardientboost\n",
      "classification report \n",
      "               precision    recall  f1-score   support\n",
      "\n",
      "    Negative       0.82      0.01      0.01      1224\n",
      "     Neutral       0.00      0.00      0.00       816\n",
      "    Positive       0.43      1.00      0.60      1507\n",
      "\n",
      "    accuracy                           0.43      3547\n",
      "   macro avg       0.41      0.34      0.20      3547\n",
      "weighted avg       0.46      0.43      0.26      3547\n",
      "\n",
      "-------------------------------------------------------------------------------------------\n",
      "decisiontree\n"
     ]
    },
    {
     "name": "stderr",
     "output_type": "stream",
     "text": [
      "C:\\Users\\Muskan\\anaconda3\\lib\\site-packages\\sklearn\\metrics\\_classification.py:1318: UndefinedMetricWarning: Precision and F-score are ill-defined and being set to 0.0 in labels with no predicted samples. Use `zero_division` parameter to control this behavior.\n",
      "  _warn_prf(average, modifier, msg_start, len(result))\n",
      "C:\\Users\\Muskan\\anaconda3\\lib\\site-packages\\sklearn\\metrics\\_classification.py:1318: UndefinedMetricWarning: Precision and F-score are ill-defined and being set to 0.0 in labels with no predicted samples. Use `zero_division` parameter to control this behavior.\n",
      "  _warn_prf(average, modifier, msg_start, len(result))\n",
      "C:\\Users\\Muskan\\anaconda3\\lib\\site-packages\\sklearn\\metrics\\_classification.py:1318: UndefinedMetricWarning: Precision and F-score are ill-defined and being set to 0.0 in labels with no predicted samples. Use `zero_division` parameter to control this behavior.\n",
      "  _warn_prf(average, modifier, msg_start, len(result))\n"
     ]
    },
    {
     "name": "stdout",
     "output_type": "stream",
     "text": [
      "classification report \n",
      "               precision    recall  f1-score   support\n",
      "\n",
      "    Negative       0.82      0.82      0.82      1224\n",
      "     Neutral       0.96      0.97      0.97       816\n",
      "    Positive       0.86      0.85      0.86      1507\n",
      "\n",
      "    accuracy                           0.87      3547\n",
      "   macro avg       0.88      0.88      0.88      3547\n",
      "weighted avg       0.87      0.87      0.87      3547\n",
      "\n",
      "-------------------------------------------------------------------------------------------\n",
      "KNN\n",
      "classification report \n",
      "               precision    recall  f1-score   support\n",
      "\n",
      "    Negative       0.60      0.55      0.58      1224\n",
      "     Neutral       0.46      0.36      0.40       816\n",
      "    Positive       0.59      0.71      0.64      1507\n",
      "\n",
      "    accuracy                           0.57      3547\n",
      "   macro avg       0.55      0.54      0.54      3547\n",
      "weighted avg       0.57      0.57      0.57      3547\n",
      "\n",
      "-------------------------------------------------------------------------------------------\n"
     ]
    }
   ],
   "source": [
    "# list of model objects\n",
    "models = [linear_svc_model, log_model, multinomialNB_model, BernoulliNB_model, GB_model, \n",
    "          Decision_model, KNN_model]\n",
    "# list of model names\n",
    "names = ['linearSVC','logistic','MultinomialNB','BernoulliNB','gardientboost','decisiontree','KNN']\n",
    "# print the comparison of models\n",
    "compare_models(models, names, X_train,y_train,X_test,y_test)"
   ]
  },
  {
   "cell_type": "markdown",
   "metadata": {
    "id": "YxNC09uekdZH"
   },
   "source": [
    "# working with test dataset"
   ]
  },
  {
   "cell_type": "code",
   "execution_count": 159,
   "metadata": {
    "colab": {
     "base_uri": "https://localhost:8080/"
    },
    "id": "P_XD4m1Fkh3i",
    "outputId": "bfaa4a5b-f52a-4064-8e5c-66b939deab41"
   },
   "outputs": [],
   "source": [
    "# Perforn the prediction on the test dataset\n",
    "y_predicted = linear_svc_model.predict(X_test)"
   ]
  },
  {
   "cell_type": "code",
   "execution_count": 160,
   "metadata": {},
   "outputs": [
    {
     "data": {
      "text/plain": [
       "array(['Negative', 'Negative', 'Negative', ..., 'Negative', 'Positive',\n",
       "       'Neutral'], dtype=object)"
      ]
     },
     "execution_count": 160,
     "metadata": {},
     "output_type": "execute_result"
    }
   ],
   "source": [
    "y_predicted"
   ]
  },
  {
   "cell_type": "code",
   "execution_count": 161,
   "metadata": {
    "id": "U4cHKaw6khr_"
   },
   "outputs": [],
   "source": [
    "# creating a dataframe of predicted results \n",
    "predictions = pd.DataFrame(y_predicted)"
   ]
  },
  {
   "cell_type": "code",
   "execution_count": 162,
   "metadata": {
    "colab": {
     "base_uri": "https://localhost:8080/",
     "height": 202
    },
    "id": "91noUUWikhD5",
    "outputId": "f0787fe5-700e-46e6-8f70-b83d36bfa83f"
   },
   "outputs": [
    {
     "data": {
      "text/html": [
       "<div>\n",
       "<style scoped>\n",
       "    .dataframe tbody tr th:only-of-type {\n",
       "        vertical-align: middle;\n",
       "    }\n",
       "\n",
       "    .dataframe tbody tr th {\n",
       "        vertical-align: top;\n",
       "    }\n",
       "\n",
       "    .dataframe thead th {\n",
       "        text-align: right;\n",
       "    }\n",
       "</style>\n",
       "<table border=\"1\" class=\"dataframe\">\n",
       "  <thead>\n",
       "    <tr style=\"text-align: right;\">\n",
       "      <th></th>\n",
       "      <th>0</th>\n",
       "    </tr>\n",
       "  </thead>\n",
       "  <tbody>\n",
       "    <tr>\n",
       "      <th>0</th>\n",
       "      <td>Negative</td>\n",
       "    </tr>\n",
       "    <tr>\n",
       "      <th>1</th>\n",
       "      <td>Negative</td>\n",
       "    </tr>\n",
       "    <tr>\n",
       "      <th>2</th>\n",
       "      <td>Negative</td>\n",
       "    </tr>\n",
       "    <tr>\n",
       "      <th>3</th>\n",
       "      <td>Negative</td>\n",
       "    </tr>\n",
       "    <tr>\n",
       "      <th>4</th>\n",
       "      <td>Positive</td>\n",
       "    </tr>\n",
       "    <tr>\n",
       "      <th>...</th>\n",
       "      <td>...</td>\n",
       "    </tr>\n",
       "    <tr>\n",
       "      <th>3542</th>\n",
       "      <td>Negative</td>\n",
       "    </tr>\n",
       "    <tr>\n",
       "      <th>3543</th>\n",
       "      <td>Positive</td>\n",
       "    </tr>\n",
       "    <tr>\n",
       "      <th>3544</th>\n",
       "      <td>Negative</td>\n",
       "    </tr>\n",
       "    <tr>\n",
       "      <th>3545</th>\n",
       "      <td>Positive</td>\n",
       "    </tr>\n",
       "    <tr>\n",
       "      <th>3546</th>\n",
       "      <td>Neutral</td>\n",
       "    </tr>\n",
       "  </tbody>\n",
       "</table>\n",
       "<p>3547 rows × 1 columns</p>\n",
       "</div>"
      ],
      "text/plain": [
       "             0\n",
       "0     Negative\n",
       "1     Negative\n",
       "2     Negative\n",
       "3     Negative\n",
       "4     Positive\n",
       "...        ...\n",
       "3542  Negative\n",
       "3543  Positive\n",
       "3544  Negative\n",
       "3545  Positive\n",
       "3546   Neutral\n",
       "\n",
       "[3547 rows x 1 columns]"
      ]
     },
     "execution_count": 162,
     "metadata": {},
     "output_type": "execute_result"
    }
   ],
   "source": [
    "predictions"
   ]
  },
  {
   "cell_type": "markdown",
   "metadata": {
    "id": "LcDOjy2MfkG2"
   },
   "source": [
    "# Now working with headlines + description"
   ]
  },
  {
   "cell_type": "code",
   "execution_count": 163,
   "metadata": {},
   "outputs": [
    {
     "data": {
      "text/html": [
       "<div>\n",
       "<style scoped>\n",
       "    .dataframe tbody tr th:only-of-type {\n",
       "        vertical-align: middle;\n",
       "    }\n",
       "\n",
       "    .dataframe tbody tr th {\n",
       "        vertical-align: top;\n",
       "    }\n",
       "\n",
       "    .dataframe thead th {\n",
       "        text-align: right;\n",
       "    }\n",
       "</style>\n",
       "<table border=\"1\" class=\"dataframe\">\n",
       "  <thead>\n",
       "    <tr style=\"text-align: right;\">\n",
       "      <th></th>\n",
       "      <th>Headlines</th>\n",
       "      <th>Time</th>\n",
       "      <th>Description</th>\n",
       "      <th>ds_score</th>\n",
       "    </tr>\n",
       "  </thead>\n",
       "  <tbody>\n",
       "    <tr>\n",
       "      <th>0</th>\n",
       "      <td>Jim Cramer: A better way to invest in the Covi...</td>\n",
       "      <td>7:51  PM ET Fri, 17 July 2020</td>\n",
       "      <td>mad money host jim cramer recommend buy four c...</td>\n",
       "      <td>Positive</td>\n",
       "    </tr>\n",
       "    <tr>\n",
       "      <th>1</th>\n",
       "      <td>Cramer's lightning round: I would own Teradyne</td>\n",
       "      <td>7:33  PM ET Fri, 17 July 2020</td>\n",
       "      <td>mad money host jim cramer ring lightn round be...</td>\n",
       "      <td>Negative</td>\n",
       "    </tr>\n",
       "    <tr>\n",
       "      <th>2</th>\n",
       "      <td>Cramer's week ahead: Big week for earnings, ev...</td>\n",
       "      <td>7:25  PM ET Fri, 17 July 2020</td>\n",
       "      <td>well pay earn noncovid compani lancet publish ...</td>\n",
       "      <td>Positive</td>\n",
       "    </tr>\n",
       "    <tr>\n",
       "      <th>3</th>\n",
       "      <td>IQ Capital CEO Keith Bliss says tech and healt...</td>\n",
       "      <td>4:24  PM ET Fri, 17 July 2020</td>\n",
       "      <td>keith bliss iq capit ceo join close bell talk ...</td>\n",
       "      <td>Positive</td>\n",
       "    </tr>\n",
       "    <tr>\n",
       "      <th>4</th>\n",
       "      <td>Wall Street delivered the 'kind of pullback I'...</td>\n",
       "      <td>7:36  PM ET Thu, 16 July 2020</td>\n",
       "      <td>look stock highqual compani go low even though...</td>\n",
       "      <td>Negative</td>\n",
       "    </tr>\n",
       "  </tbody>\n",
       "</table>\n",
       "</div>"
      ],
      "text/plain": [
       "                                           Headlines  \\\n",
       "0  Jim Cramer: A better way to invest in the Covi...   \n",
       "1     Cramer's lightning round: I would own Teradyne   \n",
       "2  Cramer's week ahead: Big week for earnings, ev...   \n",
       "3  IQ Capital CEO Keith Bliss says tech and healt...   \n",
       "4  Wall Street delivered the 'kind of pullback I'...   \n",
       "\n",
       "                             Time  \\\n",
       "0   7:51  PM ET Fri, 17 July 2020   \n",
       "1   7:33  PM ET Fri, 17 July 2020   \n",
       "2   7:25  PM ET Fri, 17 July 2020   \n",
       "3   4:24  PM ET Fri, 17 July 2020   \n",
       "4   7:36  PM ET Thu, 16 July 2020   \n",
       "\n",
       "                                         Description  ds_score  \n",
       "0  mad money host jim cramer recommend buy four c...  Positive  \n",
       "1  mad money host jim cramer ring lightn round be...  Negative  \n",
       "2  well pay earn noncovid compani lancet publish ...  Positive  \n",
       "3  keith bliss iq capit ceo join close bell talk ...  Positive  \n",
       "4  look stock highqual compani go low even though...  Negative  "
      ]
     },
     "execution_count": 163,
     "metadata": {},
     "output_type": "execute_result"
    }
   ],
   "source": [
    "new_data.head()"
   ]
  },
  {
   "cell_type": "code",
   "execution_count": 164,
   "metadata": {
    "colab": {
     "base_uri": "https://localhost:8080/",
     "height": 202
    },
    "id": "HOSweU4mzTgq",
    "outputId": "ad66fc23-e9f7-473c-d7bb-5520937d7698"
   },
   "outputs": [
    {
     "data": {
      "text/html": [
       "<div>\n",
       "<style scoped>\n",
       "    .dataframe tbody tr th:only-of-type {\n",
       "        vertical-align: middle;\n",
       "    }\n",
       "\n",
       "    .dataframe tbody tr th {\n",
       "        vertical-align: top;\n",
       "    }\n",
       "\n",
       "    .dataframe thead th {\n",
       "        text-align: right;\n",
       "    }\n",
       "</style>\n",
       "<table border=\"1\" class=\"dataframe\">\n",
       "  <thead>\n",
       "    <tr style=\"text-align: right;\">\n",
       "      <th></th>\n",
       "      <th>Headlines</th>\n",
       "      <th>Time</th>\n",
       "      <th>Description</th>\n",
       "      <th>ds_score</th>\n",
       "      <th>info</th>\n",
       "    </tr>\n",
       "  </thead>\n",
       "  <tbody>\n",
       "    <tr>\n",
       "      <th>0</th>\n",
       "      <td>Jim Cramer: A better way to invest in the Covi...</td>\n",
       "      <td>7:51  PM ET Fri, 17 July 2020</td>\n",
       "      <td>mad money host jim cramer recommend buy four c...</td>\n",
       "      <td>Positive</td>\n",
       "      <td>Jim Cramer: A better way to invest in the Covi...</td>\n",
       "    </tr>\n",
       "    <tr>\n",
       "      <th>1</th>\n",
       "      <td>Cramer's lightning round: I would own Teradyne</td>\n",
       "      <td>7:33  PM ET Fri, 17 July 2020</td>\n",
       "      <td>mad money host jim cramer ring lightn round be...</td>\n",
       "      <td>Negative</td>\n",
       "      <td>Cramer's lightning round: I would own Teradyne...</td>\n",
       "    </tr>\n",
       "    <tr>\n",
       "      <th>2</th>\n",
       "      <td>Cramer's week ahead: Big week for earnings, ev...</td>\n",
       "      <td>7:25  PM ET Fri, 17 July 2020</td>\n",
       "      <td>well pay earn noncovid compani lancet publish ...</td>\n",
       "      <td>Positive</td>\n",
       "      <td>Cramer's week ahead: Big week for earnings, ev...</td>\n",
       "    </tr>\n",
       "    <tr>\n",
       "      <th>3</th>\n",
       "      <td>IQ Capital CEO Keith Bliss says tech and healt...</td>\n",
       "      <td>4:24  PM ET Fri, 17 July 2020</td>\n",
       "      <td>keith bliss iq capit ceo join close bell talk ...</td>\n",
       "      <td>Positive</td>\n",
       "      <td>IQ Capital CEO Keith Bliss says tech and healt...</td>\n",
       "    </tr>\n",
       "    <tr>\n",
       "      <th>4</th>\n",
       "      <td>Wall Street delivered the 'kind of pullback I'...</td>\n",
       "      <td>7:36  PM ET Thu, 16 July 2020</td>\n",
       "      <td>look stock highqual compani go low even though...</td>\n",
       "      <td>Negative</td>\n",
       "      <td>Wall Street delivered the 'kind of pullback I'...</td>\n",
       "    </tr>\n",
       "  </tbody>\n",
       "</table>\n",
       "</div>"
      ],
      "text/plain": [
       "                                           Headlines  \\\n",
       "0  Jim Cramer: A better way to invest in the Covi...   \n",
       "1     Cramer's lightning round: I would own Teradyne   \n",
       "2  Cramer's week ahead: Big week for earnings, ev...   \n",
       "3  IQ Capital CEO Keith Bliss says tech and healt...   \n",
       "4  Wall Street delivered the 'kind of pullback I'...   \n",
       "\n",
       "                             Time  \\\n",
       "0   7:51  PM ET Fri, 17 July 2020   \n",
       "1   7:33  PM ET Fri, 17 July 2020   \n",
       "2   7:25  PM ET Fri, 17 July 2020   \n",
       "3   4:24  PM ET Fri, 17 July 2020   \n",
       "4   7:36  PM ET Thu, 16 July 2020   \n",
       "\n",
       "                                         Description  ds_score  \\\n",
       "0  mad money host jim cramer recommend buy four c...  Positive   \n",
       "1  mad money host jim cramer ring lightn round be...  Negative   \n",
       "2  well pay earn noncovid compani lancet publish ...  Positive   \n",
       "3  keith bliss iq capit ceo join close bell talk ...  Positive   \n",
       "4  look stock highqual compani go low even though...  Negative   \n",
       "\n",
       "                                                info  \n",
       "0  Jim Cramer: A better way to invest in the Covi...  \n",
       "1  Cramer's lightning round: I would own Teradyne...  \n",
       "2  Cramer's week ahead: Big week for earnings, ev...  \n",
       "3  IQ Capital CEO Keith Bliss says tech and healt...  \n",
       "4  Wall Street delivered the 'kind of pullback I'...  "
      ]
     },
     "execution_count": 164,
     "metadata": {},
     "output_type": "execute_result"
    }
   ],
   "source": [
    "# merge headlines and description of new dataset and name it info\n",
    "new_data['info'] =  new_data['Headlines'] + new_data['Description']\n",
    "new_data.head()"
   ]
  },
  {
   "cell_type": "code",
   "execution_count": 165,
   "metadata": {
    "colab": {
     "base_uri": "https://localhost:8080/",
     "height": 202
    },
    "id": "_ZTFzLcGzTb3",
    "outputId": "afd1bcb2-1616-46f3-9099-e3c48f246d50"
   },
   "outputs": [
    {
     "data": {
      "text/html": [
       "<div>\n",
       "<style scoped>\n",
       "    .dataframe tbody tr th:only-of-type {\n",
       "        vertical-align: middle;\n",
       "    }\n",
       "\n",
       "    .dataframe tbody tr th {\n",
       "        vertical-align: top;\n",
       "    }\n",
       "\n",
       "    .dataframe thead th {\n",
       "        text-align: right;\n",
       "    }\n",
       "</style>\n",
       "<table border=\"1\" class=\"dataframe\">\n",
       "  <thead>\n",
       "    <tr style=\"text-align: right;\">\n",
       "      <th></th>\n",
       "      <th>Time</th>\n",
       "      <th>info</th>\n",
       "    </tr>\n",
       "  </thead>\n",
       "  <tbody>\n",
       "    <tr>\n",
       "      <th>0</th>\n",
       "      <td>7:51  PM ET Fri, 17 July 2020</td>\n",
       "      <td>Jim Cramer: A better way to invest in the Covi...</td>\n",
       "    </tr>\n",
       "    <tr>\n",
       "      <th>1</th>\n",
       "      <td>7:33  PM ET Fri, 17 July 2020</td>\n",
       "      <td>Cramer's lightning round: I would own Teradyne...</td>\n",
       "    </tr>\n",
       "    <tr>\n",
       "      <th>2</th>\n",
       "      <td>7:25  PM ET Fri, 17 July 2020</td>\n",
       "      <td>Cramer's week ahead: Big week for earnings, ev...</td>\n",
       "    </tr>\n",
       "    <tr>\n",
       "      <th>3</th>\n",
       "      <td>4:24  PM ET Fri, 17 July 2020</td>\n",
       "      <td>IQ Capital CEO Keith Bliss says tech and healt...</td>\n",
       "    </tr>\n",
       "    <tr>\n",
       "      <th>4</th>\n",
       "      <td>7:36  PM ET Thu, 16 July 2020</td>\n",
       "      <td>Wall Street delivered the 'kind of pullback I'...</td>\n",
       "    </tr>\n",
       "  </tbody>\n",
       "</table>\n",
       "</div>"
      ],
      "text/plain": [
       "                             Time  \\\n",
       "0   7:51  PM ET Fri, 17 July 2020   \n",
       "1   7:33  PM ET Fri, 17 July 2020   \n",
       "2   7:25  PM ET Fri, 17 July 2020   \n",
       "3   4:24  PM ET Fri, 17 July 2020   \n",
       "4   7:36  PM ET Thu, 16 July 2020   \n",
       "\n",
       "                                                info  \n",
       "0  Jim Cramer: A better way to invest in the Covi...  \n",
       "1  Cramer's lightning round: I would own Teradyne...  \n",
       "2  Cramer's week ahead: Big week for earnings, ev...  \n",
       "3  IQ Capital CEO Keith Bliss says tech and healt...  \n",
       "4  Wall Street delivered the 'kind of pullback I'...  "
      ]
     },
     "execution_count": 165,
     "metadata": {},
     "output_type": "execute_result"
    }
   ],
   "source": [
    "# only keep info and time column . drop all remaining columns\n",
    "new_data =  new_data.drop(columns=['Headlines','Description','ds_score'])\n",
    "new_data.head()"
   ]
  },
  {
   "cell_type": "code",
   "execution_count": 166,
   "metadata": {
    "colab": {
     "base_uri": "https://localhost:8080/",
     "height": 662
    },
    "id": "iMOW0ljOzTaN",
    "outputId": "751af887-0be3-45e1-d2cf-8e503b6a9783"
   },
   "outputs": [
    {
     "data": {
      "text/html": [
       "<div>\n",
       "<style scoped>\n",
       "    .dataframe tbody tr th:only-of-type {\n",
       "        vertical-align: middle;\n",
       "    }\n",
       "\n",
       "    .dataframe tbody tr th {\n",
       "        vertical-align: top;\n",
       "    }\n",
       "\n",
       "    .dataframe thead th {\n",
       "        text-align: right;\n",
       "    }\n",
       "</style>\n",
       "<table border=\"1\" class=\"dataframe\">\n",
       "  <thead>\n",
       "    <tr style=\"text-align: right;\">\n",
       "      <th></th>\n",
       "      <th>Time</th>\n",
       "      <th>info</th>\n",
       "    </tr>\n",
       "  </thead>\n",
       "  <tbody>\n",
       "    <tr>\n",
       "      <th>0</th>\n",
       "      <td>7:51  PM ET Fri, 17 July 2020</td>\n",
       "      <td>jim cramer good way invest covid19 vaccin gold...</td>\n",
       "    </tr>\n",
       "    <tr>\n",
       "      <th>1</th>\n",
       "      <td>7:33  PM ET Fri, 17 July 2020</td>\n",
       "      <td>cramer lightn round would teradynemad money ho...</td>\n",
       "    </tr>\n",
       "    <tr>\n",
       "      <th>2</th>\n",
       "      <td>7:25  PM ET Fri, 17 July 2020</td>\n",
       "      <td>cramer week ahead big week earn even big week ...</td>\n",
       "    </tr>\n",
       "    <tr>\n",
       "      <th>3</th>\n",
       "      <td>4:24  PM ET Fri, 17 July 2020</td>\n",
       "      <td>iq capit ceo keith bliss say tech healthcar ra...</td>\n",
       "    </tr>\n",
       "    <tr>\n",
       "      <th>4</th>\n",
       "      <td>7:36  PM ET Thu, 16 July 2020</td>\n",
       "      <td>wall street deliv kind pullback ive wait jim c...</td>\n",
       "    </tr>\n",
       "    <tr>\n",
       "      <th>...</th>\n",
       "      <td>...</td>\n",
       "      <td>...</td>\n",
       "    </tr>\n",
       "    <tr>\n",
       "      <th>32668</th>\n",
       "      <td>Mar 20 2018</td>\n",
       "      <td>malaysia say never hire british data firm cent...</td>\n",
       "    </tr>\n",
       "    <tr>\n",
       "      <th>32669</th>\n",
       "      <td>Mar 20 2018</td>\n",
       "      <td>prosecutor search volkswagen headquart new emi...</td>\n",
       "    </tr>\n",
       "    <tr>\n",
       "      <th>32670</th>\n",
       "      <td>Mar 20 2018</td>\n",
       "      <td>mcdonald set greenhous ga reduct targetsmcdona...</td>\n",
       "    </tr>\n",
       "    <tr>\n",
       "      <th>32671</th>\n",
       "      <td>Mar 20 2018</td>\n",
       "      <td>pratt whitney deliv spare a320neo engin soon i...</td>\n",
       "    </tr>\n",
       "    <tr>\n",
       "      <th>32672</th>\n",
       "      <td>Mar 20 2018</td>\n",
       "      <td>uk alway consid way improv data law pm may spo...</td>\n",
       "    </tr>\n",
       "  </tbody>\n",
       "</table>\n",
       "<p>35463 rows × 2 columns</p>\n",
       "</div>"
      ],
      "text/plain": [
       "                                 Time  \\\n",
       "0       7:51  PM ET Fri, 17 July 2020   \n",
       "1       7:33  PM ET Fri, 17 July 2020   \n",
       "2       7:25  PM ET Fri, 17 July 2020   \n",
       "3       4:24  PM ET Fri, 17 July 2020   \n",
       "4       7:36  PM ET Thu, 16 July 2020   \n",
       "...                               ...   \n",
       "32668                     Mar 20 2018   \n",
       "32669                     Mar 20 2018   \n",
       "32670                     Mar 20 2018   \n",
       "32671                     Mar 20 2018   \n",
       "32672                     Mar 20 2018   \n",
       "\n",
       "                                                    info  \n",
       "0      jim cramer good way invest covid19 vaccin gold...  \n",
       "1      cramer lightn round would teradynemad money ho...  \n",
       "2      cramer week ahead big week earn even big week ...  \n",
       "3      iq capit ceo keith bliss say tech healthcar ra...  \n",
       "4      wall street deliv kind pullback ive wait jim c...  \n",
       "...                                                  ...  \n",
       "32668  malaysia say never hire british data firm cent...  \n",
       "32669  prosecutor search volkswagen headquart new emi...  \n",
       "32670  mcdonald set greenhous ga reduct targetsmcdona...  \n",
       "32671  pratt whitney deliv spare a320neo engin soon i...  \n",
       "32672  uk alway consid way improv data law pm may spo...  \n",
       "\n",
       "[35463 rows x 2 columns]"
      ]
     },
     "execution_count": 166,
     "metadata": {},
     "output_type": "execute_result"
    }
   ],
   "source": [
    "# apply preprocessing on info column\n",
    "new_data['info'] = new_data['info'].apply(preprocessing_text)\n",
    "new_data"
   ]
  },
  {
   "cell_type": "code",
   "execution_count": 167,
   "metadata": {
    "colab": {
     "base_uri": "https://localhost:8080/",
     "height": 414
    },
    "id": "Bww_M5RQzTXm",
    "outputId": "0c392b14-3bc2-4766-f51b-b14e3716638e"
   },
   "outputs": [],
   "source": [
    "# analyze polarity score of values in info and  add new column of it in dataset\n",
    "info_score = []\n",
    "\n",
    "for value in new_data['info'].values:\n",
    "    info_score.append(analyzer.polarity_scores(value)['compound'])\n",
    "    \n",
    "new_data['info_score'] = info_score"
   ]
  },
  {
   "cell_type": "code",
   "execution_count": 168,
   "metadata": {
    "colab": {
     "base_uri": "https://localhost:8080/",
     "height": 414
    },
    "id": "duwvemaLzTWh",
    "outputId": "f771aff0-a319-4c10-ce87-0f1088063d82"
   },
   "outputs": [
    {
     "data": {
      "text/html": [
       "<div>\n",
       "<style scoped>\n",
       "    .dataframe tbody tr th:only-of-type {\n",
       "        vertical-align: middle;\n",
       "    }\n",
       "\n",
       "    .dataframe tbody tr th {\n",
       "        vertical-align: top;\n",
       "    }\n",
       "\n",
       "    .dataframe thead th {\n",
       "        text-align: right;\n",
       "    }\n",
       "</style>\n",
       "<table border=\"1\" class=\"dataframe\">\n",
       "  <thead>\n",
       "    <tr style=\"text-align: right;\">\n",
       "      <th></th>\n",
       "      <th>Time</th>\n",
       "      <th>info</th>\n",
       "      <th>info_score</th>\n",
       "    </tr>\n",
       "  </thead>\n",
       "  <tbody>\n",
       "    <tr>\n",
       "      <th>0</th>\n",
       "      <td>7:51  PM ET Fri, 17 July 2020</td>\n",
       "      <td>jim cramer good way invest covid19 vaccin gold...</td>\n",
       "      <td>Positive</td>\n",
       "    </tr>\n",
       "    <tr>\n",
       "      <th>1</th>\n",
       "      <td>7:33  PM ET Fri, 17 July 2020</td>\n",
       "      <td>cramer lightn round would teradynemad money ho...</td>\n",
       "      <td>Neutral</td>\n",
       "    </tr>\n",
       "    <tr>\n",
       "      <th>2</th>\n",
       "      <td>7:25  PM ET Fri, 17 July 2020</td>\n",
       "      <td>cramer week ahead big week earn even big week ...</td>\n",
       "      <td>Positive</td>\n",
       "    </tr>\n",
       "    <tr>\n",
       "      <th>3</th>\n",
       "      <td>4:24  PM ET Fri, 17 July 2020</td>\n",
       "      <td>iq capit ceo keith bliss say tech healthcar ra...</td>\n",
       "      <td>Positive</td>\n",
       "    </tr>\n",
       "    <tr>\n",
       "      <th>4</th>\n",
       "      <td>7:36  PM ET Thu, 16 July 2020</td>\n",
       "      <td>wall street deliv kind pullback ive wait jim c...</td>\n",
       "      <td>Negative</td>\n",
       "    </tr>\n",
       "    <tr>\n",
       "      <th>...</th>\n",
       "      <td>...</td>\n",
       "      <td>...</td>\n",
       "      <td>...</td>\n",
       "    </tr>\n",
       "    <tr>\n",
       "      <th>32668</th>\n",
       "      <td>Mar 20 2018</td>\n",
       "      <td>malaysia say never hire british data firm cent...</td>\n",
       "      <td>Neutral</td>\n",
       "    </tr>\n",
       "    <tr>\n",
       "      <th>32669</th>\n",
       "      <td>Mar 20 2018</td>\n",
       "      <td>prosecutor search volkswagen headquart new emi...</td>\n",
       "      <td>Neutral</td>\n",
       "    </tr>\n",
       "    <tr>\n",
       "      <th>32670</th>\n",
       "      <td>Mar 20 2018</td>\n",
       "      <td>mcdonald set greenhous ga reduct targetsmcdona...</td>\n",
       "      <td>Negative</td>\n",
       "    </tr>\n",
       "    <tr>\n",
       "      <th>32671</th>\n",
       "      <td>Mar 20 2018</td>\n",
       "      <td>pratt whitney deliv spare a320neo engin soon i...</td>\n",
       "      <td>Negative</td>\n",
       "    </tr>\n",
       "    <tr>\n",
       "      <th>32672</th>\n",
       "      <td>Mar 20 2018</td>\n",
       "      <td>uk alway consid way improv data law pm may spo...</td>\n",
       "      <td>Positive</td>\n",
       "    </tr>\n",
       "  </tbody>\n",
       "</table>\n",
       "<p>35463 rows × 3 columns</p>\n",
       "</div>"
      ],
      "text/plain": [
       "                                 Time  \\\n",
       "0       7:51  PM ET Fri, 17 July 2020   \n",
       "1       7:33  PM ET Fri, 17 July 2020   \n",
       "2       7:25  PM ET Fri, 17 July 2020   \n",
       "3       4:24  PM ET Fri, 17 July 2020   \n",
       "4       7:36  PM ET Thu, 16 July 2020   \n",
       "...                               ...   \n",
       "32668                     Mar 20 2018   \n",
       "32669                     Mar 20 2018   \n",
       "32670                     Mar 20 2018   \n",
       "32671                     Mar 20 2018   \n",
       "32672                     Mar 20 2018   \n",
       "\n",
       "                                                    info info_score  \n",
       "0      jim cramer good way invest covid19 vaccin gold...   Positive  \n",
       "1      cramer lightn round would teradynemad money ho...    Neutral  \n",
       "2      cramer week ahead big week earn even big week ...   Positive  \n",
       "3      iq capit ceo keith bliss say tech healthcar ra...   Positive  \n",
       "4      wall street deliv kind pullback ive wait jim c...   Negative  \n",
       "...                                                  ...        ...  \n",
       "32668  malaysia say never hire british data firm cent...    Neutral  \n",
       "32669  prosecutor search volkswagen headquart new emi...    Neutral  \n",
       "32670  mcdonald set greenhous ga reduct targetsmcdona...   Negative  \n",
       "32671  pratt whitney deliv spare a320neo engin soon i...   Negative  \n",
       "32672  uk alway consid way improv data law pm may spo...   Positive  \n",
       "\n",
       "[35463 rows x 3 columns]"
      ]
     },
     "execution_count": 168,
     "metadata": {},
     "output_type": "execute_result"
    }
   ],
   "source": [
    "# apply the function  which decides sentiment to  polarity score column\n",
    "new_data['info_score'] = new_data['info_score'].apply(get_analysis)\n",
    "new_data"
   ]
  },
  {
   "cell_type": "code",
   "execution_count": 169,
   "metadata": {
    "colab": {
     "base_uri": "https://localhost:8080/",
     "height": 297
    },
    "id": "ohPDx_0glaeM",
    "outputId": "74fba960-52d3-4a2c-e952-8e5498b7fb61"
   },
   "outputs": [
    {
     "data": {
      "text/plain": [
       "<AxesSubplot:xlabel='info_score', ylabel='count'>"
      ]
     },
     "execution_count": 169,
     "metadata": {},
     "output_type": "execute_result"
    },
    {
     "data": {
      "image/png": "[encoded data removed]",
      "text/plain": [
       "<Figure size 640x480 with 1 Axes>"
      ]
     },
     "metadata": {},
     "output_type": "display_data"
    }
   ],
   "source": [
    "# perform count plot on info_score column\n",
    "sns.countplot(data = new_data, x = \"info_score\")"
   ]
  },
  {
   "cell_type": "markdown",
   "metadata": {
    "id": "svGQaSfhl6_5"
   },
   "source": [
    "In the info\n",
    "\n",
    "there are approx\n",
    "\n",
    "15500 positive statment\n",
    "\n",
    "13000 negative statment\n",
    "\n",
    "6500 neutral statment"
   ]
  },
  {
   "cell_type": "code",
   "execution_count": 170,
   "metadata": {
    "colab": {
     "base_uri": "https://localhost:8080/",
     "height": 542
    },
    "id": "BNaH0yfFll7Z",
    "outputId": "25db852a-077a-486a-d810-b8d97fab4adc"
   },
   "outputs": [
    {
     "data": {
      "image/png": "[encoded data removed]",
      "text/plain": [
       "<Figure size 640x480 with 1 Axes>"
      ]
     },
     "metadata": {},
     "output_type": "display_data"
    }
   ],
   "source": [
    "# perform pie chart on info_score column\n",
    "plt.pie(x = new_data['info_score'].value_counts(), labels=new_data['info_score'].value_counts().index, autopct='%1.1f%%')\n",
    "plt.title('Pie chart of different sentiments')\n",
    "plt.show()"
   ]
  },
  {
   "cell_type": "markdown",
   "metadata": {
    "id": "e0JsgArfmgi-"
   },
   "source": [
    "In the dataset\n",
    "\n",
    "info contains\n",
    "\n",
    "44.5% positive statments\n",
    "\n",
    "37.2% negtive statements\n",
    "\n",
    "18.3% neutral statments"
   ]
  },
  {
   "cell_type": "markdown",
   "metadata": {
    "id": "FDaguQJMfrML"
   },
   "source": [
    "# modeling on headlines + description"
   ]
  },
  {
   "cell_type": "code",
   "execution_count": 171,
   "metadata": {},
   "outputs": [],
   "source": [
    "X = new_data['info']\n",
    "y = new_data['info_score']"
   ]
  },
  {
   "cell_type": "code",
   "execution_count": 172,
   "metadata": {
    "id": "U-sjg3NEzTRd"
   },
   "outputs": [],
   "source": [
    "# split the dataset  into test and train \n",
    "# 90% train , 10% test and random state 212\n",
    "X_train, X_test, y_train, y_test= train_test_split(X, y, test_size=0.1, random_state=212)"
   ]
  },
  {
   "cell_type": "markdown",
   "metadata": {
    "id": "h469Z39Zjjvn"
   },
   "source": [
    "LINEAR SUPPORT VECTOR MACHINE\n"
   ]
  },
  {
   "cell_type": "code",
   "execution_count": 173,
   "metadata": {
    "colab": {
     "base_uri": "https://localhost:8080/"
    },
    "id": "atnWirUQzTQI",
    "outputId": "bc1c5870-4985-4879-80f1-dc8928f98b4a"
   },
   "outputs": [
    {
     "name": "stdout",
     "output_type": "stream",
     "text": [
      "Model - linear SVC\n",
      "accuracy score is 90.7 %\n",
      "[[1183   57   83]\n",
      " [  45  565   48]\n",
      " [  55   42 1469]]\n",
      "              precision    recall  f1-score   support\n",
      "\n",
      "    Negative       0.92      0.89      0.91      1323\n",
      "     Neutral       0.85      0.86      0.85       658\n",
      "    Positive       0.92      0.94      0.93      1566\n",
      "\n",
      "    accuracy                           0.91      3547\n",
      "   macro avg       0.90      0.90      0.90      3547\n",
      "weighted avg       0.91      0.91      0.91      3547\n",
      "\n",
      "Wall time: 1.48 s\n"
     ]
    }
   ],
   "source": [
    "\n",
    "%%time\n",
    "# pipeline creation\n",
    "# 1. tfidVectorization\n",
    "# 2. linearSVC model\n",
    "pipe = Pipeline([('tfidf', TfidfVectorizer()),\n",
    "                ('model',LinearSVC())])\n",
    "\n",
    "# Fit the pipline to the data\n",
    "linear_svc_model =  pipe.fit(X_train, y_train)\n",
    "#predict on test dataset\n",
    "prediction = linear_svc_model.predict(X_test)\n",
    "print('Model - linear SVC')\n",
    "#print accuracy\n",
    "print(f\"accuracy score is {round(accuracy_score(y_test,prediction)*100,2)} %\")\n",
    "\n",
    "#print confusion matrix\n",
    "print(confusion_matrix(y_test,prediction))\n",
    "#print classification report\n",
    "print(classification_report(y_test,prediction))"
   ]
  },
  {
   "cell_type": "markdown",
   "metadata": {
    "id": "ucmhtCoTjf7H"
   },
   "source": [
    "LOGISTIC REGRESSION\n"
   ]
  },
  {
   "cell_type": "code",
   "execution_count": 174,
   "metadata": {
    "colab": {
     "base_uri": "https://localhost:8080/"
    },
    "id": "UXsbyfc22sXR",
    "outputId": "8c47b13d-6bf9-4cf6-cbc6-4f6712f72db7"
   },
   "outputs": [
    {
     "name": "stdout",
     "output_type": "stream",
     "text": [
      "Model - Logistic Regression\n",
      "accuracy score is 86.86 %\n",
      "[[1139   68  116]\n",
      " [  81  495   82]\n",
      " [  80   39 1447]]\n",
      "              precision    recall  f1-score   support\n",
      "\n",
      "    Negative       0.88      0.86      0.87      1323\n",
      "     Neutral       0.82      0.75      0.79       658\n",
      "    Positive       0.88      0.92      0.90      1566\n",
      "\n",
      "    accuracy                           0.87      3547\n",
      "   macro avg       0.86      0.85      0.85      3547\n",
      "weighted avg       0.87      0.87      0.87      3547\n",
      "\n",
      "Wall time: 5.37 s\n"
     ]
    },
    {
     "name": "stderr",
     "output_type": "stream",
     "text": [
      "C:\\Users\\Muskan\\anaconda3\\lib\\site-packages\\sklearn\\linear_model\\_logistic.py:814: ConvergenceWarning: lbfgs failed to converge (status=1):\n",
      "STOP: TOTAL NO. of ITERATIONS REACHED LIMIT.\n",
      "\n",
      "Increase the number of iterations (max_iter) or scale the data as shown in:\n",
      "    https://scikit-learn.org/stable/modules/preprocessing.html\n",
      "Please also refer to the documentation for alternative solver options:\n",
      "    https://scikit-learn.org/stable/modules/linear_model.html#logistic-regression\n",
      "  n_iter_i = _check_optimize_result(\n"
     ]
    }
   ],
   "source": [
    "%%time\n",
    "# pipeline creation \n",
    "# 1. CountVectorization\n",
    "# 2. TfidTransformer\n",
    "# 3. Logistic Regression\n",
    "pipe = Pipeline([('vector', CountVectorizer()),\n",
    "                ('tfidf',TfidfTransformer()),\n",
    "                ('model', LogisticRegression())])\n",
    "\n",
    "# fit the pipeline to the train data\n",
    "log_model = pipe.fit(X_train,y_train)\n",
    "\n",
    "# predict on test dataset\n",
    "prediction = log_model.predict(X_test)\n",
    "\n",
    "print(\"Model - Logistic Regression\")\n",
    "# print accuracy score\n",
    "print(f\"accuracy score is {round(accuracy_score(y_test,prediction)*100,2)} %\")\n",
    "\n",
    "#print confusion matrix\n",
    "print(confusion_matrix(y_test,prediction))\n",
    "#print classification report\n",
    "print(classification_report(y_test,prediction))"
   ]
  },
  {
   "cell_type": "markdown",
   "metadata": {
    "id": "ozLeBo9qjdNR"
   },
   "source": [
    "MULTINOMIAL NAIVE BAYES\n"
   ]
  },
  {
   "cell_type": "code",
   "execution_count": 175,
   "metadata": {
    "colab": {
     "base_uri": "https://localhost:8080/"
    },
    "id": "kxTsmokz2sVw",
    "outputId": "87aedc65-0edf-4775-a543-29617044ca95"
   },
   "outputs": [
    {
     "name": "stdout",
     "output_type": "stream",
     "text": [
      "Model - Multinomial Naive Bayes\n",
      "accuracy score is 62.9 %\n",
      "[[ 780    1  542]\n",
      " [ 145    9  504]\n",
      " [ 122    2 1442]]\n",
      "              precision    recall  f1-score   support\n",
      "\n",
      "    Negative       0.74      0.59      0.66      1323\n",
      "     Neutral       0.75      0.01      0.03       658\n",
      "    Positive       0.58      0.92      0.71      1566\n",
      "\n",
      "    accuracy                           0.63      3547\n",
      "   macro avg       0.69      0.51      0.47      3547\n",
      "weighted avg       0.67      0.63      0.56      3547\n",
      "\n",
      "Wall time: 1.22 s\n"
     ]
    }
   ],
   "source": [
    "%%time\n",
    "# pipeline creation \n",
    "# 1. CountVectorizer\n",
    "# 2. TfidTransformer\n",
    "# 3. MultinomialNB\n",
    "pipe = Pipeline([('vector', CountVectorizer()),\n",
    "                ('tfidf',TfidfTransformer()),\n",
    "                ('model', MultinomialNB())])\n",
    "\n",
    "# fit the pipeline to the train data\n",
    "multinomialNB_model = pipe.fit(X_train,y_train)\n",
    "\n",
    "# predict on test dataset\n",
    "prediction = multinomialNB_model.predict(X_test)\n",
    "\n",
    "print(\"Model - Multinomial Naive Bayes\")\n",
    "# print accuracy score\n",
    "print(f\"accuracy score is {round(accuracy_score(y_test,prediction)*100,2)} %\")\n",
    "\n",
    "#print confusion matrix\n",
    "print(confusion_matrix(y_test,prediction))\n",
    "#print classification report\n",
    "print(classification_report(y_test,prediction))\n"
   ]
  },
  {
   "cell_type": "markdown",
   "metadata": {
    "id": "91Ms-94_jaKm"
   },
   "source": [
    "BERNOULLI NAIVE BAYES\n"
   ]
  },
  {
   "cell_type": "code",
   "execution_count": 176,
   "metadata": {
    "colab": {
     "base_uri": "https://localhost:8080/"
    },
    "id": "Tx_-8y_x2sSO",
    "outputId": "131fa1a0-1fdc-46e0-8b22-9d6f77a01758"
   },
   "outputs": [
    {
     "name": "stdout",
     "output_type": "stream",
     "text": [
      "Model - Bernoulli Naive Bayes \n",
      "accuracy score is 68.54 %\n",
      "[[ 947   13  363]\n",
      " [ 173  154  331]\n",
      " [ 217   19 1330]]\n",
      "              precision    recall  f1-score   support\n",
      "\n",
      "    Negative       0.71      0.72      0.71      1323\n",
      "     Neutral       0.83      0.23      0.36       658\n",
      "    Positive       0.66      0.85      0.74      1566\n",
      "\n",
      "    accuracy                           0.69      3547\n",
      "   macro avg       0.73      0.60      0.61      3547\n",
      "weighted avg       0.71      0.69      0.66      3547\n",
      "\n",
      "Wall time: 1.12 s\n"
     ]
    }
   ],
   "source": [
    "%%time\n",
    "# pipeline creation \n",
    "# 1. CountVectorizer\n",
    "# 2. TfidTransformer\n",
    "# 3. BernoulliNB\n",
    "\n",
    "pipe = Pipeline([('vector', CountVectorizer()),\n",
    "                ('tfidf',TfidfTransformer()),\n",
    "                ('model', BernoulliNB())])\n",
    "\n",
    "# fit the pipeline to the train data\n",
    "BernoulliNB_model = pipe.fit(X_train,y_train)\n",
    "\n",
    "# predict on test dataset\n",
    "prediction = BernoulliNB_model.predict(X_test)\n",
    "\n",
    "print(\"Model - Bernoulli Naive Bayes \")\n",
    "# print accuracy score\n",
    "print(f\"accuracy score is {round(accuracy_score(y_test,prediction)*100,2)} %\")\n",
    "\n",
    "#print confusion matrix\n",
    "print(confusion_matrix(y_test,prediction))\n",
    "#print classification report\n",
    "print(classification_report(y_test,prediction))"
   ]
  },
  {
   "cell_type": "markdown",
   "metadata": {
    "id": "N1OOQeVmjWjx"
   },
   "source": [
    "GRADIENT BOOSTING CLASSIFICATION MODEL\n"
   ]
  },
  {
   "cell_type": "code",
   "execution_count": 177,
   "metadata": {
    "colab": {
     "base_uri": "https://localhost:8080/"
    },
    "id": "K_5dgcgS2sQj",
    "outputId": "962b1d1d-6623-4ba7-aa74-4efb47f9bac1"
   },
   "outputs": [
    {
     "name": "stdout",
     "output_type": "stream",
     "text": [
      "Model - GRADIENT BOOSTING CLASSIFICATION \n",
      "accuracy score is 44.4 %\n",
      "[[  11    0 1312]\n",
      " [   0    0  658]\n",
      " [   2    0 1564]]\n",
      "              precision    recall  f1-score   support\n",
      "\n",
      "    Negative       0.85      0.01      0.02      1323\n",
      "     Neutral       0.00      0.00      0.00       658\n",
      "    Positive       0.44      1.00      0.61      1566\n",
      "\n",
      "    accuracy                           0.44      3547\n",
      "   macro avg       0.43      0.34      0.21      3547\n",
      "weighted avg       0.51      0.44      0.28      3547\n",
      "\n",
      "Wall time: 14.5 s\n"
     ]
    },
    {
     "name": "stderr",
     "output_type": "stream",
     "text": [
      "C:\\Users\\Muskan\\anaconda3\\lib\\site-packages\\sklearn\\metrics\\_classification.py:1318: UndefinedMetricWarning: Precision and F-score are ill-defined and being set to 0.0 in labels with no predicted samples. Use `zero_division` parameter to control this behavior.\n",
      "  _warn_prf(average, modifier, msg_start, len(result))\n",
      "C:\\Users\\Muskan\\anaconda3\\lib\\site-packages\\sklearn\\metrics\\_classification.py:1318: UndefinedMetricWarning: Precision and F-score are ill-defined and being set to 0.0 in labels with no predicted samples. Use `zero_division` parameter to control this behavior.\n",
      "  _warn_prf(average, modifier, msg_start, len(result))\n",
      "C:\\Users\\Muskan\\anaconda3\\lib\\site-packages\\sklearn\\metrics\\_classification.py:1318: UndefinedMetricWarning: Precision and F-score are ill-defined and being set to 0.0 in labels with no predicted samples. Use `zero_division` parameter to control this behavior.\n",
      "  _warn_prf(average, modifier, msg_start, len(result))\n"
     ]
    }
   ],
   "source": [
    "%%time\n",
    "# pipeline creation \n",
    "# 1. CountVectorizer\n",
    "# 2. TfidTransformer\n",
    "# 3. GradientBoostingClassifier\n",
    "pipe = Pipeline([('vector', CountVectorizer()),\n",
    "                ('tfidf',TfidfTransformer()),\n",
    "                ('model', GradientBoostingClassifier(loss='deviance',\n",
    "                                                    learning_rate=0.01,\n",
    "                                                    n_estimators=10,\n",
    "                                                    max_depth=5,\n",
    "                                                    random_state=55))])\n",
    "\n",
    "# fit the pipeline to the train data\n",
    "GB_model = pipe.fit(X_train,y_train)\n",
    "\n",
    "# predict on test dataset\n",
    "prediction = GB_model.predict(X_test)\n",
    "\n",
    "print(\"Model - GRADIENT BOOSTING CLASSIFICATION \")\n",
    "# print accuracy score\n",
    "print(f\"accuracy score is {round(accuracy_score(y_test,prediction)*100,2)} %\")\n",
    "\n",
    "#print confusion matrix\n",
    "print(confusion_matrix(y_test,prediction))\n",
    "#print classification report\n",
    "print(classification_report(y_test,prediction))"
   ]
  },
  {
   "cell_type": "markdown",
   "metadata": {
    "id": "z7l-VmXKjTJP"
   },
   "source": [
    "XGBOOST CLASSIFICATION MODEL\n"
   ]
  },
  {
   "cell_type": "code",
   "execution_count": 178,
   "metadata": {
    "colab": {
     "base_uri": "https://localhost:8080/"
    },
    "id": "6koZzsSv2sM7",
    "outputId": "cb7b1e22-5edd-4dc2-a7df-ddb511ef749c"
   },
   "outputs": [
    {
     "name": "stdout",
     "output_type": "stream",
     "text": [
      "Model - XGBOOST CLASSIFICATION CLASSIFICATION \n",
      "accuracy score is 88.89 %\n",
      "[[1095  107  121]\n",
      " [   7  644    7]\n",
      " [  87   65 1414]]\n",
      "              precision    recall  f1-score   support\n",
      "\n",
      "           0       0.92      0.83      0.87      1323\n",
      "           1       0.79      0.98      0.87       658\n",
      "           2       0.92      0.90      0.91      1566\n",
      "\n",
      "    accuracy                           0.89      3547\n",
      "   macro avg       0.88      0.90      0.89      3547\n",
      "weighted avg       0.89      0.89      0.89      3547\n",
      "\n",
      "Wall time: 46.5 s\n"
     ]
    }
   ],
   "source": [
    "%%time\n",
    "# pipeline creation \n",
    "# 1. CountVectorizer\n",
    "# 2. TfidTransformer\n",
    "# 3. XGBClassifier\n",
    "\n",
    "from sklearn.preprocessing import LabelEncoder\n",
    "# Create a label encoder\n",
    "label_encoder = LabelEncoder()\n",
    "\n",
    "# Fit and transform the labels in your target variable\n",
    "y_train_encoded = label_encoder.fit_transform(y_train)\n",
    "y_test_encoded = label_encoder.transform(y_test)\n",
    "\n",
    "pipe = Pipeline([('vector', CountVectorizer()),\n",
    "                ('tfidf',TfidfTransformer()),\n",
    "                ('model', XGBClassifier())])\n",
    "\n",
    "# fit the pipeline to the train data\n",
    "XGB_model = pipe.fit(X_train,y_train_encoded)\n",
    "\n",
    "# predict on test dataset\n",
    "prediction = XGB_model.predict(X_test)\n",
    "\n",
    "print(\"Model - XGBOOST CLASSIFICATION CLASSIFICATION \")\n",
    "# print accuracy score\n",
    "print(f\"accuracy score is {round(accuracy_score(y_test_encoded,prediction)*100,2)} %\")\n",
    "\n",
    "#print confusion matrix\n",
    "print(confusion_matrix(y_test_encoded,prediction))\n",
    "#print classification report\n",
    "print(classification_report(y_test_encoded,prediction))"
   ]
  },
  {
   "cell_type": "markdown",
   "metadata": {
    "id": "2SBHJMuyjPmm"
   },
   "source": [
    "DECISION TREE CLASSIFICATION MODEL\n"
   ]
  },
  {
   "cell_type": "code",
   "execution_count": 179,
   "metadata": {
    "colab": {
     "base_uri": "https://localhost:8080/"
    },
    "id": "EwiF9Pwj2sLZ",
    "outputId": "5663ea05-9a2b-4caf-fc9b-8d84c90d8d4d"
   },
   "outputs": [
    {
     "name": "stdout",
     "output_type": "stream",
     "text": [
      "Model - Decision Tree \n",
      "accuracy score is 83.06 %\n",
      "[[1031   38  254]\n",
      " [  14  635    9]\n",
      " [ 262   24 1280]]\n",
      "              precision    recall  f1-score   support\n",
      "\n",
      "    Negative       0.79      0.78      0.78      1323\n",
      "     Neutral       0.91      0.97      0.94       658\n",
      "    Positive       0.83      0.82      0.82      1566\n",
      "\n",
      "    accuracy                           0.83      3547\n",
      "   macro avg       0.84      0.85      0.85      3547\n",
      "weighted avg       0.83      0.83      0.83      3547\n",
      "\n",
      "Wall time: 18.5 s\n"
     ]
    }
   ],
   "source": [
    "%%time\n",
    "# pipeline creation \n",
    "# 1. CountVectorizer\n",
    "# 2. TfidTransformer\n",
    "# 3. Decision tree classifier\n",
    "\n",
    "pipe = Pipeline([('vector', CountVectorizer()),\n",
    "                ('tfidf',TfidfTransformer()),\n",
    "                ('model', DecisionTreeClassifier())])\n",
    "\n",
    "# fit the pipeline to the train data\n",
    "Decision_model = pipe.fit(X_train,y_train)\n",
    "\n",
    "# predict on test dataset\n",
    "prediction = Decision_model.predict(X_test)\n",
    "\n",
    "print(\"Model - Decision Tree \")\n",
    "# print accuracy score\n",
    "print(f\"accuracy score is {round(accuracy_score(y_test,prediction)*100,2)} %\")\n",
    "\n",
    "#print confusion matrix\n",
    "print(confusion_matrix(y_test,prediction))\n",
    "#print classification report\n",
    "print(classification_report(y_test,prediction))"
   ]
  },
  {
   "cell_type": "markdown",
   "metadata": {
    "id": "IPUcodK0jLVr"
   },
   "source": [
    "K- NEAREST NEIGHBOUR CLASSIFIER MODEL\n"
   ]
  },
  {
   "cell_type": "code",
   "execution_count": 180,
   "metadata": {
    "colab": {
     "base_uri": "https://localhost:8080/"
    },
    "id": "_8XjVbty2sIL",
    "outputId": "0f047183-29a5-4fcc-ca9c-6e5322ac49fc"
   },
   "outputs": [
    {
     "name": "stdout",
     "output_type": "stream",
     "text": [
      "Model - K- NEAREST NEIGHBOUR  \n",
      "accuracy score is 57.01 %\n",
      "[[ 757   86  480]\n",
      " [ 191  159  308]\n",
      " [ 336  124 1106]]\n",
      "              precision    recall  f1-score   support\n",
      "\n",
      "    Negative       0.59      0.57      0.58      1323\n",
      "     Neutral       0.43      0.24      0.31       658\n",
      "    Positive       0.58      0.71      0.64      1566\n",
      "\n",
      "    accuracy                           0.57      3547\n",
      "   macro avg       0.53      0.51      0.51      3547\n",
      "weighted avg       0.56      0.57      0.56      3547\n",
      "\n",
      "Wall time: 4.85 s\n"
     ]
    }
   ],
   "source": [
    "%%time\n",
    "# pipeline creation \n",
    "# 1. CountVectorizer\n",
    "# 2. TfidTransformer\n",
    "# 3. KNN classifier\n",
    "\n",
    "pipe = Pipeline([('vector', CountVectorizer()),\n",
    "                ('tfidf',TfidfTransformer()),\n",
    "                ('model', KNeighborsClassifier(n_neighbors=10,\n",
    "                                                    weights='distance'))])\n",
    "\n",
    "# fit the pipeline to the train data\n",
    "KNN_model = pipe.fit(X_train,y_train)\n",
    "\n",
    "# predict on test dataset\n",
    "prediction = KNN_model.predict(X_test)\n",
    "\n",
    "print(\"Model - K- NEAREST NEIGHBOUR  \")\n",
    "# print accuracy score\n",
    "print(f\"accuracy score is {round(accuracy_score(y_test,prediction)*100,2)} %\")\n",
    "\n",
    "#print confusion matrix\n",
    "print(confusion_matrix(y_test,prediction))\n",
    "#print classification report\n",
    "print(classification_report(y_test,prediction))"
   ]
  },
  {
   "cell_type": "code",
   "execution_count": 181,
   "metadata": {
    "id": "yCooDdQ7yFdC"
   },
   "outputs": [],
   "source": [
    "# helper function for comparing models matric\n",
    "def compare_models(models, names, X_train, y_train,X_test, y_test):\n",
    "    \n",
    "    # the libraries we need\n",
    "    import sklearn.metrics as metrics\n",
    "    from sklearn.model_selection import train_test_split\n",
    "\n",
    "    # create a dataframe with column matric and metric name as value\n",
    "    for(model,name) in zip(models,names):\n",
    "        print(name)\n",
    "        y_pred = model.predict(X_test)\n",
    "    # then predict on the test set\n",
    "        res = classification_report(y_test,y_pred)\n",
    "        print(\"classification report \\n\", res)\n",
    "        print(\"-------------------------------------------------------------------------------------------\")"
   ]
  },
  {
   "cell_type": "code",
   "execution_count": 182,
   "metadata": {
    "colab": {
     "base_uri": "https://localhost:8080/"
    },
    "id": "CQyOqutpyFYS",
    "outputId": "058cbc3e-15de-491b-ba9a-85009051eae3"
   },
   "outputs": [
    {
     "name": "stdout",
     "output_type": "stream",
     "text": [
      "linearSVC\n",
      "classification report \n",
      "               precision    recall  f1-score   support\n",
      "\n",
      "    Negative       0.92      0.89      0.91      1323\n",
      "     Neutral       0.85      0.86      0.85       658\n",
      "    Positive       0.92      0.94      0.93      1566\n",
      "\n",
      "    accuracy                           0.91      3547\n",
      "   macro avg       0.90      0.90      0.90      3547\n",
      "weighted avg       0.91      0.91      0.91      3547\n",
      "\n",
      "-------------------------------------------------------------------------------------------\n",
      "logistic\n",
      "classification report \n",
      "               precision    recall  f1-score   support\n",
      "\n",
      "    Negative       0.88      0.86      0.87      1323\n",
      "     Neutral       0.82      0.75      0.79       658\n",
      "    Positive       0.88      0.92      0.90      1566\n",
      "\n",
      "    accuracy                           0.87      3547\n",
      "   macro avg       0.86      0.85      0.85      3547\n",
      "weighted avg       0.87      0.87      0.87      3547\n",
      "\n",
      "-------------------------------------------------------------------------------------------\n",
      "MultinomialNB\n",
      "classification report \n",
      "               precision    recall  f1-score   support\n",
      "\n",
      "    Negative       0.74      0.59      0.66      1323\n",
      "     Neutral       0.75      0.01      0.03       658\n",
      "    Positive       0.58      0.92      0.71      1566\n",
      "\n",
      "    accuracy                           0.63      3547\n",
      "   macro avg       0.69      0.51      0.47      3547\n",
      "weighted avg       0.67      0.63      0.56      3547\n",
      "\n",
      "-------------------------------------------------------------------------------------------\n",
      "BernoulliNB\n",
      "classification report \n",
      "               precision    recall  f1-score   support\n",
      "\n",
      "    Negative       0.71      0.72      0.71      1323\n",
      "     Neutral       0.83      0.23      0.36       658\n",
      "    Positive       0.66      0.85      0.74      1566\n",
      "\n",
      "    accuracy                           0.69      3547\n",
      "   macro avg       0.73      0.60      0.61      3547\n",
      "weighted avg       0.71      0.69      0.66      3547\n",
      "\n",
      "-------------------------------------------------------------------------------------------\n",
      "gardientboost\n",
      "classification report \n",
      "               precision    recall  f1-score   support\n",
      "\n",
      "    Negative       0.85      0.01      0.02      1323\n",
      "     Neutral       0.00      0.00      0.00       658\n",
      "    Positive       0.44      1.00      0.61      1566\n",
      "\n",
      "    accuracy                           0.44      3547\n",
      "   macro avg       0.43      0.34      0.21      3547\n",
      "weighted avg       0.51      0.44      0.28      3547\n",
      "\n",
      "-------------------------------------------------------------------------------------------\n",
      "decisiontree\n"
     ]
    },
    {
     "name": "stderr",
     "output_type": "stream",
     "text": [
      "C:\\Users\\Muskan\\anaconda3\\lib\\site-packages\\sklearn\\metrics\\_classification.py:1318: UndefinedMetricWarning: Precision and F-score are ill-defined and being set to 0.0 in labels with no predicted samples. Use `zero_division` parameter to control this behavior.\n",
      "  _warn_prf(average, modifier, msg_start, len(result))\n",
      "C:\\Users\\Muskan\\anaconda3\\lib\\site-packages\\sklearn\\metrics\\_classification.py:1318: UndefinedMetricWarning: Precision and F-score are ill-defined and being set to 0.0 in labels with no predicted samples. Use `zero_division` parameter to control this behavior.\n",
      "  _warn_prf(average, modifier, msg_start, len(result))\n",
      "C:\\Users\\Muskan\\anaconda3\\lib\\site-packages\\sklearn\\metrics\\_classification.py:1318: UndefinedMetricWarning: Precision and F-score are ill-defined and being set to 0.0 in labels with no predicted samples. Use `zero_division` parameter to control this behavior.\n",
      "  _warn_prf(average, modifier, msg_start, len(result))\n"
     ]
    },
    {
     "name": "stdout",
     "output_type": "stream",
     "text": [
      "classification report \n",
      "               precision    recall  f1-score   support\n",
      "\n",
      "    Negative       0.79      0.78      0.78      1323\n",
      "     Neutral       0.91      0.97      0.94       658\n",
      "    Positive       0.83      0.82      0.82      1566\n",
      "\n",
      "    accuracy                           0.83      3547\n",
      "   macro avg       0.84      0.85      0.85      3547\n",
      "weighted avg       0.83      0.83      0.83      3547\n",
      "\n",
      "-------------------------------------------------------------------------------------------\n",
      "KNN\n",
      "classification report \n",
      "               precision    recall  f1-score   support\n",
      "\n",
      "    Negative       0.59      0.57      0.58      1323\n",
      "     Neutral       0.43      0.24      0.31       658\n",
      "    Positive       0.58      0.71      0.64      1566\n",
      "\n",
      "    accuracy                           0.57      3547\n",
      "   macro avg       0.53      0.51      0.51      3547\n",
      "weighted avg       0.56      0.57      0.56      3547\n",
      "\n",
      "-------------------------------------------------------------------------------------------\n"
     ]
    }
   ],
   "source": [
    "# list of model objects\n",
    "models = [linear_svc_model, log_model, multinomialNB_model, BernoulliNB_model, GB_model, \n",
    "          Decision_model, KNN_model]\n",
    "# list of model names\n",
    "names = ['linearSVC','logistic','MultinomialNB','BernoulliNB','gardientboost','decisiontree','KNN']\n",
    "# print the comparison of models\n",
    "compare_models(models, names, X_train,y_train,X_test,y_test)"
   ]
  },
  {
   "cell_type": "markdown",
   "metadata": {
    "id": "urk4DVzslAXB"
   },
   "source": [
    "# working with test data"
   ]
  },
  {
   "cell_type": "code",
   "execution_count": 183,
   "metadata": {
    "colab": {
     "base_uri": "https://localhost:8080/"
    },
    "id": "T7HvvBOW2sGj",
    "outputId": "44b79c1b-84ea-4b00-9200-d75f8d514603"
   },
   "outputs": [
    {
     "data": {
      "text/plain": [
       "array(['Negative', 'Negative', 'Negative', ..., 'Neutral', 'Positive',\n",
       "       'Positive'], dtype=object)"
      ]
     },
     "execution_count": 183,
     "metadata": {},
     "output_type": "execute_result"
    }
   ],
   "source": [
    "# Perform the prediction on the test dataset\n",
    "y_predicted = linear_svc_model.predict(X_test)\n",
    "y_predicted"
   ]
  },
  {
   "cell_type": "code",
   "execution_count": 184,
   "metadata": {
    "id": "pOKTBCnPlD5J"
   },
   "outputs": [],
   "source": [
    "# creating a dataframe of predicted results \n",
    "predictions = pd.DataFrame(y_predicted)"
   ]
  },
  {
   "cell_type": "code",
   "execution_count": 185,
   "metadata": {
    "colab": {
     "base_uri": "https://localhost:8080/",
     "height": 202
    },
    "id": "XhfTaQoflEwZ",
    "outputId": "9a84c83e-77a2-4bc5-c829-de61e6a7ff3c"
   },
   "outputs": [
    {
     "data": {
      "text/html": [
       "<div>\n",
       "<style scoped>\n",
       "    .dataframe tbody tr th:only-of-type {\n",
       "        vertical-align: middle;\n",
       "    }\n",
       "\n",
       "    .dataframe tbody tr th {\n",
       "        vertical-align: top;\n",
       "    }\n",
       "\n",
       "    .dataframe thead th {\n",
       "        text-align: right;\n",
       "    }\n",
       "</style>\n",
       "<table border=\"1\" class=\"dataframe\">\n",
       "  <thead>\n",
       "    <tr style=\"text-align: right;\">\n",
       "      <th></th>\n",
       "      <th>0</th>\n",
       "    </tr>\n",
       "  </thead>\n",
       "  <tbody>\n",
       "    <tr>\n",
       "      <th>0</th>\n",
       "      <td>Negative</td>\n",
       "    </tr>\n",
       "    <tr>\n",
       "      <th>1</th>\n",
       "      <td>Negative</td>\n",
       "    </tr>\n",
       "    <tr>\n",
       "      <th>2</th>\n",
       "      <td>Negative</td>\n",
       "    </tr>\n",
       "    <tr>\n",
       "      <th>3</th>\n",
       "      <td>Negative</td>\n",
       "    </tr>\n",
       "    <tr>\n",
       "      <th>4</th>\n",
       "      <td>Positive</td>\n",
       "    </tr>\n",
       "    <tr>\n",
       "      <th>...</th>\n",
       "      <td>...</td>\n",
       "    </tr>\n",
       "    <tr>\n",
       "      <th>3542</th>\n",
       "      <td>Negative</td>\n",
       "    </tr>\n",
       "    <tr>\n",
       "      <th>3543</th>\n",
       "      <td>Positive</td>\n",
       "    </tr>\n",
       "    <tr>\n",
       "      <th>3544</th>\n",
       "      <td>Neutral</td>\n",
       "    </tr>\n",
       "    <tr>\n",
       "      <th>3545</th>\n",
       "      <td>Positive</td>\n",
       "    </tr>\n",
       "    <tr>\n",
       "      <th>3546</th>\n",
       "      <td>Positive</td>\n",
       "    </tr>\n",
       "  </tbody>\n",
       "</table>\n",
       "<p>3547 rows × 1 columns</p>\n",
       "</div>"
      ],
      "text/plain": [
       "             0\n",
       "0     Negative\n",
       "1     Negative\n",
       "2     Negative\n",
       "3     Negative\n",
       "4     Positive\n",
       "...        ...\n",
       "3542  Negative\n",
       "3543  Positive\n",
       "3544   Neutral\n",
       "3545  Positive\n",
       "3546  Positive\n",
       "\n",
       "[3547 rows x 1 columns]"
      ]
     },
     "execution_count": 185,
     "metadata": {},
     "output_type": "execute_result"
    }
   ],
   "source": [
    "predictions"
   ]
  },
  {
   "cell_type": "markdown",
   "metadata": {
    "id": "VOS21GT-gOzH"
   },
   "source": [
    "# now working on headlines"
   ]
  },
  {
   "cell_type": "code",
   "execution_count": 186,
   "metadata": {
    "colab": {
     "base_uri": "https://localhost:8080/",
     "height": 202
    },
    "id": "wFmAITs64xzF",
    "outputId": "1ef5c066-55a3-413b-e5a6-936f6ce06146"
   },
   "outputs": [
    {
     "data": {
      "text/html": [
       "<div>\n",
       "<style scoped>\n",
       "    .dataframe tbody tr th:only-of-type {\n",
       "        vertical-align: middle;\n",
       "    }\n",
       "\n",
       "    .dataframe tbody tr th {\n",
       "        vertical-align: top;\n",
       "    }\n",
       "\n",
       "    .dataframe thead th {\n",
       "        text-align: right;\n",
       "    }\n",
       "</style>\n",
       "<table border=\"1\" class=\"dataframe\">\n",
       "  <thead>\n",
       "    <tr style=\"text-align: right;\">\n",
       "      <th></th>\n",
       "      <th>Headlines</th>\n",
       "      <th>Time</th>\n",
       "      <th>Description</th>\n",
       "    </tr>\n",
       "  </thead>\n",
       "  <tbody>\n",
       "    <tr>\n",
       "      <th>0</th>\n",
       "      <td>Jim Cramer: A better way to invest in the Covi...</td>\n",
       "      <td>7:51  PM ET Fri, 17 July 2020</td>\n",
       "      <td>\"Mad Money\" host Jim Cramer recommended buying...</td>\n",
       "    </tr>\n",
       "    <tr>\n",
       "      <th>1</th>\n",
       "      <td>Cramer's lightning round: I would own Teradyne</td>\n",
       "      <td>7:33  PM ET Fri, 17 July 2020</td>\n",
       "      <td>\"Mad Money\" host Jim Cramer rings the lightnin...</td>\n",
       "    </tr>\n",
       "    <tr>\n",
       "      <th>2</th>\n",
       "      <td>Cramer's week ahead: Big week for earnings, ev...</td>\n",
       "      <td>7:25  PM ET Fri, 17 July 2020</td>\n",
       "      <td>\"We'll pay more for the earnings of the non-Co...</td>\n",
       "    </tr>\n",
       "    <tr>\n",
       "      <th>3</th>\n",
       "      <td>IQ Capital CEO Keith Bliss says tech and healt...</td>\n",
       "      <td>4:24  PM ET Fri, 17 July 2020</td>\n",
       "      <td>Keith Bliss, IQ Capital CEO, joins \"Closing Be...</td>\n",
       "    </tr>\n",
       "    <tr>\n",
       "      <th>4</th>\n",
       "      <td>Wall Street delivered the 'kind of pullback I'...</td>\n",
       "      <td>7:36  PM ET Thu, 16 July 2020</td>\n",
       "      <td>\"Look for the stocks of high-quality companies...</td>\n",
       "    </tr>\n",
       "  </tbody>\n",
       "</table>\n",
       "</div>"
      ],
      "text/plain": [
       "                                           Headlines  \\\n",
       "0  Jim Cramer: A better way to invest in the Covi...   \n",
       "1     Cramer's lightning round: I would own Teradyne   \n",
       "2  Cramer's week ahead: Big week for earnings, ev...   \n",
       "3  IQ Capital CEO Keith Bliss says tech and healt...   \n",
       "4  Wall Street delivered the 'kind of pullback I'...   \n",
       "\n",
       "                             Time  \\\n",
       "0   7:51  PM ET Fri, 17 July 2020   \n",
       "1   7:33  PM ET Fri, 17 July 2020   \n",
       "2   7:25  PM ET Fri, 17 July 2020   \n",
       "3   4:24  PM ET Fri, 17 July 2020   \n",
       "4   7:36  PM ET Thu, 16 July 2020   \n",
       "\n",
       "                                         Description  \n",
       "0  \"Mad Money\" host Jim Cramer recommended buying...  \n",
       "1  \"Mad Money\" host Jim Cramer rings the lightnin...  \n",
       "2  \"We'll pay more for the earnings of the non-Co...  \n",
       "3  Keith Bliss, IQ Capital CEO, joins \"Closing Be...  \n",
       "4  \"Look for the stocks of high-quality companies...  "
      ]
     },
     "execution_count": 186,
     "metadata": {},
     "output_type": "execute_result"
    }
   ],
   "source": [
    "# from the dataset you have copied before delete the column of description\n",
    "new_data_copy.head()"
   ]
  },
  {
   "cell_type": "code",
   "execution_count": 187,
   "metadata": {
    "colab": {
     "base_uri": "https://localhost:8080/",
     "height": 202
    },
    "id": "isurNknP7iib",
    "outputId": "6df7401d-7ac2-48b1-e391-d9fc65f14305"
   },
   "outputs": [
    {
     "data": {
      "text/html": [
       "<div>\n",
       "<style scoped>\n",
       "    .dataframe tbody tr th:only-of-type {\n",
       "        vertical-align: middle;\n",
       "    }\n",
       "\n",
       "    .dataframe tbody tr th {\n",
       "        vertical-align: top;\n",
       "    }\n",
       "\n",
       "    .dataframe thead th {\n",
       "        text-align: right;\n",
       "    }\n",
       "</style>\n",
       "<table border=\"1\" class=\"dataframe\">\n",
       "  <thead>\n",
       "    <tr style=\"text-align: right;\">\n",
       "      <th></th>\n",
       "      <th>Headlines</th>\n",
       "      <th>Time</th>\n",
       "    </tr>\n",
       "  </thead>\n",
       "  <tbody>\n",
       "    <tr>\n",
       "      <th>0</th>\n",
       "      <td>Jim Cramer: A better way to invest in the Covi...</td>\n",
       "      <td>7:51  PM ET Fri, 17 July 2020</td>\n",
       "    </tr>\n",
       "    <tr>\n",
       "      <th>1</th>\n",
       "      <td>Cramer's lightning round: I would own Teradyne</td>\n",
       "      <td>7:33  PM ET Fri, 17 July 2020</td>\n",
       "    </tr>\n",
       "    <tr>\n",
       "      <th>2</th>\n",
       "      <td>Cramer's week ahead: Big week for earnings, ev...</td>\n",
       "      <td>7:25  PM ET Fri, 17 July 2020</td>\n",
       "    </tr>\n",
       "    <tr>\n",
       "      <th>3</th>\n",
       "      <td>IQ Capital CEO Keith Bliss says tech and healt...</td>\n",
       "      <td>4:24  PM ET Fri, 17 July 2020</td>\n",
       "    </tr>\n",
       "    <tr>\n",
       "      <th>4</th>\n",
       "      <td>Wall Street delivered the 'kind of pullback I'...</td>\n",
       "      <td>7:36  PM ET Thu, 16 July 2020</td>\n",
       "    </tr>\n",
       "    <tr>\n",
       "      <th>...</th>\n",
       "      <td>...</td>\n",
       "      <td>...</td>\n",
       "    </tr>\n",
       "    <tr>\n",
       "      <th>32668</th>\n",
       "      <td>Malaysia says never hired British data firm at...</td>\n",
       "      <td>Mar 20 2018</td>\n",
       "    </tr>\n",
       "    <tr>\n",
       "      <th>32669</th>\n",
       "      <td>Prosecutors search Volkswagen headquarters in ...</td>\n",
       "      <td>Mar 20 2018</td>\n",
       "    </tr>\n",
       "    <tr>\n",
       "      <th>32670</th>\n",
       "      <td>McDonald's sets greenhouse gas reduction targets</td>\n",
       "      <td>Mar 20 2018</td>\n",
       "    </tr>\n",
       "    <tr>\n",
       "      <th>32671</th>\n",
       "      <td>Pratt &amp; Whitney to deliver spare A320neo engin...</td>\n",
       "      <td>Mar 20 2018</td>\n",
       "    </tr>\n",
       "    <tr>\n",
       "      <th>32672</th>\n",
       "      <td>UK will always consider ways to improve data l...</td>\n",
       "      <td>Mar 20 2018</td>\n",
       "    </tr>\n",
       "  </tbody>\n",
       "</table>\n",
       "<p>35463 rows × 2 columns</p>\n",
       "</div>"
      ],
      "text/plain": [
       "                                               Headlines  \\\n",
       "0      Jim Cramer: A better way to invest in the Covi...   \n",
       "1         Cramer's lightning round: I would own Teradyne   \n",
       "2      Cramer's week ahead: Big week for earnings, ev...   \n",
       "3      IQ Capital CEO Keith Bliss says tech and healt...   \n",
       "4      Wall Street delivered the 'kind of pullback I'...   \n",
       "...                                                  ...   \n",
       "32668  Malaysia says never hired British data firm at...   \n",
       "32669  Prosecutors search Volkswagen headquarters in ...   \n",
       "32670   McDonald's sets greenhouse gas reduction targets   \n",
       "32671  Pratt & Whitney to deliver spare A320neo engin...   \n",
       "32672  UK will always consider ways to improve data l...   \n",
       "\n",
       "                                 Time  \n",
       "0       7:51  PM ET Fri, 17 July 2020  \n",
       "1       7:33  PM ET Fri, 17 July 2020  \n",
       "2       7:25  PM ET Fri, 17 July 2020  \n",
       "3       4:24  PM ET Fri, 17 July 2020  \n",
       "4       7:36  PM ET Thu, 16 July 2020  \n",
       "...                               ...  \n",
       "32668                     Mar 20 2018  \n",
       "32669                     Mar 20 2018  \n",
       "32670                     Mar 20 2018  \n",
       "32671                     Mar 20 2018  \n",
       "32672                     Mar 20 2018  \n",
       "\n",
       "[35463 rows x 2 columns]"
      ]
     },
     "execution_count": 187,
     "metadata": {},
     "output_type": "execute_result"
    }
   ],
   "source": [
    "new_data_copy = new_data_copy.drop(columns=['Description'], axis=1)\n",
    "new_data_copy"
   ]
  },
  {
   "cell_type": "code",
   "execution_count": 188,
   "metadata": {},
   "outputs": [
    {
     "data": {
      "text/html": [
       "<div>\n",
       "<style scoped>\n",
       "    .dataframe tbody tr th:only-of-type {\n",
       "        vertical-align: middle;\n",
       "    }\n",
       "\n",
       "    .dataframe tbody tr th {\n",
       "        vertical-align: top;\n",
       "    }\n",
       "\n",
       "    .dataframe thead th {\n",
       "        text-align: right;\n",
       "    }\n",
       "</style>\n",
       "<table border=\"1\" class=\"dataframe\">\n",
       "  <thead>\n",
       "    <tr style=\"text-align: right;\">\n",
       "      <th></th>\n",
       "      <th>Time</th>\n",
       "      <th>Headlines</th>\n",
       "    </tr>\n",
       "  </thead>\n",
       "  <tbody>\n",
       "    <tr>\n",
       "      <th>0</th>\n",
       "      <td>18-Jul-20</td>\n",
       "      <td>Johnson is asking Santa for a Christmas recovery</td>\n",
       "    </tr>\n",
       "    <tr>\n",
       "      <th>1</th>\n",
       "      <td>18-Jul-20</td>\n",
       "      <td>‘I now fear the worst’: four grim tales of wor...</td>\n",
       "    </tr>\n",
       "    <tr>\n",
       "      <th>2</th>\n",
       "      <td>18-Jul-20</td>\n",
       "      <td>Five key areas Sunak must tackle to serve up e...</td>\n",
       "    </tr>\n",
       "    <tr>\n",
       "      <th>3</th>\n",
       "      <td>18-Jul-20</td>\n",
       "      <td>Covid-19 leaves firms ‘fatally ill-prepared’ f...</td>\n",
       "    </tr>\n",
       "    <tr>\n",
       "      <th>4</th>\n",
       "      <td>18-Jul-20</td>\n",
       "      <td>The Week in Patriarchy  \\n\\n\\n  Bacardi's 'lad...</td>\n",
       "    </tr>\n",
       "  </tbody>\n",
       "</table>\n",
       "</div>"
      ],
      "text/plain": [
       "        Time                                          Headlines\n",
       "0  18-Jul-20   Johnson is asking Santa for a Christmas recovery\n",
       "1  18-Jul-20  ‘I now fear the worst’: four grim tales of wor...\n",
       "2  18-Jul-20  Five key areas Sunak must tackle to serve up e...\n",
       "3  18-Jul-20  Covid-19 leaves firms ‘fatally ill-prepared’ f...\n",
       "4  18-Jul-20  The Week in Patriarchy  \\n\\n\\n  Bacardi's 'lad..."
      ]
     },
     "execution_count": 188,
     "metadata": {},
     "output_type": "execute_result"
    }
   ],
   "source": [
    "guardian_headlines.head()"
   ]
  },
  {
   "cell_type": "code",
   "execution_count": 189,
   "metadata": {},
   "outputs": [
    {
     "data": {
      "text/plain": [
       "Time         0\n",
       "Headlines    0\n",
       "dtype: int64"
      ]
     },
     "execution_count": 189,
     "metadata": {},
     "output_type": "execute_result"
    }
   ],
   "source": [
    "guardian_headlines.isnull().sum()"
   ]
  },
  {
   "cell_type": "code",
   "execution_count": 196,
   "metadata": {
    "id": "7PmKhFHl4xs-"
   },
   "outputs": [],
   "source": [
    "# cancatenate the gaurdian headlines dataset and  copy of datasetto get all headlines together\n",
    "all_headlines =  pd.concat([guardian_headlines, new_data_copy], axis=0)"
   ]
  },
  {
   "cell_type": "code",
   "execution_count": 197,
   "metadata": {
    "colab": {
     "base_uri": "https://localhost:8080/",
     "height": 202
    },
    "id": "2WSYMgUm4xps",
    "outputId": "ea2e0e9a-dfcb-410e-a3b5-ed4545fa93c4"
   },
   "outputs": [
    {
     "data": {
      "text/html": [
       "<div>\n",
       "<style scoped>\n",
       "    .dataframe tbody tr th:only-of-type {\n",
       "        vertical-align: middle;\n",
       "    }\n",
       "\n",
       "    .dataframe tbody tr th {\n",
       "        vertical-align: top;\n",
       "    }\n",
       "\n",
       "    .dataframe thead th {\n",
       "        text-align: right;\n",
       "    }\n",
       "</style>\n",
       "<table border=\"1\" class=\"dataframe\">\n",
       "  <thead>\n",
       "    <tr style=\"text-align: right;\">\n",
       "      <th></th>\n",
       "      <th>Time</th>\n",
       "      <th>Headlines</th>\n",
       "    </tr>\n",
       "  </thead>\n",
       "  <tbody>\n",
       "    <tr>\n",
       "      <th>0</th>\n",
       "      <td>18-Jul-20</td>\n",
       "      <td>Johnson is asking Santa for a Christmas recovery</td>\n",
       "    </tr>\n",
       "    <tr>\n",
       "      <th>1</th>\n",
       "      <td>18-Jul-20</td>\n",
       "      <td>‘I now fear the worst’: four grim tales of wor...</td>\n",
       "    </tr>\n",
       "    <tr>\n",
       "      <th>2</th>\n",
       "      <td>18-Jul-20</td>\n",
       "      <td>Five key areas Sunak must tackle to serve up e...</td>\n",
       "    </tr>\n",
       "    <tr>\n",
       "      <th>3</th>\n",
       "      <td>18-Jul-20</td>\n",
       "      <td>Covid-19 leaves firms ‘fatally ill-prepared’ f...</td>\n",
       "    </tr>\n",
       "    <tr>\n",
       "      <th>4</th>\n",
       "      <td>18-Jul-20</td>\n",
       "      <td>The Week in Patriarchy  \\n\\n\\n  Bacardi's 'lad...</td>\n",
       "    </tr>\n",
       "  </tbody>\n",
       "</table>\n",
       "</div>"
      ],
      "text/plain": [
       "        Time                                          Headlines\n",
       "0  18-Jul-20   Johnson is asking Santa for a Christmas recovery\n",
       "1  18-Jul-20  ‘I now fear the worst’: four grim tales of wor...\n",
       "2  18-Jul-20  Five key areas Sunak must tackle to serve up e...\n",
       "3  18-Jul-20  Covid-19 leaves firms ‘fatally ill-prepared’ f...\n",
       "4  18-Jul-20  The Week in Patriarchy  \\n\\n\\n  Bacardi's 'lad..."
      ]
     },
     "execution_count": 197,
     "metadata": {},
     "output_type": "execute_result"
    }
   ],
   "source": [
    "all_headlines.head()"
   ]
  },
  {
   "cell_type": "code",
   "execution_count": 198,
   "metadata": {
    "colab": {
     "base_uri": "https://localhost:8080/"
    },
    "id": "4b_DReQJ4xnw",
    "outputId": "4ba05177-4e07-45a8-8a32-b58c1173760d"
   },
   "outputs": [
    {
     "data": {
      "text/plain": [
       "(53258, 2)"
      ]
     },
     "execution_count": 198,
     "metadata": {},
     "output_type": "execute_result"
    }
   ],
   "source": [
    "# check the shape of all headlines dataset\n",
    "all_headlines.shape"
   ]
  },
  {
   "cell_type": "code",
   "execution_count": 199,
   "metadata": {},
   "outputs": [
    {
     "name": "stdout",
     "output_type": "stream",
     "text": [
      "<class 'pandas.core.frame.DataFrame'>\n",
      "Int64Index: 53258 entries, 0 to 32672\n",
      "Data columns (total 2 columns):\n",
      " #   Column     Non-Null Count  Dtype \n",
      "---  ------     --------------  ----- \n",
      " 0   Time       53258 non-null  object\n",
      " 1   Headlines  53258 non-null  object\n",
      "dtypes: object(2)\n",
      "memory usage: 1.2+ MB\n"
     ]
    }
   ],
   "source": [
    "all_headlines.info()"
   ]
  },
  {
   "cell_type": "code",
   "execution_count": 200,
   "metadata": {
    "colab": {
     "base_uri": "https://localhost:8080/",
     "height": 202
    },
    "id": "Xn2AN-6MAgQE",
    "outputId": "59c8dcbb-e719-4579-f872-aa8768f4a2e1"
   },
   "outputs": [
    {
     "data": {
      "text/html": [
       "<div>\n",
       "<style scoped>\n",
       "    .dataframe tbody tr th:only-of-type {\n",
       "        vertical-align: middle;\n",
       "    }\n",
       "\n",
       "    .dataframe tbody tr th {\n",
       "        vertical-align: top;\n",
       "    }\n",
       "\n",
       "    .dataframe thead th {\n",
       "        text-align: right;\n",
       "    }\n",
       "</style>\n",
       "<table border=\"1\" class=\"dataframe\">\n",
       "  <thead>\n",
       "    <tr style=\"text-align: right;\">\n",
       "      <th></th>\n",
       "      <th>Time</th>\n",
       "      <th>Headlines</th>\n",
       "    </tr>\n",
       "  </thead>\n",
       "  <tbody>\n",
       "    <tr>\n",
       "      <th>0</th>\n",
       "      <td>18-Jul-20</td>\n",
       "      <td>johnson ask santa christma recoveri</td>\n",
       "    </tr>\n",
       "    <tr>\n",
       "      <th>1</th>\n",
       "      <td>18-Jul-20</td>\n",
       "      <td>‘ fear bad ’ four grim tale work life upend co...</td>\n",
       "    </tr>\n",
       "    <tr>\n",
       "      <th>2</th>\n",
       "      <td>18-Jul-20</td>\n",
       "      <td>five key area sunak must tackl serv econom rec...</td>\n",
       "    </tr>\n",
       "    <tr>\n",
       "      <th>3</th>\n",
       "      <td>18-Jul-20</td>\n",
       "      <td>covid19 leav firm ‘ fatal illprepar ’ nodeal b...</td>\n",
       "    </tr>\n",
       "    <tr>\n",
       "      <th>4</th>\n",
       "      <td>18-Jul-20</td>\n",
       "      <td>week patriarchi bacardi ladi vodka late long l...</td>\n",
       "    </tr>\n",
       "    <tr>\n",
       "      <th>...</th>\n",
       "      <td>...</td>\n",
       "      <td>...</td>\n",
       "    </tr>\n",
       "    <tr>\n",
       "      <th>32668</th>\n",
       "      <td>Mar 20 2018</td>\n",
       "      <td>malaysia say never hire british data firm cent...</td>\n",
       "    </tr>\n",
       "    <tr>\n",
       "      <th>32669</th>\n",
       "      <td>Mar 20 2018</td>\n",
       "      <td>prosecutor search volkswagen headquart new emi...</td>\n",
       "    </tr>\n",
       "    <tr>\n",
       "      <th>32670</th>\n",
       "      <td>Mar 20 2018</td>\n",
       "      <td>mcdonald set greenhous ga reduct target</td>\n",
       "    </tr>\n",
       "    <tr>\n",
       "      <th>32671</th>\n",
       "      <td>Mar 20 2018</td>\n",
       "      <td>pratt whitney deliv spare a320neo engin soon i...</td>\n",
       "    </tr>\n",
       "    <tr>\n",
       "      <th>32672</th>\n",
       "      <td>Mar 20 2018</td>\n",
       "      <td>uk alway consid way improv data law pm may spo...</td>\n",
       "    </tr>\n",
       "  </tbody>\n",
       "</table>\n",
       "<p>53258 rows × 2 columns</p>\n",
       "</div>"
      ],
      "text/plain": [
       "              Time                                          Headlines\n",
       "0        18-Jul-20                johnson ask santa christma recoveri\n",
       "1        18-Jul-20  ‘ fear bad ’ four grim tale work life upend co...\n",
       "2        18-Jul-20  five key area sunak must tackl serv econom rec...\n",
       "3        18-Jul-20  covid19 leav firm ‘ fatal illprepar ’ nodeal b...\n",
       "4        18-Jul-20  week patriarchi bacardi ladi vodka late long l...\n",
       "...            ...                                                ...\n",
       "32668  Mar 20 2018  malaysia say never hire british data firm cent...\n",
       "32669  Mar 20 2018  prosecutor search volkswagen headquart new emi...\n",
       "32670  Mar 20 2018            mcdonald set greenhous ga reduct target\n",
       "32671  Mar 20 2018  pratt whitney deliv spare a320neo engin soon i...\n",
       "32672  Mar 20 2018  uk alway consid way improv data law pm may spo...\n",
       "\n",
       "[53258 rows x 2 columns]"
      ]
     },
     "execution_count": 200,
     "metadata": {},
     "output_type": "execute_result"
    }
   ],
   "source": [
    "#apply preprocessin to the headlines column in the new dataset\n",
    "all_headlines['Headlines'] = all_headlines['Headlines'].apply(preprocessing_text)\n",
    "all_headlines"
   ]
  },
  {
   "cell_type": "code",
   "execution_count": 201,
   "metadata": {
    "colab": {
     "base_uri": "https://localhost:8080/",
     "height": 414
    },
    "id": "EBdenfoGAgOL",
    "outputId": "b1730b84-9c09-4f26-fe59-171c490b958c"
   },
   "outputs": [
    {
     "data": {
      "text/html": [
       "<div>\n",
       "<style scoped>\n",
       "    .dataframe tbody tr th:only-of-type {\n",
       "        vertical-align: middle;\n",
       "    }\n",
       "\n",
       "    .dataframe tbody tr th {\n",
       "        vertical-align: top;\n",
       "    }\n",
       "\n",
       "    .dataframe thead th {\n",
       "        text-align: right;\n",
       "    }\n",
       "</style>\n",
       "<table border=\"1\" class=\"dataframe\">\n",
       "  <thead>\n",
       "    <tr style=\"text-align: right;\">\n",
       "      <th></th>\n",
       "      <th>Time</th>\n",
       "      <th>Headlines</th>\n",
       "      <th>hl_score</th>\n",
       "    </tr>\n",
       "  </thead>\n",
       "  <tbody>\n",
       "    <tr>\n",
       "      <th>0</th>\n",
       "      <td>18-Jul-20</td>\n",
       "      <td>johnson ask santa christma recoveri</td>\n",
       "      <td>0.0000</td>\n",
       "    </tr>\n",
       "    <tr>\n",
       "      <th>1</th>\n",
       "      <td>18-Jul-20</td>\n",
       "      <td>‘ fear bad ’ four grim tale work life upend co...</td>\n",
       "      <td>-0.8860</td>\n",
       "    </tr>\n",
       "    <tr>\n",
       "      <th>2</th>\n",
       "      <td>18-Jul-20</td>\n",
       "      <td>five key area sunak must tackl serv econom rec...</td>\n",
       "      <td>0.0000</td>\n",
       "    </tr>\n",
       "    <tr>\n",
       "      <th>3</th>\n",
       "      <td>18-Jul-20</td>\n",
       "      <td>covid19 leav firm ‘ fatal illprepar ’ nodeal b...</td>\n",
       "      <td>-0.5423</td>\n",
       "    </tr>\n",
       "    <tr>\n",
       "      <th>4</th>\n",
       "      <td>18-Jul-20</td>\n",
       "      <td>week patriarchi bacardi ladi vodka late long l...</td>\n",
       "      <td>-0.4939</td>\n",
       "    </tr>\n",
       "    <tr>\n",
       "      <th>...</th>\n",
       "      <td>...</td>\n",
       "      <td>...</td>\n",
       "      <td>...</td>\n",
       "    </tr>\n",
       "    <tr>\n",
       "      <th>32668</th>\n",
       "      <td>Mar 20 2018</td>\n",
       "      <td>malaysia say never hire british data firm cent...</td>\n",
       "      <td>0.0000</td>\n",
       "    </tr>\n",
       "    <tr>\n",
       "      <th>32669</th>\n",
       "      <td>Mar 20 2018</td>\n",
       "      <td>prosecutor search volkswagen headquart new emi...</td>\n",
       "      <td>0.0000</td>\n",
       "    </tr>\n",
       "    <tr>\n",
       "      <th>32670</th>\n",
       "      <td>Mar 20 2018</td>\n",
       "      <td>mcdonald set greenhous ga reduct target</td>\n",
       "      <td>0.0000</td>\n",
       "    </tr>\n",
       "    <tr>\n",
       "      <th>32671</th>\n",
       "      <td>Mar 20 2018</td>\n",
       "      <td>pratt whitney deliv spare a320neo engin soon i...</td>\n",
       "      <td>0.0000</td>\n",
       "    </tr>\n",
       "    <tr>\n",
       "      <th>32672</th>\n",
       "      <td>Mar 20 2018</td>\n",
       "      <td>uk alway consid way improv data law pm may spo...</td>\n",
       "      <td>0.0000</td>\n",
       "    </tr>\n",
       "  </tbody>\n",
       "</table>\n",
       "<p>53258 rows × 3 columns</p>\n",
       "</div>"
      ],
      "text/plain": [
       "              Time                                          Headlines  \\\n",
       "0        18-Jul-20                johnson ask santa christma recoveri   \n",
       "1        18-Jul-20  ‘ fear bad ’ four grim tale work life upend co...   \n",
       "2        18-Jul-20  five key area sunak must tackl serv econom rec...   \n",
       "3        18-Jul-20  covid19 leav firm ‘ fatal illprepar ’ nodeal b...   \n",
       "4        18-Jul-20  week patriarchi bacardi ladi vodka late long l...   \n",
       "...            ...                                                ...   \n",
       "32668  Mar 20 2018  malaysia say never hire british data firm cent...   \n",
       "32669  Mar 20 2018  prosecutor search volkswagen headquart new emi...   \n",
       "32670  Mar 20 2018            mcdonald set greenhous ga reduct target   \n",
       "32671  Mar 20 2018  pratt whitney deliv spare a320neo engin soon i...   \n",
       "32672  Mar 20 2018  uk alway consid way improv data law pm may spo...   \n",
       "\n",
       "       hl_score  \n",
       "0        0.0000  \n",
       "1       -0.8860  \n",
       "2        0.0000  \n",
       "3       -0.5423  \n",
       "4       -0.4939  \n",
       "...         ...  \n",
       "32668    0.0000  \n",
       "32669    0.0000  \n",
       "32670    0.0000  \n",
       "32671    0.0000  \n",
       "32672    0.0000  \n",
       "\n",
       "[53258 rows x 3 columns]"
      ]
     },
     "execution_count": 201,
     "metadata": {},
     "output_type": "execute_result"
    }
   ],
   "source": [
    "# analyze polarity score of values in headlines and  add new column of it in dataset\n",
    "hl_score = []\n",
    "for value in all_headlines['Headlines'].values:\n",
    "    hl_score.append(analyzer.polarity_scores(value)['compound'])\n",
    "    \n",
    "all_headlines['hl_score'] = hl_score\n",
    "all_headlines\n"
   ]
  },
  {
   "cell_type": "code",
   "execution_count": 202,
   "metadata": {
    "colab": {
     "base_uri": "https://localhost:8080/",
     "height": 414
    },
    "id": "OexQKGBxAgKb",
    "outputId": "63a014a7-f17c-43ed-ceee-45f68546f2c2"
   },
   "outputs": [
    {
     "data": {
      "text/html": [
       "<div>\n",
       "<style scoped>\n",
       "    .dataframe tbody tr th:only-of-type {\n",
       "        vertical-align: middle;\n",
       "    }\n",
       "\n",
       "    .dataframe tbody tr th {\n",
       "        vertical-align: top;\n",
       "    }\n",
       "\n",
       "    .dataframe thead th {\n",
       "        text-align: right;\n",
       "    }\n",
       "</style>\n",
       "<table border=\"1\" class=\"dataframe\">\n",
       "  <thead>\n",
       "    <tr style=\"text-align: right;\">\n",
       "      <th></th>\n",
       "      <th>Time</th>\n",
       "      <th>Headlines</th>\n",
       "      <th>hl_score</th>\n",
       "    </tr>\n",
       "  </thead>\n",
       "  <tbody>\n",
       "    <tr>\n",
       "      <th>0</th>\n",
       "      <td>18-Jul-20</td>\n",
       "      <td>johnson ask santa christma recoveri</td>\n",
       "      <td>Neutral</td>\n",
       "    </tr>\n",
       "    <tr>\n",
       "      <th>1</th>\n",
       "      <td>18-Jul-20</td>\n",
       "      <td>‘ fear bad ’ four grim tale work life upend co...</td>\n",
       "      <td>Negative</td>\n",
       "    </tr>\n",
       "    <tr>\n",
       "      <th>2</th>\n",
       "      <td>18-Jul-20</td>\n",
       "      <td>five key area sunak must tackl serv econom rec...</td>\n",
       "      <td>Neutral</td>\n",
       "    </tr>\n",
       "    <tr>\n",
       "      <th>3</th>\n",
       "      <td>18-Jul-20</td>\n",
       "      <td>covid19 leav firm ‘ fatal illprepar ’ nodeal b...</td>\n",
       "      <td>Negative</td>\n",
       "    </tr>\n",
       "    <tr>\n",
       "      <th>4</th>\n",
       "      <td>18-Jul-20</td>\n",
       "      <td>week patriarchi bacardi ladi vodka late long l...</td>\n",
       "      <td>Negative</td>\n",
       "    </tr>\n",
       "    <tr>\n",
       "      <th>...</th>\n",
       "      <td>...</td>\n",
       "      <td>...</td>\n",
       "      <td>...</td>\n",
       "    </tr>\n",
       "    <tr>\n",
       "      <th>32668</th>\n",
       "      <td>Mar 20 2018</td>\n",
       "      <td>malaysia say never hire british data firm cent...</td>\n",
       "      <td>Neutral</td>\n",
       "    </tr>\n",
       "    <tr>\n",
       "      <th>32669</th>\n",
       "      <td>Mar 20 2018</td>\n",
       "      <td>prosecutor search volkswagen headquart new emi...</td>\n",
       "      <td>Neutral</td>\n",
       "    </tr>\n",
       "    <tr>\n",
       "      <th>32670</th>\n",
       "      <td>Mar 20 2018</td>\n",
       "      <td>mcdonald set greenhous ga reduct target</td>\n",
       "      <td>Neutral</td>\n",
       "    </tr>\n",
       "    <tr>\n",
       "      <th>32671</th>\n",
       "      <td>Mar 20 2018</td>\n",
       "      <td>pratt whitney deliv spare a320neo engin soon i...</td>\n",
       "      <td>Neutral</td>\n",
       "    </tr>\n",
       "    <tr>\n",
       "      <th>32672</th>\n",
       "      <td>Mar 20 2018</td>\n",
       "      <td>uk alway consid way improv data law pm may spo...</td>\n",
       "      <td>Neutral</td>\n",
       "    </tr>\n",
       "  </tbody>\n",
       "</table>\n",
       "<p>53258 rows × 3 columns</p>\n",
       "</div>"
      ],
      "text/plain": [
       "              Time                                          Headlines  \\\n",
       "0        18-Jul-20                johnson ask santa christma recoveri   \n",
       "1        18-Jul-20  ‘ fear bad ’ four grim tale work life upend co...   \n",
       "2        18-Jul-20  five key area sunak must tackl serv econom rec...   \n",
       "3        18-Jul-20  covid19 leav firm ‘ fatal illprepar ’ nodeal b...   \n",
       "4        18-Jul-20  week patriarchi bacardi ladi vodka late long l...   \n",
       "...            ...                                                ...   \n",
       "32668  Mar 20 2018  malaysia say never hire british data firm cent...   \n",
       "32669  Mar 20 2018  prosecutor search volkswagen headquart new emi...   \n",
       "32670  Mar 20 2018            mcdonald set greenhous ga reduct target   \n",
       "32671  Mar 20 2018  pratt whitney deliv spare a320neo engin soon i...   \n",
       "32672  Mar 20 2018  uk alway consid way improv data law pm may spo...   \n",
       "\n",
       "       hl_score  \n",
       "0       Neutral  \n",
       "1      Negative  \n",
       "2       Neutral  \n",
       "3      Negative  \n",
       "4      Negative  \n",
       "...         ...  \n",
       "32668   Neutral  \n",
       "32669   Neutral  \n",
       "32670   Neutral  \n",
       "32671   Neutral  \n",
       "32672   Neutral  \n",
       "\n",
       "[53258 rows x 3 columns]"
      ]
     },
     "execution_count": 202,
     "metadata": {},
     "output_type": "execute_result"
    }
   ],
   "source": [
    "# apply the function  which decides sentiment to  polarity score column\n",
    "all_headlines['hl_score'] = all_headlines['hl_score'].apply(get_analysis)\n",
    "all_headlines"
   ]
  },
  {
   "cell_type": "code",
   "execution_count": 203,
   "metadata": {
    "colab": {
     "base_uri": "https://localhost:8080/",
     "height": 300
    },
    "id": "NiIoQpS1AgIg",
    "outputId": "63d38ec2-8500-425a-f99b-3d6c60c88e08"
   },
   "outputs": [
    {
     "data": {
      "text/plain": [
       "<AxesSubplot:xlabel='hl_score', ylabel='count'>"
      ]
     },
     "execution_count": 203,
     "metadata": {},
     "output_type": "execute_result"
    },
    {
     "data": {
      "image/png": "[encoded data removed]",
      "text/plain": [
       "<Figure size 640x480 with 1 Axes>"
      ]
     },
     "metadata": {},
     "output_type": "display_data"
    }
   ],
   "source": [
    "#perform countplot on headline score column\n",
    "sns.countplot(data = all_headlines, x = \"hl_score\")\n"
   ]
  },
  {
   "cell_type": "markdown",
   "metadata": {
    "id": "LDnyTYgCzzOs"
   },
   "source": [
    "In the headlines\n",
    "\n",
    "there are approx\n",
    "\n",
    "14000 positive statment\n",
    "\n",
    "16000 negative statment\n",
    "\n",
    "24000 neutral statment"
   ]
  },
  {
   "cell_type": "code",
   "execution_count": 204,
   "metadata": {
    "colab": {
     "base_uri": "https://localhost:8080/",
     "height": 542
    },
    "id": "0do52B-enPVe",
    "outputId": "6b88ed3f-c5a5-4c5c-d56a-d3ab60d61043"
   },
   "outputs": [
    {
     "data": {
      "image/png": "[encoded data removed]",
      "text/plain": [
       "<Figure size 640x480 with 1 Axes>"
      ]
     },
     "metadata": {},
     "output_type": "display_data"
    }
   ],
   "source": [
    "#perform pie digram on headline score column\n",
    "plt.pie(x = all_headlines['hl_score'].value_counts(), labels=all_headlines['hl_score'].value_counts().index, autopct='%1.1f%%')\n",
    "plt.title('Pie chart of different sentiments')\n",
    "plt.show()\n"
   ]
  },
  {
   "cell_type": "markdown",
   "metadata": {
    "id": "8kckcYtg0DW6"
   },
   "source": [
    "In the dataset\n",
    "\n",
    "headlines contains\n",
    "\n",
    "24.8% positive statments\n",
    "\n",
    "30.3% negtive statements\n",
    "\n",
    "44.9% neutral statments"
   ]
  },
  {
   "cell_type": "markdown",
   "metadata": {
    "id": "xldbLpNQgfG-"
   },
   "source": [
    "# Modeling on headlines"
   ]
  },
  {
   "cell_type": "code",
   "execution_count": 205,
   "metadata": {},
   "outputs": [],
   "source": [
    "X = all_headlines['Headlines']\n",
    "y = all_headlines['hl_score']"
   ]
  },
  {
   "cell_type": "code",
   "execution_count": 206,
   "metadata": {
    "id": "T1v5tZHj4xk7"
   },
   "outputs": [],
   "source": [
    "# split the dataset  into test and train \n",
    "# 90% train , 10% test and random state 212\n",
    "X_train, X_test, y_train, y_test = train_test_split(X, y, test_size=0.1, random_state=212)\n"
   ]
  },
  {
   "cell_type": "markdown",
   "metadata": {
    "id": "x4bzS8ZiiZ5I"
   },
   "source": [
    "LINEAR SUPPORT VECTOR MACHINE"
   ]
  },
  {
   "cell_type": "code",
   "execution_count": 207,
   "metadata": {
    "colab": {
     "base_uri": "https://localhost:8080/"
    },
    "id": "ajb1LxXxhsKS",
    "outputId": "cb27a48f-370d-4172-8656-588fdaafd59c"
   },
   "outputs": [
    {
     "name": "stdout",
     "output_type": "stream",
     "text": [
      "Model = Linear SVC\n",
      "accuracy score is 97.45 %\n",
      "[[1572   37   40]\n",
      " [   2 2321    3]\n",
      " [  41   13 1297]]\n",
      "              precision    recall  f1-score   support\n",
      "\n",
      "    Negative       0.97      0.95      0.96      1649\n",
      "     Neutral       0.98      1.00      0.99      2326\n",
      "    Positive       0.97      0.96      0.96      1351\n",
      "\n",
      "    accuracy                           0.97      5326\n",
      "   macro avg       0.97      0.97      0.97      5326\n",
      "weighted avg       0.97      0.97      0.97      5326\n",
      "\n",
      "Wall time: 2.16 s\n"
     ]
    }
   ],
   "source": [
    "%%time\n",
    "# pipeline creation\n",
    "# 1. tfidVectorization\n",
    "# 2. linearSVC model\n",
    "pipe = Pipeline([('tfidf',TfidfVectorizer()),\n",
    "                ('model',LinearSVC())])\n",
    "\n",
    "\n",
    "# Fit the pipeline to the data\n",
    "linear_svc_model = pipe.fit(X_train, y_train)\n",
    "# predict on test dataset\n",
    "prediction = linear_svc_model.predict(X_test)\n",
    "\n",
    "print(\"Model = Linear SVC\")\n",
    "# print accuracy score\n",
    "print(f\"accuracy score is {round(accuracy_score(y_test,prediction)*100,2)} %\")\n",
    "\n",
    "#print confusion matrix\n",
    "print(confusion_matrix(y_test,prediction))\n",
    "#print classification report\n",
    "print(classification_report(y_test,prediction))"
   ]
  },
  {
   "cell_type": "markdown",
   "metadata": {
    "id": "MSeXO8a1iePB"
   },
   "source": [
    "LOGISTIC REGRESSION"
   ]
  },
  {
   "cell_type": "code",
   "execution_count": 208,
   "metadata": {
    "colab": {
     "base_uri": "https://localhost:8080/"
    },
    "id": "nU4V-w3vhsHi",
    "outputId": "c0dd3cf0-96c0-457e-8621-1d83ef92d7c6"
   },
   "outputs": [
    {
     "name": "stderr",
     "output_type": "stream",
     "text": [
      "C:\\Users\\Muskan\\anaconda3\\lib\\site-packages\\sklearn\\linear_model\\_logistic.py:814: ConvergenceWarning: lbfgs failed to converge (status=1):\n",
      "STOP: TOTAL NO. of ITERATIONS REACHED LIMIT.\n",
      "\n",
      "Increase the number of iterations (max_iter) or scale the data as shown in:\n",
      "    https://scikit-learn.org/stable/modules/preprocessing.html\n",
      "Please also refer to the documentation for alternative solver options:\n",
      "    https://scikit-learn.org/stable/modules/linear_model.html#logistic-regression\n",
      "  n_iter_i = _check_optimize_result(\n"
     ]
    },
    {
     "name": "stdout",
     "output_type": "stream",
     "text": [
      "Model - Logistic Regression\n",
      "accuracy score is 94.18 %\n",
      "[[1479  118   52]\n",
      " [   3 2321    2]\n",
      " [  58   77 1216]]\n",
      "              precision    recall  f1-score   support\n",
      "\n",
      "    Negative       0.96      0.90      0.93      1649\n",
      "     Neutral       0.92      1.00      0.96      2326\n",
      "    Positive       0.96      0.90      0.93      1351\n",
      "\n",
      "    accuracy                           0.94      5326\n",
      "   macro avg       0.95      0.93      0.94      5326\n",
      "weighted avg       0.94      0.94      0.94      5326\n",
      "\n",
      "Wall time: 5.91 s\n"
     ]
    }
   ],
   "source": [
    "%%time\n",
    "# pipeline creation \n",
    "# 1. CountVectorization\n",
    "# 2. TfidTransformer\n",
    "# 3. Logistic Regression\n",
    "pipe = Pipeline([('vector', CountVectorizer()),\n",
    "                ('tfidf',TfidfTransformer()),\n",
    "                ('model', LogisticRegression())])\n",
    "\n",
    "# fit the pipeline to the train data\n",
    "log_model = pipe.fit(X_train,y_train)\n",
    "\n",
    "# predict on test dataset\n",
    "prediction = log_model.predict(X_test)\n",
    "\n",
    "print(\"Model - Logistic Regression\")\n",
    "# print accuracy score\n",
    "print(f\"accuracy score is {round(accuracy_score(y_test,prediction)*100,2)} %\")\n",
    "\n",
    "#print confusion matrix\n",
    "print(confusion_matrix(y_test,prediction))\n",
    "#print classification report\n",
    "print(classification_report(y_test,prediction))"
   ]
  },
  {
   "cell_type": "markdown",
   "metadata": {
    "id": "uX2i2JIwiiAk"
   },
   "source": [
    "MULTINOMIAL NAIVE BAYES\n"
   ]
  },
  {
   "cell_type": "code",
   "execution_count": 209,
   "metadata": {
    "colab": {
     "base_uri": "https://localhost:8080/"
    },
    "id": "yaq-D8-qhsFH",
    "outputId": "bba6992b-7119-406e-bf64-357b8fec4466"
   },
   "outputs": [
    {
     "name": "stdout",
     "output_type": "stream",
     "text": [
      "Model - Multinomial Naive Bayes\n",
      "accuracy score is 84.28 %\n",
      "[[1367  208   74]\n",
      " [  51 2251   24]\n",
      " [ 200  280  871]]\n",
      "              precision    recall  f1-score   support\n",
      "\n",
      "    Negative       0.84      0.83      0.84      1649\n",
      "     Neutral       0.82      0.97      0.89      2326\n",
      "    Positive       0.90      0.64      0.75      1351\n",
      "\n",
      "    accuracy                           0.84      5326\n",
      "   macro avg       0.86      0.81      0.83      5326\n",
      "weighted avg       0.85      0.84      0.84      5326\n",
      "\n",
      "Wall time: 1.46 s\n"
     ]
    }
   ],
   "source": [
    "%%time\n",
    "# pipeline creation \n",
    "# 1. CountVectorizer\n",
    "# 2. TfidTransformer\n",
    "# 3. MultinomialNB\n",
    "pipe = Pipeline([('vector', CountVectorizer()),\n",
    "                ('tfidf',TfidfTransformer()),\n",
    "                ('model', MultinomialNB())])\n",
    "\n",
    "# fit the pipeline to the train data\n",
    "multinomialNB_model = pipe.fit(X_train,y_train)\n",
    "\n",
    "# predict on test dataset\n",
    "prediction = multinomialNB_model.predict(X_test)\n",
    "\n",
    "print(\"Model - Multinomial Naive Bayes\")\n",
    "# print accuracy score\n",
    "print(f\"accuracy score is {round(accuracy_score(y_test,prediction)*100,2)} %\")\n",
    "\n",
    "#print confusion matrix\n",
    "print(confusion_matrix(y_test,prediction))\n",
    "#print classification report\n",
    "print(classification_report(y_test,prediction))\n"
   ]
  },
  {
   "cell_type": "markdown",
   "metadata": {
    "id": "67D7-TNXil6t"
   },
   "source": [
    "BERNOULLI NAIVE BAYES\n"
   ]
  },
  {
   "cell_type": "code",
   "execution_count": 210,
   "metadata": {
    "colab": {
     "base_uri": "https://localhost:8080/"
    },
    "id": "I-RnJCDxhsB6",
    "outputId": "cf6d532c-f119-4fa8-e8e9-ced33b3129e6"
   },
   "outputs": [
    {
     "name": "stdout",
     "output_type": "stream",
     "text": [
      "Model - Bernoulli Naive Bayes \n",
      "accuracy score is 88.96 %\n",
      "[[1451   66  132]\n",
      " [ 106 2146   74]\n",
      " [ 163   47 1141]]\n",
      "              precision    recall  f1-score   support\n",
      "\n",
      "    Negative       0.84      0.88      0.86      1649\n",
      "     Neutral       0.95      0.92      0.94      2326\n",
      "    Positive       0.85      0.84      0.85      1351\n",
      "\n",
      "    accuracy                           0.89      5326\n",
      "   macro avg       0.88      0.88      0.88      5326\n",
      "weighted avg       0.89      0.89      0.89      5326\n",
      "\n",
      "Wall time: 1.24 s\n"
     ]
    }
   ],
   "source": [
    "%%time\n",
    "# pipeline creation \n",
    "# 1. CountVectorizer\n",
    "# 2. TfidTransformer\n",
    "# 3. BernoulliNB\n",
    "\n",
    "pipe = Pipeline([('vector', CountVectorizer()),\n",
    "                ('tfidf',TfidfTransformer()),\n",
    "                ('model', BernoulliNB())])\n",
    "\n",
    "# fit the pipeline to the train data\n",
    "BernoulliNB_model = pipe.fit(X_train,y_train)\n",
    "\n",
    "# predict on test dataset\n",
    "prediction = BernoulliNB_model.predict(X_test)\n",
    "\n",
    "print(\"Model - Bernoulli Naive Bayes \")\n",
    "# print accuracy score\n",
    "print(f\"accuracy score is {round(accuracy_score(y_test,prediction)*100,2)} %\")\n",
    "\n",
    "#print confusion matrix\n",
    "print(confusion_matrix(y_test,prediction))\n",
    "#print classification report\n",
    "print(classification_report(y_test,prediction))"
   ]
  },
  {
   "cell_type": "markdown",
   "metadata": {
    "id": "8GUtphU3i5fP"
   },
   "source": [
    "GRADIENT BOOSTING CLASSIFICATION MODEL\n"
   ]
  },
  {
   "cell_type": "code",
   "execution_count": 211,
   "metadata": {
    "colab": {
     "base_uri": "https://localhost:8080/"
    },
    "id": "KSfng2DphsAG",
    "outputId": "d3f96a64-515c-4996-cb98-8723ec613ad5"
   },
   "outputs": [
    {
     "name": "stdout",
     "output_type": "stream",
     "text": [
      "Model - GRADIENT BOOSTING CLASSIFICATION \n",
      "accuracy score is 43.67 %\n",
      "[[   0 1649    0]\n",
      " [   0 2326    0]\n",
      " [   0 1351    0]]\n",
      "              precision    recall  f1-score   support\n",
      "\n",
      "    Negative       0.00      0.00      0.00      1649\n",
      "     Neutral       0.44      1.00      0.61      2326\n",
      "    Positive       0.00      0.00      0.00      1351\n",
      "\n",
      "    accuracy                           0.44      5326\n",
      "   macro avg       0.15      0.33      0.20      5326\n",
      "weighted avg       0.19      0.44      0.27      5326\n",
      "\n",
      "Wall time: 12.9 s\n"
     ]
    },
    {
     "name": "stderr",
     "output_type": "stream",
     "text": [
      "C:\\Users\\Muskan\\anaconda3\\lib\\site-packages\\sklearn\\metrics\\_classification.py:1318: UndefinedMetricWarning: Precision and F-score are ill-defined and being set to 0.0 in labels with no predicted samples. Use `zero_division` parameter to control this behavior.\n",
      "  _warn_prf(average, modifier, msg_start, len(result))\n",
      "C:\\Users\\Muskan\\anaconda3\\lib\\site-packages\\sklearn\\metrics\\_classification.py:1318: UndefinedMetricWarning: Precision and F-score are ill-defined and being set to 0.0 in labels with no predicted samples. Use `zero_division` parameter to control this behavior.\n",
      "  _warn_prf(average, modifier, msg_start, len(result))\n",
      "C:\\Users\\Muskan\\anaconda3\\lib\\site-packages\\sklearn\\metrics\\_classification.py:1318: UndefinedMetricWarning: Precision and F-score are ill-defined and being set to 0.0 in labels with no predicted samples. Use `zero_division` parameter to control this behavior.\n",
      "  _warn_prf(average, modifier, msg_start, len(result))\n"
     ]
    }
   ],
   "source": [
    "%%time\n",
    "# pipeline creation \n",
    "# 1. CountVectorizer\n",
    "# 2. TfidTransformer\n",
    "# 3. GradientBoostingClassifier\n",
    "pipe = Pipeline([('vector', CountVectorizer()),\n",
    "                ('tfidf',TfidfTransformer()),\n",
    "                ('model', GradientBoostingClassifier(loss='deviance',\n",
    "                                                    learning_rate=0.01,\n",
    "                                                    n_estimators=10,\n",
    "                                                    max_depth=5,\n",
    "                                                    random_state=55))])\n",
    "\n",
    "# fit the pipeline to the train data\n",
    "GB_model = pipe.fit(X_train,y_train)\n",
    "\n",
    "# predict on test dataset\n",
    "prediction = GB_model.predict(X_test)\n",
    "\n",
    "print(\"Model - GRADIENT BOOSTING CLASSIFICATION \")\n",
    "# print accuracy score\n",
    "print(f\"accuracy score is {round(accuracy_score(y_test,prediction)*100,2)} %\")\n",
    "\n",
    "#print confusion matrix\n",
    "print(confusion_matrix(y_test,prediction))\n",
    "#print classification report\n",
    "print(classification_report(y_test,prediction))"
   ]
  },
  {
   "cell_type": "markdown",
   "metadata": {
    "id": "N-ucxwSqixk7"
   },
   "source": [
    "XGBOOST CLASSIFICATION MODEL\n"
   ]
  },
  {
   "cell_type": "code",
   "execution_count": 212,
   "metadata": {
    "colab": {
     "base_uri": "https://localhost:8080/"
    },
    "id": "nQg5zgOi4xid",
    "outputId": "b210a603-815c-458c-c82f-f026bd4d254e"
   },
   "outputs": [
    {
     "name": "stdout",
     "output_type": "stream",
     "text": [
      "Model - XGBOOST CLASSIFICATION CLASSIFICATION \n",
      "accuracy score is 90.74 %\n",
      "[[1374  223   52]\n",
      " [   1 2322    3]\n",
      " [  45  169 1137]]\n",
      "              precision    recall  f1-score   support\n",
      "\n",
      "           0       0.97      0.83      0.90      1649\n",
      "           1       0.86      1.00      0.92      2326\n",
      "           2       0.95      0.84      0.89      1351\n",
      "\n",
      "    accuracy                           0.91      5326\n",
      "   macro avg       0.93      0.89      0.90      5326\n",
      "weighted avg       0.92      0.91      0.91      5326\n",
      "\n",
      "Wall time: 1min 15s\n"
     ]
    }
   ],
   "source": [
    "%%time\n",
    "# pipeline creation \n",
    "# 1. CountVectorizer\n",
    "# 2. TfidTransformer\n",
    "# 3. XGBClassifier\n",
    "\n",
    "from sklearn.preprocessing import LabelEncoder\n",
    "# Create a label encoder\n",
    "label_encoder = LabelEncoder()\n",
    "\n",
    "# Fit and transform the labels in your target variable\n",
    "y_train_encoded = label_encoder.fit_transform(y_train)\n",
    "y_test_encoded = label_encoder.transform(y_test)\n",
    "\n",
    "pipe = Pipeline([('vector', CountVectorizer()),\n",
    "                ('tfidf',TfidfTransformer()),\n",
    "                ('model', XGBClassifier())])\n",
    "\n",
    "# fit the pipeline to the train data\n",
    "XGB_model = pipe.fit(X_train,y_train_encoded)\n",
    "\n",
    "# predict on test dataset\n",
    "prediction = XGB_model.predict(X_test)\n",
    "\n",
    "print(\"Model - XGBOOST CLASSIFICATION CLASSIFICATION \")\n",
    "# print accuracy score\n",
    "print(f\"accuracy score is {round(accuracy_score(y_test_encoded,prediction)*100,2)} %\")\n",
    "\n",
    "#print confusion matrix\n",
    "print(confusion_matrix(y_test_encoded,prediction))\n",
    "#print classification report\n",
    "print(classification_report(y_test_encoded,prediction))"
   ]
  },
  {
   "cell_type": "markdown",
   "metadata": {
    "id": "u_N_BrWyjABA"
   },
   "source": [
    "DECISION TREE CLASSIFICATION MODEL\n"
   ]
  },
  {
   "cell_type": "code",
   "execution_count": 213,
   "metadata": {
    "colab": {
     "base_uri": "https://localhost:8080/"
    },
    "id": "IvA6LRen4xeh",
    "outputId": "4e614ba8-83e6-4360-d87b-9d8b63ac3659"
   },
   "outputs": [
    {
     "name": "stdout",
     "output_type": "stream",
     "text": [
      "Model - Decision Tree \n",
      "accuracy score is 95.78 %\n",
      "[[1537   19   93]\n",
      " [   3 2320    3]\n",
      " [ 102    5 1244]]\n",
      "              precision    recall  f1-score   support\n",
      "\n",
      "    Negative       0.94      0.93      0.93      1649\n",
      "     Neutral       0.99      1.00      0.99      2326\n",
      "    Positive       0.93      0.92      0.92      1351\n",
      "\n",
      "    accuracy                           0.96      5326\n",
      "   macro avg       0.95      0.95      0.95      5326\n",
      "weighted avg       0.96      0.96      0.96      5326\n",
      "\n",
      "Wall time: 30.4 s\n"
     ]
    }
   ],
   "source": [
    "%%time\n",
    "# pipeline creation \n",
    "# 1. CountVectorizer\n",
    "# 2. TfidTransformer\n",
    "# 3. Decision tree classifier\n",
    "\n",
    "pipe = Pipeline([('vector', CountVectorizer()),\n",
    "                ('tfidf',TfidfTransformer()),\n",
    "                ('model', DecisionTreeClassifier())])\n",
    "\n",
    "# fit the pipeline to the train data\n",
    "Decision_model = pipe.fit(X_train,y_train)\n",
    "\n",
    "# predict on test dataset\n",
    "prediction = Decision_model.predict(X_test)\n",
    "\n",
    "print(\"Model - Decision Tree \")\n",
    "# print accuracy score\n",
    "print(f\"accuracy score is {round(accuracy_score(y_test,prediction)*100,2)} %\")\n",
    "\n",
    "#print confusion matrix\n",
    "print(confusion_matrix(y_test,prediction))\n",
    "#print classification report\n",
    "print(classification_report(y_test,prediction))"
   ]
  },
  {
   "cell_type": "markdown",
   "metadata": {
    "id": "ez0xd3SmjDAU"
   },
   "source": [
    "K- NEAREST NEIGHBOUR CLASSIFIER MODEL\n"
   ]
  },
  {
   "cell_type": "code",
   "execution_count": 214,
   "metadata": {
    "colab": {
     "base_uri": "https://localhost:8080/"
    },
    "id": "G7Y6zavB4xcc",
    "outputId": "f2bee906-2302-4905-8554-2e9f13b98f85"
   },
   "outputs": [
    {
     "name": "stdout",
     "output_type": "stream",
     "text": [
      "Model - K- NEAREST NEIGHBOUR  \n",
      "accuracy score is 65.38 %\n",
      "[[ 918  589  142]\n",
      " [ 248 1925  153]\n",
      " [ 160  552  639]]\n",
      "              precision    recall  f1-score   support\n",
      "\n",
      "    Negative       0.69      0.56      0.62      1649\n",
      "     Neutral       0.63      0.83      0.71      2326\n",
      "    Positive       0.68      0.47      0.56      1351\n",
      "\n",
      "    accuracy                           0.65      5326\n",
      "   macro avg       0.67      0.62      0.63      5326\n",
      "weighted avg       0.66      0.65      0.64      5326\n",
      "\n",
      "Wall time: 12.6 s\n"
     ]
    }
   ],
   "source": [
    "%%time\n",
    "# pipeline creation \n",
    "# 1. CountVectorizer\n",
    "# 2. TfidTransformer\n",
    "# 3. KNN classifier\n",
    "\n",
    "pipe = Pipeline([('vector', CountVectorizer()),\n",
    "                ('tfidf',TfidfTransformer()),\n",
    "                ('model', KNeighborsClassifier(n_neighbors=10,\n",
    "                                                    weights='distance'))])\n",
    "\n",
    "# fit the pipeline to the train data\n",
    "KNN_model = pipe.fit(X_train,y_train)\n",
    "\n",
    "# predict on test dataset\n",
    "prediction = KNN_model.predict(X_test)\n",
    "\n",
    "print(\"Model - K- NEAREST NEIGHBOUR  \")\n",
    "# print accuracy score\n",
    "print(f\"accuracy score is {round(accuracy_score(y_test,prediction)*100,2)} %\")\n",
    "\n",
    "#print confusion matrix\n",
    "print(confusion_matrix(y_test,prediction))\n",
    "#print classification report\n",
    "print(classification_report(y_test,prediction))"
   ]
  },
  {
   "cell_type": "code",
   "execution_count": 215,
   "metadata": {
    "id": "ncLiLHw6rNFP"
   },
   "outputs": [],
   "source": [
    "# helper function for comparing models matric\n",
    "def compare_models(models, names, X_train, y_train,X_test, y_test):\n",
    "    \n",
    "    # the libraries we need\n",
    "    import sklearn.metrics as metrics\n",
    "    from sklearn.model_selection import train_test_split\n",
    "\n",
    "    # create a dataframe with column matric and metric name as value\n",
    "    for(model,name) in zip(models,names):\n",
    "        print(name)\n",
    "        y_pred = model.predict(X_test)\n",
    "    # then predict on the test set\n",
    "        res = classification_report(y_test,y_pred)\n",
    "        print(\"classification report \\n\", res)\n",
    "        print(\"-------------------------------------------------------------------------------------------\")"
   ]
  },
  {
   "cell_type": "code",
   "execution_count": 216,
   "metadata": {
    "colab": {
     "base_uri": "https://localhost:8080/"
    },
    "id": "FspHXt4ZrdWV",
    "outputId": "5809c57d-b69f-42fa-be05-3a8f4ebba491"
   },
   "outputs": [
    {
     "name": "stdout",
     "output_type": "stream",
     "text": [
      "linearSVC\n",
      "classification report \n",
      "               precision    recall  f1-score   support\n",
      "\n",
      "    Negative       0.97      0.95      0.96      1649\n",
      "     Neutral       0.98      1.00      0.99      2326\n",
      "    Positive       0.97      0.96      0.96      1351\n",
      "\n",
      "    accuracy                           0.97      5326\n",
      "   macro avg       0.97      0.97      0.97      5326\n",
      "weighted avg       0.97      0.97      0.97      5326\n",
      "\n",
      "-------------------------------------------------------------------------------------------\n",
      "logistic\n",
      "classification report \n",
      "               precision    recall  f1-score   support\n",
      "\n",
      "    Negative       0.96      0.90      0.93      1649\n",
      "     Neutral       0.92      1.00      0.96      2326\n",
      "    Positive       0.96      0.90      0.93      1351\n",
      "\n",
      "    accuracy                           0.94      5326\n",
      "   macro avg       0.95      0.93      0.94      5326\n",
      "weighted avg       0.94      0.94      0.94      5326\n",
      "\n",
      "-------------------------------------------------------------------------------------------\n",
      "MultinomialNB\n",
      "classification report \n",
      "               precision    recall  f1-score   support\n",
      "\n",
      "    Negative       0.84      0.83      0.84      1649\n",
      "     Neutral       0.82      0.97      0.89      2326\n",
      "    Positive       0.90      0.64      0.75      1351\n",
      "\n",
      "    accuracy                           0.84      5326\n",
      "   macro avg       0.86      0.81      0.83      5326\n",
      "weighted avg       0.85      0.84      0.84      5326\n",
      "\n",
      "-------------------------------------------------------------------------------------------\n",
      "BernoulliNB\n",
      "classification report \n",
      "               precision    recall  f1-score   support\n",
      "\n",
      "    Negative       0.84      0.88      0.86      1649\n",
      "     Neutral       0.95      0.92      0.94      2326\n",
      "    Positive       0.85      0.84      0.85      1351\n",
      "\n",
      "    accuracy                           0.89      5326\n",
      "   macro avg       0.88      0.88      0.88      5326\n",
      "weighted avg       0.89      0.89      0.89      5326\n",
      "\n",
      "-------------------------------------------------------------------------------------------\n",
      "gardientboost\n"
     ]
    },
    {
     "name": "stderr",
     "output_type": "stream",
     "text": [
      "C:\\Users\\Muskan\\anaconda3\\lib\\site-packages\\sklearn\\metrics\\_classification.py:1318: UndefinedMetricWarning: Precision and F-score are ill-defined and being set to 0.0 in labels with no predicted samples. Use `zero_division` parameter to control this behavior.\n",
      "  _warn_prf(average, modifier, msg_start, len(result))\n",
      "C:\\Users\\Muskan\\anaconda3\\lib\\site-packages\\sklearn\\metrics\\_classification.py:1318: UndefinedMetricWarning: Precision and F-score are ill-defined and being set to 0.0 in labels with no predicted samples. Use `zero_division` parameter to control this behavior.\n",
      "  _warn_prf(average, modifier, msg_start, len(result))\n",
      "C:\\Users\\Muskan\\anaconda3\\lib\\site-packages\\sklearn\\metrics\\_classification.py:1318: UndefinedMetricWarning: Precision and F-score are ill-defined and being set to 0.0 in labels with no predicted samples. Use `zero_division` parameter to control this behavior.\n",
      "  _warn_prf(average, modifier, msg_start, len(result))\n"
     ]
    },
    {
     "name": "stdout",
     "output_type": "stream",
     "text": [
      "classification report \n",
      "               precision    recall  f1-score   support\n",
      "\n",
      "    Negative       0.00      0.00      0.00      1649\n",
      "     Neutral       0.44      1.00      0.61      2326\n",
      "    Positive       0.00      0.00      0.00      1351\n",
      "\n",
      "    accuracy                           0.44      5326\n",
      "   macro avg       0.15      0.33      0.20      5326\n",
      "weighted avg       0.19      0.44      0.27      5326\n",
      "\n",
      "-------------------------------------------------------------------------------------------\n",
      "decisiontree\n",
      "classification report \n",
      "               precision    recall  f1-score   support\n",
      "\n",
      "    Negative       0.94      0.93      0.93      1649\n",
      "     Neutral       0.99      1.00      0.99      2326\n",
      "    Positive       0.93      0.92      0.92      1351\n",
      "\n",
      "    accuracy                           0.96      5326\n",
      "   macro avg       0.95      0.95      0.95      5326\n",
      "weighted avg       0.96      0.96      0.96      5326\n",
      "\n",
      "-------------------------------------------------------------------------------------------\n",
      "KNN\n",
      "classification report \n",
      "               precision    recall  f1-score   support\n",
      "\n",
      "    Negative       0.69      0.56      0.62      1649\n",
      "     Neutral       0.63      0.83      0.71      2326\n",
      "    Positive       0.68      0.47      0.56      1351\n",
      "\n",
      "    accuracy                           0.65      5326\n",
      "   macro avg       0.67      0.62      0.63      5326\n",
      "weighted avg       0.66      0.65      0.64      5326\n",
      "\n",
      "-------------------------------------------------------------------------------------------\n"
     ]
    }
   ],
   "source": [
    "# list of model objects\n",
    "models = [linear_svc_model, log_model, multinomialNB_model, BernoulliNB_model, GB_model, \n",
    "          Decision_model, KNN_model]\n",
    "# list of model names\n",
    "names = ['linearSVC','logistic','MultinomialNB','BernoulliNB','gardientboost','decisiontree','KNN']\n",
    "# print the comparison of models\n",
    "compare_models(models, names, X_train,y_train,X_test,y_test)"
   ]
  },
  {
   "cell_type": "markdown",
   "metadata": {
    "id": "gsQKs2r_lSaz"
   },
   "source": [
    "# now working with test data"
   ]
  },
  {
   "cell_type": "code",
   "execution_count": 217,
   "metadata": {
    "colab": {
     "base_uri": "https://localhost:8080/"
    },
    "id": "VSSPcY-VjFyc",
    "outputId": "5a164a05-ba61-41b0-dd45-c049948dc9be"
   },
   "outputs": [
    {
     "data": {
      "text/plain": [
       "array(['Positive', 'Negative', 'Neutral', ..., 'Neutral', 'Positive',\n",
       "       'Positive'], dtype=object)"
      ]
     },
     "execution_count": 217,
     "metadata": {},
     "output_type": "execute_result"
    }
   ],
   "source": [
    "# Perforn the prediction on the test dataset\n",
    "y_predicted = linear_svc_model.predict(X_test)\n",
    "y_predicted"
   ]
  },
  {
   "cell_type": "code",
   "execution_count": 218,
   "metadata": {
    "id": "HZH2_2KZjFwO"
   },
   "outputs": [],
   "source": [
    "# creating a dataframe of predicted results \n",
    "predictions = pd.DataFrame(y_predicted)"
   ]
  },
  {
   "cell_type": "code",
   "execution_count": 219,
   "metadata": {
    "colab": {
     "base_uri": "https://localhost:8080/",
     "height": 202
    },
    "id": "kw5ac2WWjFta",
    "outputId": "38dd551d-78a3-4b96-9324-aaa6776ef4a2"
   },
   "outputs": [
    {
     "data": {
      "text/html": [
       "<div>\n",
       "<style scoped>\n",
       "    .dataframe tbody tr th:only-of-type {\n",
       "        vertical-align: middle;\n",
       "    }\n",
       "\n",
       "    .dataframe tbody tr th {\n",
       "        vertical-align: top;\n",
       "    }\n",
       "\n",
       "    .dataframe thead th {\n",
       "        text-align: right;\n",
       "    }\n",
       "</style>\n",
       "<table border=\"1\" class=\"dataframe\">\n",
       "  <thead>\n",
       "    <tr style=\"text-align: right;\">\n",
       "      <th></th>\n",
       "      <th>0</th>\n",
       "    </tr>\n",
       "  </thead>\n",
       "  <tbody>\n",
       "    <tr>\n",
       "      <th>0</th>\n",
       "      <td>Positive</td>\n",
       "    </tr>\n",
       "    <tr>\n",
       "      <th>1</th>\n",
       "      <td>Negative</td>\n",
       "    </tr>\n",
       "    <tr>\n",
       "      <th>2</th>\n",
       "      <td>Neutral</td>\n",
       "    </tr>\n",
       "    <tr>\n",
       "      <th>3</th>\n",
       "      <td>Negative</td>\n",
       "    </tr>\n",
       "    <tr>\n",
       "      <th>4</th>\n",
       "      <td>Neutral</td>\n",
       "    </tr>\n",
       "    <tr>\n",
       "      <th>...</th>\n",
       "      <td>...</td>\n",
       "    </tr>\n",
       "    <tr>\n",
       "      <th>5321</th>\n",
       "      <td>Negative</td>\n",
       "    </tr>\n",
       "    <tr>\n",
       "      <th>5322</th>\n",
       "      <td>Negative</td>\n",
       "    </tr>\n",
       "    <tr>\n",
       "      <th>5323</th>\n",
       "      <td>Neutral</td>\n",
       "    </tr>\n",
       "    <tr>\n",
       "      <th>5324</th>\n",
       "      <td>Positive</td>\n",
       "    </tr>\n",
       "    <tr>\n",
       "      <th>5325</th>\n",
       "      <td>Positive</td>\n",
       "    </tr>\n",
       "  </tbody>\n",
       "</table>\n",
       "<p>5326 rows × 1 columns</p>\n",
       "</div>"
      ],
      "text/plain": [
       "             0\n",
       "0     Positive\n",
       "1     Negative\n",
       "2      Neutral\n",
       "3     Negative\n",
       "4      Neutral\n",
       "...        ...\n",
       "5321  Negative\n",
       "5322  Negative\n",
       "5323   Neutral\n",
       "5324  Positive\n",
       "5325  Positive\n",
       "\n",
       "[5326 rows x 1 columns]"
      ]
     },
     "execution_count": 219,
     "metadata": {},
     "output_type": "execute_result"
    }
   ],
   "source": [
    "predictions"
   ]
  },
  {
   "cell_type": "markdown",
   "metadata": {
    "id": "6ffMQY_00ufo"
   },
   "source": [
    "# Prediction"
   ]
  },
  {
   "cell_type": "markdown",
   "metadata": {
    "id": "BrQATukn0x2u"
   },
   "source": [
    "you can check the result on real time news headlines\n",
    "\n",
    "Here i have used two fiancial news headlines\n",
    "\n",
    "and predicted its sentiment\n",
    "\n",
    "You can try more "
   ]
  },
  {
   "cell_type": "code",
   "execution_count": 220,
   "metadata": {
    "colab": {
     "base_uri": "https://localhost:8080/"
    },
    "id": "uRUtaAhZ0wwU",
    "outputId": "946e8f9c-6fdc-4d7f-b2a4-72ed559a470c"
   },
   "outputs": [
    {
     "data": {
      "text/plain": [
       "array(['Negative'], dtype=object)"
      ]
     },
     "execution_count": 220,
     "metadata": {},
     "output_type": "execute_result"
    }
   ],
   "source": [
    "sent1 = ['GST officers detect Rs 4,000 crore of ITC fraud in April-June']\n",
    "y_predict = linear_svc_model.predict(sent1)\n",
    "y_predict"
   ]
  },
  {
   "cell_type": "code",
   "execution_count": 221,
   "metadata": {
    "colab": {
     "base_uri": "https://localhost:8080/"
    },
    "id": "_YJqDGt71DGn",
    "outputId": "8265f9b2-4c84-4ada-876e-4b2f3eb1989a"
   },
   "outputs": [
    {
     "data": {
      "text/plain": [
       "array(['Positive'], dtype=object)"
      ]
     },
     "execution_count": 221,
     "metadata": {},
     "output_type": "execute_result"
    }
   ],
   "source": [
    "sent2 = [\"Finance Ministry releases Rs 9,871 crore to 17 states as grant\"]\n",
    "y_predict = linear_svc_model.predict(sent2)\n",
    "y_predict"
   ]
  },
  {
   "cell_type": "markdown",
   "metadata": {
    "id": "No7lHSthFvmj"
   },
   "source": [
    "# Conclusion"
   ]
  },
  {
   "cell_type": "markdown",
   "metadata": {
    "id": "4FRWlgXRFywD"
   },
   "source": [
    "We learn about NLTK, sentiment analysis in this assigment.\n",
    "\n",
    "we conclude that using nltk it is easy to classify financial news and more we improve the traning data more we can get accurate\n"
   ]
  }
 ],
 "metadata": {
  "colab": {
   "collapsed_sections": [],
   "name": "financial_news_without_code.ipynb",
   "provenance": []
  },
  "kernelspec": {
   "display_name": "Python 3 (ipykernel)",
   "language": "python",
   "name": "python3"
  },
  "language_info": {
   "codemirror_mode": {
    "name": "ipython",
    "version": 3
   },
   "file_extension": ".py",
   "mimetype": "text/x-python",
   "name": "python",
   "nbconvert_exporter": "python",
   "pygments_lexer": "ipython3",
   "version": "3.9.13"
  }
 },
 "nbformat": 4,
 "nbformat_minor": 1
}
